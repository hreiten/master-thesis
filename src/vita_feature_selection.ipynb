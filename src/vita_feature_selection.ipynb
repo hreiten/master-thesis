{
 "cells": [
  {
   "cell_type": "code",
   "execution_count": 11,
   "metadata": {},
   "outputs": [
    {
     "name": "stderr",
     "output_type": "stream",
     "text": [
      "randomForest 4.6-14\n",
      "Type rfNews() to see new features/changes/bug fixes.\n"
     ]
    }
   ],
   "source": [
    "library(vita)\n",
    "library(stringr)\n",
    "library(doParallel)\n",
    "library(randomForest)"
   ]
  },
  {
   "cell_type": "code",
   "execution_count": 3,
   "metadata": {},
   "outputs": [
    {
     "data": {
      "text/html": [
       "<table>\n",
       "<thead><tr><th scope=col>timestamp</th><th scope=col>VAL_23.FT.92512.X.Value.average</th><th scope=col>VAL_23.FT.92521.X.Value.average</th><th scope=col>VAL_23.FT.92537.01.X.Value.average</th><th scope=col>VAL_23.FT.96151.X.Value.average</th><th scope=col>VAL_23.FT.96152.X.Value.average</th><th scope=col>VAL_23.FT.96158.X.Value.average</th><th scope=col>VAL_23.FT.96159.X.Value.average</th><th scope=col>VAL_23.KA.9101.M01.62B.X.Value.average</th><th scope=col>VAL_23.KA.9101_APE.VALUE.average</th><th scope=col>⋯</th><th scope=col>VAL_45.PDT.92506.X.Value.average</th><th scope=col>VAL_45.PDT.92606.X.Value.average</th><th scope=col>VAL_45.PT.92508.X.Value.average</th><th scope=col>VAL_45.PT.92608.X.Value.average</th><th scope=col>VAL_45.PT.92609.X.Value.average</th><th scope=col>VAL_45.TT.92506.X.Value.average</th><th scope=col>VAL_45.TT.92508.X.Value.average</th><th scope=col>VAL_45.TT.92606.X.Value.average</th><th scope=col>VAL_45.TT.92607A.X.Value.average</th><th scope=col>VAL_45.TT.92607B.X.Value.average</th></tr></thead>\n",
       "<tbody>\n",
       "\t<tr><td>1.514765e+12</td><td>86513.12    </td><td>4.401998    </td><td>161173.2    </td><td>17.38066    </td><td>27.70608    </td><td>18.39865    </td><td>19.40636    </td><td>9141.690    </td><td>85.09909    </td><td>⋯           </td><td>0.5493244   </td><td>0.4843041   </td><td>2.275901    </td><td>3.702201    </td><td>3.726124    </td><td>16.27771    </td><td>46.15202    </td><td>16.82067    </td><td>108.5209    </td><td>60.94572    </td></tr>\n",
       "\t<tr><td>1.514765e+12</td><td>95862.07    </td><td>4.456219    </td><td>164465.8    </td><td>17.39795    </td><td>27.79270    </td><td>18.39151    </td><td>19.42285    </td><td>9252.934    </td><td>83.62878    </td><td>⋯           </td><td>0.5509349   </td><td>0.4832682   </td><td>2.273809    </td><td>3.685665    </td><td>3.711056    </td><td>16.27945    </td><td>46.14248    </td><td>16.76080    </td><td>108.5977    </td><td>60.81935    </td></tr>\n",
       "\t<tr><td>1.514765e+12</td><td>96191.59    </td><td>4.505277    </td><td>166973.2    </td><td>17.40821    </td><td>27.78446    </td><td>18.38340    </td><td>19.41854    </td><td>9404.077    </td><td>83.79804    </td><td>⋯           </td><td>0.5502207   </td><td>0.4796795   </td><td>2.273511    </td><td>3.679600    </td><td>3.704178    </td><td>16.28329    </td><td>46.09172    </td><td>16.80574    </td><td>108.7205    </td><td>60.75282    </td></tr>\n",
       "\t<tr><td>1.514765e+12</td><td>91128.62    </td><td>4.499127    </td><td>164402.7    </td><td>17.42042    </td><td>27.78758    </td><td>18.41191    </td><td>19.42989    </td><td>9264.223    </td><td>83.78863    </td><td>⋯           </td><td>0.5509333   </td><td>0.4816260   </td><td>2.273505    </td><td>3.666550    </td><td>3.693027    </td><td>16.28191    </td><td>46.12929    </td><td>16.86113    </td><td>108.9298    </td><td>60.78318    </td></tr>\n",
       "\t<tr><td>1.514765e+12</td><td>91532.35    </td><td>4.507830    </td><td>164649.2    </td><td>17.39303    </td><td>27.71386    </td><td>18.39100    </td><td>19.39947    </td><td>9310.935    </td><td>84.02951    </td><td>⋯           </td><td>0.5513894   </td><td>0.4820547   </td><td>2.276424    </td><td>3.714492    </td><td>3.740088    </td><td>16.27711    </td><td>46.24554    </td><td>16.83897    </td><td>109.0733    </td><td>60.85556    </td></tr>\n",
       "\t<tr><td>1.514765e+12</td><td>88252.00    </td><td>4.523839    </td><td>164766.4    </td><td>17.41381    </td><td>27.74474    </td><td>18.39843    </td><td>19.41493    </td><td>9275.117    </td><td>83.54444    </td><td>⋯           </td><td>0.5508509   </td><td>0.4865489   </td><td>2.275578    </td><td>3.707182    </td><td>3.732400    </td><td>16.29041    </td><td>46.33954    </td><td>16.85636    </td><td>109.1350    </td><td>60.95016    </td></tr>\n",
       "</tbody>\n",
       "</table>\n"
      ],
      "text/latex": [
       "\\begin{tabular}{r|llllllllllllllllllllllllllllllllllllllllllllllllllllllllllllllllllllllllllllllllllllllllllllllllllllllllllllllllllllll}\n",
       " timestamp & VAL\\_23.FT.92512.X.Value.average & VAL\\_23.FT.92521.X.Value.average & VAL\\_23.FT.92537.01.X.Value.average & VAL\\_23.FT.96151.X.Value.average & VAL\\_23.FT.96152.X.Value.average & VAL\\_23.FT.96158.X.Value.average & VAL\\_23.FT.96159.X.Value.average & VAL\\_23.KA.9101.M01.62B.X.Value.average & VAL\\_23.KA.9101\\_APE.VALUE.average & ⋯ & VAL\\_45.PDT.92506.X.Value.average & VAL\\_45.PDT.92606.X.Value.average & VAL\\_45.PT.92508.X.Value.average & VAL\\_45.PT.92608.X.Value.average & VAL\\_45.PT.92609.X.Value.average & VAL\\_45.TT.92506.X.Value.average & VAL\\_45.TT.92508.X.Value.average & VAL\\_45.TT.92606.X.Value.average & VAL\\_45.TT.92607A.X.Value.average & VAL\\_45.TT.92607B.X.Value.average\\\\\n",
       "\\hline\n",
       "\t 1.514765e+12 & 86513.12     & 4.401998     & 161173.2     & 17.38066     & 27.70608     & 18.39865     & 19.40636     & 9141.690     & 85.09909     & ⋯            & 0.5493244    & 0.4843041    & 2.275901     & 3.702201     & 3.726124     & 16.27771     & 46.15202     & 16.82067     & 108.5209     & 60.94572    \\\\\n",
       "\t 1.514765e+12 & 95862.07     & 4.456219     & 164465.8     & 17.39795     & 27.79270     & 18.39151     & 19.42285     & 9252.934     & 83.62878     & ⋯            & 0.5509349    & 0.4832682    & 2.273809     & 3.685665     & 3.711056     & 16.27945     & 46.14248     & 16.76080     & 108.5977     & 60.81935    \\\\\n",
       "\t 1.514765e+12 & 96191.59     & 4.505277     & 166973.2     & 17.40821     & 27.78446     & 18.38340     & 19.41854     & 9404.077     & 83.79804     & ⋯            & 0.5502207    & 0.4796795    & 2.273511     & 3.679600     & 3.704178     & 16.28329     & 46.09172     & 16.80574     & 108.7205     & 60.75282    \\\\\n",
       "\t 1.514765e+12 & 91128.62     & 4.499127     & 164402.7     & 17.42042     & 27.78758     & 18.41191     & 19.42989     & 9264.223     & 83.78863     & ⋯            & 0.5509333    & 0.4816260    & 2.273505     & 3.666550     & 3.693027     & 16.28191     & 46.12929     & 16.86113     & 108.9298     & 60.78318    \\\\\n",
       "\t 1.514765e+12 & 91532.35     & 4.507830     & 164649.2     & 17.39303     & 27.71386     & 18.39100     & 19.39947     & 9310.935     & 84.02951     & ⋯            & 0.5513894    & 0.4820547    & 2.276424     & 3.714492     & 3.740088     & 16.27711     & 46.24554     & 16.83897     & 109.0733     & 60.85556    \\\\\n",
       "\t 1.514765e+12 & 88252.00     & 4.523839     & 164766.4     & 17.41381     & 27.74474     & 18.39843     & 19.41493     & 9275.117     & 83.54444     & ⋯            & 0.5508509    & 0.4865489    & 2.275578     & 3.707182     & 3.732400     & 16.29041     & 46.33954     & 16.85636     & 109.1350     & 60.95016    \\\\\n",
       "\\end{tabular}\n"
      ],
      "text/markdown": [
       "\n",
       "| timestamp | VAL_23.FT.92512.X.Value.average | VAL_23.FT.92521.X.Value.average | VAL_23.FT.92537.01.X.Value.average | VAL_23.FT.96151.X.Value.average | VAL_23.FT.96152.X.Value.average | VAL_23.FT.96158.X.Value.average | VAL_23.FT.96159.X.Value.average | VAL_23.KA.9101.M01.62B.X.Value.average | VAL_23.KA.9101_APE.VALUE.average | ⋯ | VAL_45.PDT.92506.X.Value.average | VAL_45.PDT.92606.X.Value.average | VAL_45.PT.92508.X.Value.average | VAL_45.PT.92608.X.Value.average | VAL_45.PT.92609.X.Value.average | VAL_45.TT.92506.X.Value.average | VAL_45.TT.92508.X.Value.average | VAL_45.TT.92606.X.Value.average | VAL_45.TT.92607A.X.Value.average | VAL_45.TT.92607B.X.Value.average |\n",
       "|---|---|---|---|---|---|---|---|---|---|---|---|---|---|---|---|---|---|---|---|---|\n",
       "| 1.514765e+12 | 86513.12     | 4.401998     | 161173.2     | 17.38066     | 27.70608     | 18.39865     | 19.40636     | 9141.690     | 85.09909     | ⋯            | 0.5493244    | 0.4843041    | 2.275901     | 3.702201     | 3.726124     | 16.27771     | 46.15202     | 16.82067     | 108.5209     | 60.94572     |\n",
       "| 1.514765e+12 | 95862.07     | 4.456219     | 164465.8     | 17.39795     | 27.79270     | 18.39151     | 19.42285     | 9252.934     | 83.62878     | ⋯            | 0.5509349    | 0.4832682    | 2.273809     | 3.685665     | 3.711056     | 16.27945     | 46.14248     | 16.76080     | 108.5977     | 60.81935     |\n",
       "| 1.514765e+12 | 96191.59     | 4.505277     | 166973.2     | 17.40821     | 27.78446     | 18.38340     | 19.41854     | 9404.077     | 83.79804     | ⋯            | 0.5502207    | 0.4796795    | 2.273511     | 3.679600     | 3.704178     | 16.28329     | 46.09172     | 16.80574     | 108.7205     | 60.75282     |\n",
       "| 1.514765e+12 | 91128.62     | 4.499127     | 164402.7     | 17.42042     | 27.78758     | 18.41191     | 19.42989     | 9264.223     | 83.78863     | ⋯            | 0.5509333    | 0.4816260    | 2.273505     | 3.666550     | 3.693027     | 16.28191     | 46.12929     | 16.86113     | 108.9298     | 60.78318     |\n",
       "| 1.514765e+12 | 91532.35     | 4.507830     | 164649.2     | 17.39303     | 27.71386     | 18.39100     | 19.39947     | 9310.935     | 84.02951     | ⋯            | 0.5513894    | 0.4820547    | 2.276424     | 3.714492     | 3.740088     | 16.27711     | 46.24554     | 16.83897     | 109.0733     | 60.85556     |\n",
       "| 1.514765e+12 | 88252.00     | 4.523839     | 164766.4     | 17.41381     | 27.74474     | 18.39843     | 19.41493     | 9275.117     | 83.54444     | ⋯            | 0.5508509    | 0.4865489    | 2.275578     | 3.707182     | 3.732400     | 16.29041     | 46.33954     | 16.85636     | 109.1350     | 60.95016     |\n",
       "\n"
      ],
      "text/plain": [
       "  timestamp    VAL_23.FT.92512.X.Value.average VAL_23.FT.92521.X.Value.average\n",
       "1 1.514765e+12 86513.12                        4.401998                       \n",
       "2 1.514765e+12 95862.07                        4.456219                       \n",
       "3 1.514765e+12 96191.59                        4.505277                       \n",
       "4 1.514765e+12 91128.62                        4.499127                       \n",
       "5 1.514765e+12 91532.35                        4.507830                       \n",
       "6 1.514765e+12 88252.00                        4.523839                       \n",
       "  VAL_23.FT.92537.01.X.Value.average VAL_23.FT.96151.X.Value.average\n",
       "1 161173.2                           17.38066                       \n",
       "2 164465.8                           17.39795                       \n",
       "3 166973.2                           17.40821                       \n",
       "4 164402.7                           17.42042                       \n",
       "5 164649.2                           17.39303                       \n",
       "6 164766.4                           17.41381                       \n",
       "  VAL_23.FT.96152.X.Value.average VAL_23.FT.96158.X.Value.average\n",
       "1 27.70608                        18.39865                       \n",
       "2 27.79270                        18.39151                       \n",
       "3 27.78446                        18.38340                       \n",
       "4 27.78758                        18.41191                       \n",
       "5 27.71386                        18.39100                       \n",
       "6 27.74474                        18.39843                       \n",
       "  VAL_23.FT.96159.X.Value.average VAL_23.KA.9101.M01.62B.X.Value.average\n",
       "1 19.40636                        9141.690                              \n",
       "2 19.42285                        9252.934                              \n",
       "3 19.41854                        9404.077                              \n",
       "4 19.42989                        9264.223                              \n",
       "5 19.39947                        9310.935                              \n",
       "6 19.41493                        9275.117                              \n",
       "  VAL_23.KA.9101_APE.VALUE.average ⋯ VAL_45.PDT.92506.X.Value.average\n",
       "1 85.09909                         ⋯ 0.5493244                       \n",
       "2 83.62878                         ⋯ 0.5509349                       \n",
       "3 83.79804                         ⋯ 0.5502207                       \n",
       "4 83.78863                         ⋯ 0.5509333                       \n",
       "5 84.02951                         ⋯ 0.5513894                       \n",
       "6 83.54444                         ⋯ 0.5508509                       \n",
       "  VAL_45.PDT.92606.X.Value.average VAL_45.PT.92508.X.Value.average\n",
       "1 0.4843041                        2.275901                       \n",
       "2 0.4832682                        2.273809                       \n",
       "3 0.4796795                        2.273511                       \n",
       "4 0.4816260                        2.273505                       \n",
       "5 0.4820547                        2.276424                       \n",
       "6 0.4865489                        2.275578                       \n",
       "  VAL_45.PT.92608.X.Value.average VAL_45.PT.92609.X.Value.average\n",
       "1 3.702201                        3.726124                       \n",
       "2 3.685665                        3.711056                       \n",
       "3 3.679600                        3.704178                       \n",
       "4 3.666550                        3.693027                       \n",
       "5 3.714492                        3.740088                       \n",
       "6 3.707182                        3.732400                       \n",
       "  VAL_45.TT.92506.X.Value.average VAL_45.TT.92508.X.Value.average\n",
       "1 16.27771                        46.15202                       \n",
       "2 16.27945                        46.14248                       \n",
       "3 16.28329                        46.09172                       \n",
       "4 16.28191                        46.12929                       \n",
       "5 16.27711                        46.24554                       \n",
       "6 16.29041                        46.33954                       \n",
       "  VAL_45.TT.92606.X.Value.average VAL_45.TT.92607A.X.Value.average\n",
       "1 16.82067                        108.5209                        \n",
       "2 16.76080                        108.5977                        \n",
       "3 16.80574                        108.7205                        \n",
       "4 16.86113                        108.9298                        \n",
       "5 16.83897                        109.0733                        \n",
       "6 16.85636                        109.1350                        \n",
       "  VAL_45.TT.92607B.X.Value.average\n",
       "1 60.94572                        \n",
       "2 60.81935                        \n",
       "3 60.75282                        \n",
       "4 60.78318                        \n",
       "5 60.85556                        \n",
       "6 60.95016                        "
      ]
     },
     "metadata": {},
     "output_type": "display_data"
    }
   ],
   "source": [
    "data <- read.csv('../data/amelia_data.csv', sep='\\t')\n",
    "\n",
    "head(data)"
   ]
  },
  {
   "cell_type": "code",
   "execution_count": 4,
   "metadata": {},
   "outputs": [
    {
     "name": "stdout",
     "output_type": "stream",
     "text": [
      "Percentage NAs: 0% \n",
      "Number of rows in data: 8464 \n",
      "Number of cols in data: 118 \n"
     ]
    }
   ],
   "source": [
    "percentage_na <- round(sum(is.na(data)) / nrow(data),2)\n",
    "cat(str_glue('Percentage NAs: {percentage_na}%'), '\\n')\n",
    "cat(str_glue('Number of rows in data: {nrow(data)}'),'\\n')\n",
    "cat(str_glue('Number of cols in data: {ncol(data)}'),'\\n')"
   ]
  },
  {
   "cell_type": "code",
   "execution_count": 6,
   "metadata": {},
   "outputs": [],
   "source": [
    "y <- data[['VAL_23.FT.92537.01.X.Value.average']]\n",
    "X <- within(data, rm('VAL_23.FT.92537.01.X.Value.average', 'timestamp'))"
   ]
  },
  {
   "cell_type": "code",
   "execution_count": 9,
   "metadata": {},
   "outputs": [],
   "source": [
    "cl <- makeCluster(6)\n",
    "registerDoParallel(cl)"
   ]
  },
  {
   "cell_type": "code",
   "execution_count": 14,
   "metadata": {},
   "outputs": [],
   "source": [
    "vari <- compVarImp(\n",
    "    X = X,\n",
    "    y = y,\n",
    "    rForest = foreach(ntree=rep(10, 6), .combine=combine, .multicombine=TRUE,\n",
    "              .packages='randomForest') %dopar% {\n",
    "    randomForest(X, y, ntree = 500, importance = TRUE, keep.inbag = TRUE)\n",
    "    }\n",
    ")"
   ]
  },
  {
   "cell_type": "code",
   "execution_count": 36,
   "metadata": {},
   "outputs": [
    {
     "data": {
      "text/html": [
       "<table>\n",
       "<thead><tr><th></th><th scope=col>mean dec. mse</th></tr></thead>\n",
       "<tbody>\n",
       "\t<tr><th scope=row>VAL_23_FT_92537_03.Z.X.Value.average</th><td>5578545.36</td></tr>\n",
       "\t<tr><th scope=row>VAL_23.KA.9101.M01.62B.X.Value.average</th><td> 892537.80</td></tr>\n",
       "\t<tr><th scope=row>VAL_23_PIC_92538_06.Z.X.Value.average</th><td> 621070.90</td></tr>\n",
       "\t<tr><th scope=row>VAL_23_KA_9101_M01_62C.Z.X.Value.average</th><td> 606461.45</td></tr>\n",
       "\t<tr><th scope=row>VAL_23_FT_92537_02.Z.X.Value.average</th><td> 362367.92</td></tr>\n",
       "\t<tr><th scope=row>VAL_23.PDT.92530.X.Value.average</th><td> 196875.79</td></tr>\n",
       "\t<tr><th scope=row>VAL_23.PDT.92534.X.Value.average</th><td> 189002.34</td></tr>\n",
       "\t<tr><th scope=row>VAL_23.PDT.92602.X.Value.average</th><td>  51584.38</td></tr>\n",
       "\t<tr><th scope=row>VAL_23_FIC_92543_04.Z.X.Value.average</th><td>  26066.76</td></tr>\n",
       "\t<tr><th scope=row>VAL_23.PT.92523.X.Value.average</th><td>  12662.88</td></tr>\n",
       "</tbody>\n",
       "</table>\n"
      ],
      "text/latex": [
       "\\begin{tabular}{r|l}\n",
       "  & mean dec. mse\\\\\n",
       "\\hline\n",
       "\tVAL\\_23\\_FT\\_92537\\_03.Z.X.Value.average & 5578545.36\\\\\n",
       "\tVAL\\_23.KA.9101.M01.62B.X.Value.average &  892537.80\\\\\n",
       "\tVAL\\_23\\_PIC\\_92538\\_06.Z.X.Value.average &  621070.90\\\\\n",
       "\tVAL\\_23\\_KA\\_9101\\_M01\\_62C.Z.X.Value.average &  606461.45\\\\\n",
       "\tVAL\\_23\\_FT\\_92537\\_02.Z.X.Value.average &  362367.92\\\\\n",
       "\tVAL\\_23.PDT.92530.X.Value.average &  196875.79\\\\\n",
       "\tVAL\\_23.PDT.92534.X.Value.average &  189002.34\\\\\n",
       "\tVAL\\_23.PDT.92602.X.Value.average &   51584.38\\\\\n",
       "\tVAL\\_23\\_FIC\\_92543\\_04.Z.X.Value.average &   26066.76\\\\\n",
       "\tVAL\\_23.PT.92523.X.Value.average &   12662.88\\\\\n",
       "\\end{tabular}\n"
      ],
      "text/markdown": [
       "\n",
       "| <!--/--> | mean dec. mse |\n",
       "|---|---|\n",
       "| VAL_23_FT_92537_03.Z.X.Value.average | 5578545.36 |\n",
       "| VAL_23.KA.9101.M01.62B.X.Value.average |  892537.80 |\n",
       "| VAL_23_PIC_92538_06.Z.X.Value.average |  621070.90 |\n",
       "| VAL_23_KA_9101_M01_62C.Z.X.Value.average |  606461.45 |\n",
       "| VAL_23_FT_92537_02.Z.X.Value.average |  362367.92 |\n",
       "| VAL_23.PDT.92530.X.Value.average |  196875.79 |\n",
       "| VAL_23.PDT.92534.X.Value.average |  189002.34 |\n",
       "| VAL_23.PDT.92602.X.Value.average |   51584.38 |\n",
       "| VAL_23_FIC_92543_04.Z.X.Value.average |   26066.76 |\n",
       "| VAL_23.PT.92523.X.Value.average |   12662.88 |\n",
       "\n"
      ],
      "text/plain": [
       "                                         mean dec. mse\n",
       "VAL_23_FT_92537_03.Z.X.Value.average     5578545.36   \n",
       "VAL_23.KA.9101.M01.62B.X.Value.average    892537.80   \n",
       "VAL_23_PIC_92538_06.Z.X.Value.average     621070.90   \n",
       "VAL_23_KA_9101_M01_62C.Z.X.Value.average  606461.45   \n",
       "VAL_23_FT_92537_02.Z.X.Value.average      362367.92   \n",
       "VAL_23.PDT.92530.X.Value.average          196875.79   \n",
       "VAL_23.PDT.92534.X.Value.average          189002.34   \n",
       "VAL_23.PDT.92602.X.Value.average           51584.38   \n",
       "VAL_23_FIC_92543_04.Z.X.Value.average      26066.76   \n",
       "VAL_23.PT.92523.X.Value.average            12662.88   "
      ]
     },
     "metadata": {},
     "output_type": "display_data"
    }
   ],
   "source": [
    "varimp_sorted <- as.data.frame(vari$importance[order(vari$importance, decreasing = T),])\n",
    "colnames(varimp_sorted) <- c('mean dec. mse')\n",
    "head(varimp_sorted, 10)"
   ]
  },
  {
   "cell_type": "code",
   "execution_count": 16,
   "metadata": {},
   "outputs": [],
   "source": [
    "parallel::stopCluster(cl)"
   ]
  },
  {
   "cell_type": "code",
   "execution_count": 34,
   "metadata": {},
   "outputs": [
    {
     "data": {
      "image/png": "[encoded data removed]",
      "text/plain": [
       "plot without title"
      ]
     },
     "metadata": {},
     "output_type": "display_data"
    }
   ],
   "source": [
    "plot(1:nrow(varimp.sorted), varimp.sorted[['mean dec. mse']], xlab='Feature', ylab='Mean Decreas in MSE') "
   ]
  }
 ],
 "metadata": {
  "kernelspec": {
   "display_name": "R",
   "language": "R",
   "name": "ir"
  },
  "language_info": {
   "codemirror_mode": "r",
   "file_extension": ".r",
   "mimetype": "text/x-r-source",
   "name": "R",
   "pygments_lexer": "r",
   "version": "3.4.4"
  }
 },
 "nbformat": 4,
 "nbformat_minor": 2
}
