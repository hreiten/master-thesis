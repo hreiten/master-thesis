{
 "cells": [
  {
   "cell_type": "markdown",
   "metadata": {},
   "source": [
    "# Feature Selection\n",
    "---\n",
    "In machine learning and statistics, feature selection is the process of selecting a subset of relevant features (variables, predictors) for use in model construction. Feature selection techniques are used for mainly four reasons:\n",
    "- simplification of models to make them easier to interpret by researchers/users\n",
    "- shorter training times\n",
    "- to avoid the curse of dimensionality\n",
    "- enhanced generalization by reducing overfitting (by reducing variance)\n",
    "\n",
    "Features gathered from the observation of a phenomenon are not all equally\n",
    "informative: some of them may be noisy, correlated or irrelevant. Feature\n",
    "selection aims at selecting a feature set that is relevant for a given task. This\n",
    "problem is complex and remains an important issue in many domains. \n",
    "\n",
    "Contents: \n",
    "- [Feature selection by the Boruta Algorithm](#boruta)\n",
    "- [Feature selection by Random Forest](#random-forest)\n",
    "- [Feature selection by PCA](#PCA)"
   ]
  },
  {
   "cell_type": "code",
   "execution_count": 10,
   "metadata": {},
   "outputs": [
    {
     "ename": "ModuleNotFoundError",
     "evalue": "No module named 'functions'",
     "output_type": "error",
     "traceback": [
      "\u001b[0;31m---------------------------------------------------------------------------\u001b[0m",
      "\u001b[0;31mModuleNotFoundError\u001b[0m                       Traceback (most recent call last)",
      "\u001b[0;32m<ipython-input-10-430568b46618>\u001b[0m in \u001b[0;36m<module>\u001b[0;34m\u001b[0m\n\u001b[1;32m     11\u001b[0m \u001b[0;32mfrom\u001b[0m \u001b[0mboruta\u001b[0m \u001b[0;32mimport\u001b[0m \u001b[0mBorutaPy\u001b[0m\u001b[0;34m\u001b[0m\u001b[0;34m\u001b[0m\u001b[0m\n\u001b[1;32m     12\u001b[0m \u001b[0;34m\u001b[0m\u001b[0m\n\u001b[0;32m---> 13\u001b[0;31m \u001b[0;32mfrom\u001b[0m \u001b[0mfunctions\u001b[0m \u001b[0;32mimport\u001b[0m \u001b[0mfunctions\u001b[0m\u001b[0;34m\u001b[0m\u001b[0;34m\u001b[0m\u001b[0m\n\u001b[0m",
      "\u001b[0;31mModuleNotFoundError\u001b[0m: No module named 'functions'"
     ]
    }
   ],
   "source": [
    "import sys, os\n",
    "import numpy as np\n",
    "import pandas as pd\n",
    "import matplotlib.pyplot as plt\n",
    "import seaborn as sns\n",
    "from matplotlib import rc \n",
    "\n",
    "# relevant feature selection libraries\n",
    "from sklearn.ensemble import RandomForestRegressor\n",
    "from sklearn.decomposition import PCA\n",
    "from boruta import BorutaPy\n",
    "\n",
    "from functions import functions"
   ]
  },
  {
   "cell_type": "code",
   "execution_count": 3,
   "metadata": {},
   "outputs": [],
   "source": [
    "# Set global paths\n",
    "ROOT_PATH = os.path.abspath(\".\").split(\"src\")[0]\n",
    "\n",
    "# configure matplotlib params and plotting\n",
    "sns.set()\n",
    "sns.set_context('paper')\n",
    "sns.set_style('whitegrid', {'axes.grid': True, 'grid.linestyle': '--'})\n",
    "\n",
    "rc('figure', figsize=(12,6))\n",
    "rc('xtick', labelsize=12)\n",
    "rc('ytick', labelsize=12)\n",
    "rc('axes', labelsize=13, titlesize=14)\n",
    "rc('legend', fontsize=14, handlelength=2)\n",
    "rc('font', family='serif')\n",
    "\n",
    "SEED=100\n",
    "np.random.seed(SEED)"
   ]
  },
  {
   "cell_type": "markdown",
   "metadata": {},
   "source": [
    "**Loading the data**"
   ]
  },
  {
   "cell_type": "code",
   "execution_count": 101,
   "metadata": {},
   "outputs": [
    {
     "name": "stdout",
     "output_type": "stream",
     "text": [
      "(53211, 117) (53211, 114) (53211, 3)\n"
     ]
    }
   ],
   "source": [
    "data_train = np.load(ROOT_PATH + \"data/scaled/data_scaled_train.npy\")\n",
    "data_valid = np.load(ROOT_PATH + \"data/scaled/data_scaled_valid.npy\")\n",
    "data_test = np.load(ROOT_PATH + \"data/scaled/data_scaled_test.npy\")\n",
    "\n",
    "headers = pd.read_csv(ROOT_PATH+\"data/metadata/tags_all_chosen.csv\", \n",
    "                      sep=\";\", keep_default_na=False, header=None).values[:,0]\n",
    "target_tags = pd.read_csv(ROOT_PATH+\"data/metadata/tags_targets.csv\", \n",
    "                          sep=\";\", keep_default_na=False, header=None).values[:,0]\n",
    "\n",
    "x_train = data_train[:,len(target_tags):]\n",
    "y_train = data_train[:,:len(target_tags)]\n",
    "\n",
    "print(data_train.shape, x_train.shape, y_train.shape)"
   ]
  },
  {
   "cell_type": "markdown",
   "metadata": {},
   "source": [
    "<a class=\"anchor\" id=\"boruta\"></a>\n",
    "\n",
    "---\n",
    "## (1) Feature Selection by the  Boruta Algorithm\n",
    "\n",
    "Boruta is an all relevant feature selection method, while most other are minimal optimal; this means it tries to find all features carrying information usable for prediction, rather than finding a possibly compact subset of features on which some classifier has a minimal error. The Boruta algorithm is a Random Forest classification algorithm that we'll use to perform a top-down search for relevant features by comparing original attributes' importance with importance achievable at random, estimated using their permuted copies, and progressively eliminating irrelevant features.\n",
    "\n",
    "---"
   ]
  },
  {
   "cell_type": "code",
   "execution_count": 90,
   "metadata": {},
   "outputs": [],
   "source": [
    "def run_boruta(X, y, ntrees=500):\n",
    "    forest = RandomForestRegressor(n_jobs=-1, max_depth=5, random_state=SEED)\n",
    "    feat_selector = BorutaPy(forest, n_estimators=ntrees, verbose=2, random_state=SEED, max_iter=100)\n",
    "    feat_selector.fit(X,y)\n",
    "    \n",
    "    return forest, feat_selector"
   ]
  },
  {
   "cell_type": "markdown",
   "metadata": {},
   "source": [
    "We must run a separate run for each of our targets. Finally, all \"confirmed\" tags will be concatenated together and represent the chosen features. "
   ]
  },
  {
   "cell_type": "code",
   "execution_count": 14,
   "metadata": {
    "collapsed": true
   },
   "outputs": [
    {
     "name": "stdout",
     "output_type": "stream",
     "text": [
      "Iteration: \t1 / 100\n",
      "Confirmed: \t0\n",
      "Tentative: \t114\n",
      "Rejected: \t0\n",
      "Iteration: \t2 / 100\n",
      "Confirmed: \t0\n",
      "Tentative: \t114\n",
      "Rejected: \t0\n",
      "Iteration: \t3 / 100\n",
      "Confirmed: \t0\n",
      "Tentative: \t114\n",
      "Rejected: \t0\n",
      "Iteration: \t4 / 100\n",
      "Confirmed: \t0\n",
      "Tentative: \t114\n",
      "Rejected: \t0\n",
      "Iteration: \t5 / 100\n",
      "Confirmed: \t0\n",
      "Tentative: \t114\n",
      "Rejected: \t0\n",
      "Iteration: \t6 / 100\n",
      "Confirmed: \t0\n",
      "Tentative: \t114\n",
      "Rejected: \t0\n",
      "Iteration: \t7 / 100\n",
      "Confirmed: \t0\n",
      "Tentative: \t114\n",
      "Rejected: \t0\n",
      "Iteration: \t8 / 100\n",
      "Confirmed: \t25\n",
      "Tentative: \t23\n",
      "Rejected: \t66\n"
     ]
    },
    {
     "name": "stderr",
     "output_type": "stream",
     "text": [
      "/home/shomeb/h/halvorre/master-thesis/venv/lib/python3.6/site-packages/boruta/boruta_py.py:418: RuntimeWarning: invalid value encountered in greater\n",
      "  hits = np.where(cur_imp[0] > imp_sha_max)[0]\n"
     ]
    },
    {
     "name": "stdout",
     "output_type": "stream",
     "text": [
      "Iteration: \t9 / 100\n",
      "Confirmed: \t25\n",
      "Tentative: \t23\n",
      "Rejected: \t66\n"
     ]
    },
    {
     "name": "stderr",
     "output_type": "stream",
     "text": [
      "/home/shomeb/h/halvorre/master-thesis/venv/lib/python3.6/site-packages/boruta/boruta_py.py:418: RuntimeWarning: invalid value encountered in greater\n",
      "  hits = np.where(cur_imp[0] > imp_sha_max)[0]\n"
     ]
    },
    {
     "name": "stdout",
     "output_type": "stream",
     "text": [
      "Iteration: \t10 / 100\n",
      "Confirmed: \t25\n",
      "Tentative: \t23\n",
      "Rejected: \t66\n"
     ]
    },
    {
     "name": "stderr",
     "output_type": "stream",
     "text": [
      "/home/shomeb/h/halvorre/master-thesis/venv/lib/python3.6/site-packages/boruta/boruta_py.py:418: RuntimeWarning: invalid value encountered in greater\n",
      "  hits = np.where(cur_imp[0] > imp_sha_max)[0]\n"
     ]
    },
    {
     "name": "stdout",
     "output_type": "stream",
     "text": [
      "Iteration: \t11 / 100\n",
      "Confirmed: \t25\n",
      "Tentative: \t23\n",
      "Rejected: \t66\n"
     ]
    },
    {
     "name": "stderr",
     "output_type": "stream",
     "text": [
      "/home/shomeb/h/halvorre/master-thesis/venv/lib/python3.6/site-packages/boruta/boruta_py.py:418: RuntimeWarning: invalid value encountered in greater\n",
      "  hits = np.where(cur_imp[0] > imp_sha_max)[0]\n"
     ]
    },
    {
     "name": "stdout",
     "output_type": "stream",
     "text": [
      "Iteration: \t12 / 100\n",
      "Confirmed: \t26\n",
      "Tentative: \t15\n",
      "Rejected: \t73\n"
     ]
    },
    {
     "name": "stderr",
     "output_type": "stream",
     "text": [
      "/home/shomeb/h/halvorre/master-thesis/venv/lib/python3.6/site-packages/boruta/boruta_py.py:418: RuntimeWarning: invalid value encountered in greater\n",
      "  hits = np.where(cur_imp[0] > imp_sha_max)[0]\n"
     ]
    },
    {
     "name": "stdout",
     "output_type": "stream",
     "text": [
      "Iteration: \t13 / 100\n",
      "Confirmed: \t26\n",
      "Tentative: \t15\n",
      "Rejected: \t73\n"
     ]
    },
    {
     "name": "stderr",
     "output_type": "stream",
     "text": [
      "/home/shomeb/h/halvorre/master-thesis/venv/lib/python3.6/site-packages/boruta/boruta_py.py:418: RuntimeWarning: invalid value encountered in greater\n",
      "  hits = np.where(cur_imp[0] > imp_sha_max)[0]\n"
     ]
    },
    {
     "name": "stdout",
     "output_type": "stream",
     "text": [
      "Iteration: \t14 / 100\n",
      "Confirmed: \t26\n",
      "Tentative: \t15\n",
      "Rejected: \t73\n"
     ]
    },
    {
     "name": "stderr",
     "output_type": "stream",
     "text": [
      "/home/shomeb/h/halvorre/master-thesis/venv/lib/python3.6/site-packages/boruta/boruta_py.py:418: RuntimeWarning: invalid value encountered in greater\n",
      "  hits = np.where(cur_imp[0] > imp_sha_max)[0]\n"
     ]
    },
    {
     "name": "stdout",
     "output_type": "stream",
     "text": [
      "Iteration: \t15 / 100\n",
      "Confirmed: \t26\n",
      "Tentative: \t15\n",
      "Rejected: \t73\n"
     ]
    },
    {
     "name": "stderr",
     "output_type": "stream",
     "text": [
      "/home/shomeb/h/halvorre/master-thesis/venv/lib/python3.6/site-packages/boruta/boruta_py.py:418: RuntimeWarning: invalid value encountered in greater\n",
      "  hits = np.where(cur_imp[0] > imp_sha_max)[0]\n"
     ]
    },
    {
     "name": "stdout",
     "output_type": "stream",
     "text": [
      "Iteration: \t16 / 100\n",
      "Confirmed: \t26\n",
      "Tentative: \t15\n",
      "Rejected: \t73\n"
     ]
    },
    {
     "name": "stderr",
     "output_type": "stream",
     "text": [
      "/home/shomeb/h/halvorre/master-thesis/venv/lib/python3.6/site-packages/boruta/boruta_py.py:418: RuntimeWarning: invalid value encountered in greater\n",
      "  hits = np.where(cur_imp[0] > imp_sha_max)[0]\n"
     ]
    },
    {
     "name": "stdout",
     "output_type": "stream",
     "text": [
      "Iteration: \t17 / 100\n",
      "Confirmed: \t26\n",
      "Tentative: \t14\n",
      "Rejected: \t74\n"
     ]
    },
    {
     "name": "stderr",
     "output_type": "stream",
     "text": [
      "/home/shomeb/h/halvorre/master-thesis/venv/lib/python3.6/site-packages/boruta/boruta_py.py:418: RuntimeWarning: invalid value encountered in greater\n",
      "  hits = np.where(cur_imp[0] > imp_sha_max)[0]\n"
     ]
    },
    {
     "name": "stdout",
     "output_type": "stream",
     "text": [
      "Iteration: \t18 / 100\n",
      "Confirmed: \t26\n",
      "Tentative: \t14\n",
      "Rejected: \t74\n"
     ]
    },
    {
     "name": "stderr",
     "output_type": "stream",
     "text": [
      "/home/shomeb/h/halvorre/master-thesis/venv/lib/python3.6/site-packages/boruta/boruta_py.py:418: RuntimeWarning: invalid value encountered in greater\n",
      "  hits = np.where(cur_imp[0] > imp_sha_max)[0]\n"
     ]
    },
    {
     "name": "stdout",
     "output_type": "stream",
     "text": [
      "Iteration: \t19 / 100\n",
      "Confirmed: \t26\n",
      "Tentative: \t14\n",
      "Rejected: \t74\n"
     ]
    },
    {
     "name": "stderr",
     "output_type": "stream",
     "text": [
      "/home/shomeb/h/halvorre/master-thesis/venv/lib/python3.6/site-packages/boruta/boruta_py.py:418: RuntimeWarning: invalid value encountered in greater\n",
      "  hits = np.where(cur_imp[0] > imp_sha_max)[0]\n"
     ]
    },
    {
     "name": "stdout",
     "output_type": "stream",
     "text": [
      "Iteration: \t20 / 100\n",
      "Confirmed: \t26\n",
      "Tentative: \t14\n",
      "Rejected: \t74\n"
     ]
    },
    {
     "name": "stderr",
     "output_type": "stream",
     "text": [
      "/home/shomeb/h/halvorre/master-thesis/venv/lib/python3.6/site-packages/boruta/boruta_py.py:418: RuntimeWarning: invalid value encountered in greater\n",
      "  hits = np.where(cur_imp[0] > imp_sha_max)[0]\n"
     ]
    },
    {
     "name": "stdout",
     "output_type": "stream",
     "text": [
      "Iteration: \t21 / 100\n",
      "Confirmed: \t26\n",
      "Tentative: \t13\n",
      "Rejected: \t75\n"
     ]
    },
    {
     "name": "stderr",
     "output_type": "stream",
     "text": [
      "/home/shomeb/h/halvorre/master-thesis/venv/lib/python3.6/site-packages/boruta/boruta_py.py:418: RuntimeWarning: invalid value encountered in greater\n",
      "  hits = np.where(cur_imp[0] > imp_sha_max)[0]\n"
     ]
    },
    {
     "name": "stdout",
     "output_type": "stream",
     "text": [
      "Iteration: \t22 / 100\n",
      "Confirmed: \t26\n",
      "Tentative: \t13\n",
      "Rejected: \t75\n"
     ]
    },
    {
     "name": "stderr",
     "output_type": "stream",
     "text": [
      "/home/shomeb/h/halvorre/master-thesis/venv/lib/python3.6/site-packages/boruta/boruta_py.py:418: RuntimeWarning: invalid value encountered in greater\n",
      "  hits = np.where(cur_imp[0] > imp_sha_max)[0]\n"
     ]
    },
    {
     "name": "stdout",
     "output_type": "stream",
     "text": [
      "Iteration: \t23 / 100\n",
      "Confirmed: \t26\n",
      "Tentative: \t13\n",
      "Rejected: \t75\n"
     ]
    },
    {
     "name": "stderr",
     "output_type": "stream",
     "text": [
      "/home/shomeb/h/halvorre/master-thesis/venv/lib/python3.6/site-packages/boruta/boruta_py.py:418: RuntimeWarning: invalid value encountered in greater\n",
      "  hits = np.where(cur_imp[0] > imp_sha_max)[0]\n"
     ]
    },
    {
     "name": "stdout",
     "output_type": "stream",
     "text": [
      "Iteration: \t24 / 100\n",
      "Confirmed: \t26\n",
      "Tentative: \t13\n",
      "Rejected: \t75\n"
     ]
    },
    {
     "name": "stderr",
     "output_type": "stream",
     "text": [
      "/home/shomeb/h/halvorre/master-thesis/venv/lib/python3.6/site-packages/boruta/boruta_py.py:418: RuntimeWarning: invalid value encountered in greater\n",
      "  hits = np.where(cur_imp[0] > imp_sha_max)[0]\n"
     ]
    },
    {
     "name": "stdout",
     "output_type": "stream",
     "text": [
      "Iteration: \t25 / 100\n",
      "Confirmed: \t26\n",
      "Tentative: \t13\n",
      "Rejected: \t75\n"
     ]
    },
    {
     "name": "stderr",
     "output_type": "stream",
     "text": [
      "/home/shomeb/h/halvorre/master-thesis/venv/lib/python3.6/site-packages/boruta/boruta_py.py:418: RuntimeWarning: invalid value encountered in greater\n",
      "  hits = np.where(cur_imp[0] > imp_sha_max)[0]\n"
     ]
    },
    {
     "name": "stdout",
     "output_type": "stream",
     "text": [
      "Iteration: \t26 / 100\n",
      "Confirmed: \t26\n",
      "Tentative: \t13\n",
      "Rejected: \t75\n"
     ]
    },
    {
     "name": "stderr",
     "output_type": "stream",
     "text": [
      "/home/shomeb/h/halvorre/master-thesis/venv/lib/python3.6/site-packages/boruta/boruta_py.py:418: RuntimeWarning: invalid value encountered in greater\n",
      "  hits = np.where(cur_imp[0] > imp_sha_max)[0]\n"
     ]
    },
    {
     "name": "stdout",
     "output_type": "stream",
     "text": [
      "Iteration: \t27 / 100\n",
      "Confirmed: \t26\n",
      "Tentative: \t13\n",
      "Rejected: \t75\n"
     ]
    },
    {
     "name": "stderr",
     "output_type": "stream",
     "text": [
      "/home/shomeb/h/halvorre/master-thesis/venv/lib/python3.6/site-packages/boruta/boruta_py.py:418: RuntimeWarning: invalid value encountered in greater\n",
      "  hits = np.where(cur_imp[0] > imp_sha_max)[0]\n"
     ]
    },
    {
     "name": "stdout",
     "output_type": "stream",
     "text": [
      "Iteration: \t28 / 100\n",
      "Confirmed: \t26\n",
      "Tentative: \t13\n",
      "Rejected: \t75\n"
     ]
    },
    {
     "name": "stderr",
     "output_type": "stream",
     "text": [
      "/home/shomeb/h/halvorre/master-thesis/venv/lib/python3.6/site-packages/boruta/boruta_py.py:418: RuntimeWarning: invalid value encountered in greater\n",
      "  hits = np.where(cur_imp[0] > imp_sha_max)[0]\n"
     ]
    },
    {
     "name": "stdout",
     "output_type": "stream",
     "text": [
      "Iteration: \t29 / 100\n",
      "Confirmed: \t26\n",
      "Tentative: \t13\n",
      "Rejected: \t75\n"
     ]
    },
    {
     "name": "stderr",
     "output_type": "stream",
     "text": [
      "/home/shomeb/h/halvorre/master-thesis/venv/lib/python3.6/site-packages/boruta/boruta_py.py:418: RuntimeWarning: invalid value encountered in greater\n",
      "  hits = np.where(cur_imp[0] > imp_sha_max)[0]\n"
     ]
    },
    {
     "name": "stdout",
     "output_type": "stream",
     "text": [
      "Iteration: \t30 / 100\n",
      "Confirmed: \t26\n",
      "Tentative: \t13\n",
      "Rejected: \t75\n"
     ]
    },
    {
     "name": "stderr",
     "output_type": "stream",
     "text": [
      "/home/shomeb/h/halvorre/master-thesis/venv/lib/python3.6/site-packages/boruta/boruta_py.py:418: RuntimeWarning: invalid value encountered in greater\n",
      "  hits = np.where(cur_imp[0] > imp_sha_max)[0]\n"
     ]
    },
    {
     "name": "stdout",
     "output_type": "stream",
     "text": [
      "Iteration: \t31 / 100\n",
      "Confirmed: \t26\n",
      "Tentative: \t13\n",
      "Rejected: \t75\n"
     ]
    },
    {
     "name": "stderr",
     "output_type": "stream",
     "text": [
      "/home/shomeb/h/halvorre/master-thesis/venv/lib/python3.6/site-packages/boruta/boruta_py.py:418: RuntimeWarning: invalid value encountered in greater\n",
      "  hits = np.where(cur_imp[0] > imp_sha_max)[0]\n"
     ]
    },
    {
     "name": "stdout",
     "output_type": "stream",
     "text": [
      "Iteration: \t32 / 100\n",
      "Confirmed: \t26\n",
      "Tentative: \t12\n",
      "Rejected: \t76\n"
     ]
    },
    {
     "name": "stderr",
     "output_type": "stream",
     "text": [
      "/home/shomeb/h/halvorre/master-thesis/venv/lib/python3.6/site-packages/boruta/boruta_py.py:418: RuntimeWarning: invalid value encountered in greater\n",
      "  hits = np.where(cur_imp[0] > imp_sha_max)[0]\n"
     ]
    },
    {
     "name": "stdout",
     "output_type": "stream",
     "text": [
      "Iteration: \t33 / 100\n",
      "Confirmed: \t26\n",
      "Tentative: \t12\n",
      "Rejected: \t76\n"
     ]
    },
    {
     "name": "stderr",
     "output_type": "stream",
     "text": [
      "/home/shomeb/h/halvorre/master-thesis/venv/lib/python3.6/site-packages/boruta/boruta_py.py:418: RuntimeWarning: invalid value encountered in greater\n",
      "  hits = np.where(cur_imp[0] > imp_sha_max)[0]\n"
     ]
    },
    {
     "name": "stdout",
     "output_type": "stream",
     "text": [
      "Iteration: \t34 / 100\n",
      "Confirmed: \t26\n",
      "Tentative: \t12\n",
      "Rejected: \t76\n"
     ]
    },
    {
     "name": "stderr",
     "output_type": "stream",
     "text": [
      "/home/shomeb/h/halvorre/master-thesis/venv/lib/python3.6/site-packages/boruta/boruta_py.py:418: RuntimeWarning: invalid value encountered in greater\n",
      "  hits = np.where(cur_imp[0] > imp_sha_max)[0]\n"
     ]
    },
    {
     "name": "stdout",
     "output_type": "stream",
     "text": [
      "Iteration: \t35 / 100\n",
      "Confirmed: \t26\n",
      "Tentative: \t11\n",
      "Rejected: \t77\n"
     ]
    },
    {
     "name": "stderr",
     "output_type": "stream",
     "text": [
      "/home/shomeb/h/halvorre/master-thesis/venv/lib/python3.6/site-packages/boruta/boruta_py.py:418: RuntimeWarning: invalid value encountered in greater\n",
      "  hits = np.where(cur_imp[0] > imp_sha_max)[0]\n"
     ]
    },
    {
     "name": "stdout",
     "output_type": "stream",
     "text": [
      "Iteration: \t36 / 100\n",
      "Confirmed: \t26\n",
      "Tentative: \t11\n",
      "Rejected: \t77\n"
     ]
    },
    {
     "name": "stderr",
     "output_type": "stream",
     "text": [
      "/home/shomeb/h/halvorre/master-thesis/venv/lib/python3.6/site-packages/boruta/boruta_py.py:418: RuntimeWarning: invalid value encountered in greater\n",
      "  hits = np.where(cur_imp[0] > imp_sha_max)[0]\n"
     ]
    },
    {
     "name": "stdout",
     "output_type": "stream",
     "text": [
      "Iteration: \t37 / 100\n",
      "Confirmed: \t26\n",
      "Tentative: \t11\n",
      "Rejected: \t77\n"
     ]
    },
    {
     "name": "stderr",
     "output_type": "stream",
     "text": [
      "/home/shomeb/h/halvorre/master-thesis/venv/lib/python3.6/site-packages/boruta/boruta_py.py:418: RuntimeWarning: invalid value encountered in greater\n",
      "  hits = np.where(cur_imp[0] > imp_sha_max)[0]\n"
     ]
    },
    {
     "name": "stdout",
     "output_type": "stream",
     "text": [
      "Iteration: \t38 / 100\n",
      "Confirmed: \t26\n",
      "Tentative: \t11\n",
      "Rejected: \t77\n"
     ]
    },
    {
     "name": "stderr",
     "output_type": "stream",
     "text": [
      "/home/shomeb/h/halvorre/master-thesis/venv/lib/python3.6/site-packages/boruta/boruta_py.py:418: RuntimeWarning: invalid value encountered in greater\n",
      "  hits = np.where(cur_imp[0] > imp_sha_max)[0]\n"
     ]
    },
    {
     "name": "stdout",
     "output_type": "stream",
     "text": [
      "Iteration: \t39 / 100\n",
      "Confirmed: \t26\n",
      "Tentative: \t11\n",
      "Rejected: \t77\n"
     ]
    },
    {
     "name": "stderr",
     "output_type": "stream",
     "text": [
      "/home/shomeb/h/halvorre/master-thesis/venv/lib/python3.6/site-packages/boruta/boruta_py.py:418: RuntimeWarning: invalid value encountered in greater\n",
      "  hits = np.where(cur_imp[0] > imp_sha_max)[0]\n"
     ]
    },
    {
     "name": "stdout",
     "output_type": "stream",
     "text": [
      "Iteration: \t40 / 100\n",
      "Confirmed: \t26\n",
      "Tentative: \t10\n",
      "Rejected: \t78\n"
     ]
    },
    {
     "name": "stderr",
     "output_type": "stream",
     "text": [
      "/home/shomeb/h/halvorre/master-thesis/venv/lib/python3.6/site-packages/boruta/boruta_py.py:418: RuntimeWarning: invalid value encountered in greater\n",
      "  hits = np.where(cur_imp[0] > imp_sha_max)[0]\n"
     ]
    },
    {
     "name": "stdout",
     "output_type": "stream",
     "text": [
      "Iteration: \t41 / 100\n",
      "Confirmed: \t26\n",
      "Tentative: \t10\n",
      "Rejected: \t78\n"
     ]
    },
    {
     "name": "stderr",
     "output_type": "stream",
     "text": [
      "/home/shomeb/h/halvorre/master-thesis/venv/lib/python3.6/site-packages/boruta/boruta_py.py:418: RuntimeWarning: invalid value encountered in greater\n",
      "  hits = np.where(cur_imp[0] > imp_sha_max)[0]\n"
     ]
    },
    {
     "name": "stdout",
     "output_type": "stream",
     "text": [
      "Iteration: \t42 / 100\n",
      "Confirmed: \t26\n",
      "Tentative: \t10\n",
      "Rejected: \t78\n"
     ]
    },
    {
     "name": "stderr",
     "output_type": "stream",
     "text": [
      "/home/shomeb/h/halvorre/master-thesis/venv/lib/python3.6/site-packages/boruta/boruta_py.py:418: RuntimeWarning: invalid value encountered in greater\n",
      "  hits = np.where(cur_imp[0] > imp_sha_max)[0]\n"
     ]
    },
    {
     "name": "stdout",
     "output_type": "stream",
     "text": [
      "Iteration: \t43 / 100\n",
      "Confirmed: \t26\n",
      "Tentative: \t10\n",
      "Rejected: \t78\n"
     ]
    },
    {
     "name": "stderr",
     "output_type": "stream",
     "text": [
      "/home/shomeb/h/halvorre/master-thesis/venv/lib/python3.6/site-packages/boruta/boruta_py.py:418: RuntimeWarning: invalid value encountered in greater\n",
      "  hits = np.where(cur_imp[0] > imp_sha_max)[0]\n"
     ]
    },
    {
     "name": "stdout",
     "output_type": "stream",
     "text": [
      "Iteration: \t44 / 100\n",
      "Confirmed: \t26\n",
      "Tentative: \t10\n",
      "Rejected: \t78\n"
     ]
    },
    {
     "name": "stderr",
     "output_type": "stream",
     "text": [
      "/home/shomeb/h/halvorre/master-thesis/venv/lib/python3.6/site-packages/boruta/boruta_py.py:418: RuntimeWarning: invalid value encountered in greater\n",
      "  hits = np.where(cur_imp[0] > imp_sha_max)[0]\n"
     ]
    },
    {
     "name": "stdout",
     "output_type": "stream",
     "text": [
      "Iteration: \t45 / 100\n",
      "Confirmed: \t26\n",
      "Tentative: \t10\n",
      "Rejected: \t78\n"
     ]
    },
    {
     "name": "stderr",
     "output_type": "stream",
     "text": [
      "/home/shomeb/h/halvorre/master-thesis/venv/lib/python3.6/site-packages/boruta/boruta_py.py:418: RuntimeWarning: invalid value encountered in greater\n",
      "  hits = np.where(cur_imp[0] > imp_sha_max)[0]\n"
     ]
    },
    {
     "name": "stdout",
     "output_type": "stream",
     "text": [
      "Iteration: \t46 / 100\n",
      "Confirmed: \t26\n",
      "Tentative: \t10\n",
      "Rejected: \t78\n"
     ]
    },
    {
     "name": "stderr",
     "output_type": "stream",
     "text": [
      "/home/shomeb/h/halvorre/master-thesis/venv/lib/python3.6/site-packages/boruta/boruta_py.py:418: RuntimeWarning: invalid value encountered in greater\n",
      "  hits = np.where(cur_imp[0] > imp_sha_max)[0]\n"
     ]
    },
    {
     "name": "stdout",
     "output_type": "stream",
     "text": [
      "Iteration: \t47 / 100\n",
      "Confirmed: \t26\n",
      "Tentative: \t10\n",
      "Rejected: \t78\n"
     ]
    },
    {
     "name": "stderr",
     "output_type": "stream",
     "text": [
      "/home/shomeb/h/halvorre/master-thesis/venv/lib/python3.6/site-packages/boruta/boruta_py.py:418: RuntimeWarning: invalid value encountered in greater\n",
      "  hits = np.where(cur_imp[0] > imp_sha_max)[0]\n"
     ]
    },
    {
     "name": "stdout",
     "output_type": "stream",
     "text": [
      "Iteration: \t48 / 100\n",
      "Confirmed: \t26\n",
      "Tentative: \t10\n",
      "Rejected: \t78\n"
     ]
    },
    {
     "name": "stderr",
     "output_type": "stream",
     "text": [
      "/home/shomeb/h/halvorre/master-thesis/venv/lib/python3.6/site-packages/boruta/boruta_py.py:418: RuntimeWarning: invalid value encountered in greater\n",
      "  hits = np.where(cur_imp[0] > imp_sha_max)[0]\n"
     ]
    },
    {
     "name": "stdout",
     "output_type": "stream",
     "text": [
      "Iteration: \t49 / 100\n",
      "Confirmed: \t26\n",
      "Tentative: \t10\n",
      "Rejected: \t78\n"
     ]
    },
    {
     "name": "stderr",
     "output_type": "stream",
     "text": [
      "/home/shomeb/h/halvorre/master-thesis/venv/lib/python3.6/site-packages/boruta/boruta_py.py:418: RuntimeWarning: invalid value encountered in greater\n",
      "  hits = np.where(cur_imp[0] > imp_sha_max)[0]\n"
     ]
    },
    {
     "name": "stdout",
     "output_type": "stream",
     "text": [
      "Iteration: \t50 / 100\n",
      "Confirmed: \t26\n",
      "Tentative: \t10\n",
      "Rejected: \t78\n"
     ]
    },
    {
     "name": "stderr",
     "output_type": "stream",
     "text": [
      "/home/shomeb/h/halvorre/master-thesis/venv/lib/python3.6/site-packages/boruta/boruta_py.py:418: RuntimeWarning: invalid value encountered in greater\n",
      "  hits = np.where(cur_imp[0] > imp_sha_max)[0]\n"
     ]
    },
    {
     "name": "stdout",
     "output_type": "stream",
     "text": [
      "Iteration: \t51 / 100\n",
      "Confirmed: \t26\n",
      "Tentative: \t10\n",
      "Rejected: \t78\n"
     ]
    },
    {
     "name": "stderr",
     "output_type": "stream",
     "text": [
      "/home/shomeb/h/halvorre/master-thesis/venv/lib/python3.6/site-packages/boruta/boruta_py.py:418: RuntimeWarning: invalid value encountered in greater\n",
      "  hits = np.where(cur_imp[0] > imp_sha_max)[0]\n"
     ]
    },
    {
     "name": "stdout",
     "output_type": "stream",
     "text": [
      "Iteration: \t52 / 100\n",
      "Confirmed: \t26\n",
      "Tentative: \t10\n",
      "Rejected: \t78\n"
     ]
    },
    {
     "name": "stderr",
     "output_type": "stream",
     "text": [
      "/home/shomeb/h/halvorre/master-thesis/venv/lib/python3.6/site-packages/boruta/boruta_py.py:418: RuntimeWarning: invalid value encountered in greater\n",
      "  hits = np.where(cur_imp[0] > imp_sha_max)[0]\n"
     ]
    },
    {
     "name": "stdout",
     "output_type": "stream",
     "text": [
      "Iteration: \t53 / 100\n",
      "Confirmed: \t26\n",
      "Tentative: \t10\n",
      "Rejected: \t78\n"
     ]
    },
    {
     "name": "stderr",
     "output_type": "stream",
     "text": [
      "/home/shomeb/h/halvorre/master-thesis/venv/lib/python3.6/site-packages/boruta/boruta_py.py:418: RuntimeWarning: invalid value encountered in greater\n",
      "  hits = np.where(cur_imp[0] > imp_sha_max)[0]\n"
     ]
    },
    {
     "name": "stdout",
     "output_type": "stream",
     "text": [
      "Iteration: \t54 / 100\n",
      "Confirmed: \t26\n",
      "Tentative: \t10\n",
      "Rejected: \t78\n"
     ]
    },
    {
     "name": "stderr",
     "output_type": "stream",
     "text": [
      "/home/shomeb/h/halvorre/master-thesis/venv/lib/python3.6/site-packages/boruta/boruta_py.py:418: RuntimeWarning: invalid value encountered in greater\n",
      "  hits = np.where(cur_imp[0] > imp_sha_max)[0]\n"
     ]
    },
    {
     "name": "stdout",
     "output_type": "stream",
     "text": [
      "Iteration: \t55 / 100\n",
      "Confirmed: \t26\n",
      "Tentative: \t10\n",
      "Rejected: \t78\n"
     ]
    },
    {
     "name": "stderr",
     "output_type": "stream",
     "text": [
      "/home/shomeb/h/halvorre/master-thesis/venv/lib/python3.6/site-packages/boruta/boruta_py.py:418: RuntimeWarning: invalid value encountered in greater\n",
      "  hits = np.where(cur_imp[0] > imp_sha_max)[0]\n"
     ]
    },
    {
     "name": "stdout",
     "output_type": "stream",
     "text": [
      "Iteration: \t56 / 100\n",
      "Confirmed: \t26\n",
      "Tentative: \t10\n",
      "Rejected: \t78\n"
     ]
    },
    {
     "name": "stderr",
     "output_type": "stream",
     "text": [
      "/home/shomeb/h/halvorre/master-thesis/venv/lib/python3.6/site-packages/boruta/boruta_py.py:418: RuntimeWarning: invalid value encountered in greater\n",
      "  hits = np.where(cur_imp[0] > imp_sha_max)[0]\n"
     ]
    },
    {
     "name": "stdout",
     "output_type": "stream",
     "text": [
      "Iteration: \t57 / 100\n",
      "Confirmed: \t26\n",
      "Tentative: \t10\n",
      "Rejected: \t78\n"
     ]
    },
    {
     "name": "stderr",
     "output_type": "stream",
     "text": [
      "/home/shomeb/h/halvorre/master-thesis/venv/lib/python3.6/site-packages/boruta/boruta_py.py:418: RuntimeWarning: invalid value encountered in greater\n",
      "  hits = np.where(cur_imp[0] > imp_sha_max)[0]\n"
     ]
    },
    {
     "name": "stdout",
     "output_type": "stream",
     "text": [
      "Iteration: \t58 / 100\n",
      "Confirmed: \t26\n",
      "Tentative: \t10\n",
      "Rejected: \t78\n"
     ]
    },
    {
     "name": "stderr",
     "output_type": "stream",
     "text": [
      "/home/shomeb/h/halvorre/master-thesis/venv/lib/python3.6/site-packages/boruta/boruta_py.py:418: RuntimeWarning: invalid value encountered in greater\n",
      "  hits = np.where(cur_imp[0] > imp_sha_max)[0]\n"
     ]
    },
    {
     "name": "stdout",
     "output_type": "stream",
     "text": [
      "Iteration: \t59 / 100\n",
      "Confirmed: \t26\n",
      "Tentative: \t9\n",
      "Rejected: \t79\n"
     ]
    },
    {
     "name": "stderr",
     "output_type": "stream",
     "text": [
      "/home/shomeb/h/halvorre/master-thesis/venv/lib/python3.6/site-packages/boruta/boruta_py.py:418: RuntimeWarning: invalid value encountered in greater\n",
      "  hits = np.where(cur_imp[0] > imp_sha_max)[0]\n"
     ]
    },
    {
     "name": "stdout",
     "output_type": "stream",
     "text": [
      "Iteration: \t60 / 100\n",
      "Confirmed: \t26\n",
      "Tentative: \t9\n",
      "Rejected: \t79\n"
     ]
    },
    {
     "name": "stderr",
     "output_type": "stream",
     "text": [
      "/home/shomeb/h/halvorre/master-thesis/venv/lib/python3.6/site-packages/boruta/boruta_py.py:418: RuntimeWarning: invalid value encountered in greater\n",
      "  hits = np.where(cur_imp[0] > imp_sha_max)[0]\n"
     ]
    },
    {
     "name": "stdout",
     "output_type": "stream",
     "text": [
      "Iteration: \t61 / 100\n",
      "Confirmed: \t26\n",
      "Tentative: \t9\n",
      "Rejected: \t79\n"
     ]
    },
    {
     "name": "stderr",
     "output_type": "stream",
     "text": [
      "/home/shomeb/h/halvorre/master-thesis/venv/lib/python3.6/site-packages/boruta/boruta_py.py:418: RuntimeWarning: invalid value encountered in greater\n",
      "  hits = np.where(cur_imp[0] > imp_sha_max)[0]\n"
     ]
    },
    {
     "name": "stdout",
     "output_type": "stream",
     "text": [
      "Iteration: \t62 / 100\n",
      "Confirmed: \t26\n",
      "Tentative: \t9\n",
      "Rejected: \t79\n"
     ]
    },
    {
     "name": "stderr",
     "output_type": "stream",
     "text": [
      "/home/shomeb/h/halvorre/master-thesis/venv/lib/python3.6/site-packages/boruta/boruta_py.py:418: RuntimeWarning: invalid value encountered in greater\n",
      "  hits = np.where(cur_imp[0] > imp_sha_max)[0]\n"
     ]
    },
    {
     "name": "stdout",
     "output_type": "stream",
     "text": [
      "Iteration: \t63 / 100\n",
      "Confirmed: \t26\n",
      "Tentative: \t9\n",
      "Rejected: \t79\n"
     ]
    },
    {
     "name": "stderr",
     "output_type": "stream",
     "text": [
      "/home/shomeb/h/halvorre/master-thesis/venv/lib/python3.6/site-packages/boruta/boruta_py.py:418: RuntimeWarning: invalid value encountered in greater\n",
      "  hits = np.where(cur_imp[0] > imp_sha_max)[0]\n"
     ]
    },
    {
     "name": "stdout",
     "output_type": "stream",
     "text": [
      "Iteration: \t64 / 100\n",
      "Confirmed: \t26\n",
      "Tentative: \t9\n",
      "Rejected: \t79\n"
     ]
    },
    {
     "name": "stderr",
     "output_type": "stream",
     "text": [
      "/home/shomeb/h/halvorre/master-thesis/venv/lib/python3.6/site-packages/boruta/boruta_py.py:418: RuntimeWarning: invalid value encountered in greater\n",
      "  hits = np.where(cur_imp[0] > imp_sha_max)[0]\n"
     ]
    },
    {
     "name": "stdout",
     "output_type": "stream",
     "text": [
      "Iteration: \t65 / 100\n",
      "Confirmed: \t26\n",
      "Tentative: \t9\n",
      "Rejected: \t79\n"
     ]
    },
    {
     "name": "stderr",
     "output_type": "stream",
     "text": [
      "/home/shomeb/h/halvorre/master-thesis/venv/lib/python3.6/site-packages/boruta/boruta_py.py:418: RuntimeWarning: invalid value encountered in greater\n",
      "  hits = np.where(cur_imp[0] > imp_sha_max)[0]\n"
     ]
    },
    {
     "name": "stdout",
     "output_type": "stream",
     "text": [
      "Iteration: \t66 / 100\n",
      "Confirmed: \t26\n",
      "Tentative: \t9\n",
      "Rejected: \t79\n"
     ]
    },
    {
     "name": "stderr",
     "output_type": "stream",
     "text": [
      "/home/shomeb/h/halvorre/master-thesis/venv/lib/python3.6/site-packages/boruta/boruta_py.py:418: RuntimeWarning: invalid value encountered in greater\n",
      "  hits = np.where(cur_imp[0] > imp_sha_max)[0]\n"
     ]
    },
    {
     "name": "stdout",
     "output_type": "stream",
     "text": [
      "Iteration: \t67 / 100\n",
      "Confirmed: \t26\n",
      "Tentative: \t9\n",
      "Rejected: \t79\n"
     ]
    },
    {
     "name": "stderr",
     "output_type": "stream",
     "text": [
      "/home/shomeb/h/halvorre/master-thesis/venv/lib/python3.6/site-packages/boruta/boruta_py.py:418: RuntimeWarning: invalid value encountered in greater\n",
      "  hits = np.where(cur_imp[0] > imp_sha_max)[0]\n"
     ]
    },
    {
     "name": "stdout",
     "output_type": "stream",
     "text": [
      "Iteration: \t68 / 100\n",
      "Confirmed: \t26\n",
      "Tentative: \t9\n",
      "Rejected: \t79\n"
     ]
    },
    {
     "name": "stderr",
     "output_type": "stream",
     "text": [
      "/home/shomeb/h/halvorre/master-thesis/venv/lib/python3.6/site-packages/boruta/boruta_py.py:418: RuntimeWarning: invalid value encountered in greater\n",
      "  hits = np.where(cur_imp[0] > imp_sha_max)[0]\n"
     ]
    },
    {
     "name": "stdout",
     "output_type": "stream",
     "text": [
      "Iteration: \t69 / 100\n",
      "Confirmed: \t26\n",
      "Tentative: \t9\n",
      "Rejected: \t79\n"
     ]
    },
    {
     "name": "stderr",
     "output_type": "stream",
     "text": [
      "/home/shomeb/h/halvorre/master-thesis/venv/lib/python3.6/site-packages/boruta/boruta_py.py:418: RuntimeWarning: invalid value encountered in greater\n",
      "  hits = np.where(cur_imp[0] > imp_sha_max)[0]\n"
     ]
    },
    {
     "name": "stdout",
     "output_type": "stream",
     "text": [
      "Iteration: \t70 / 100\n",
      "Confirmed: \t26\n",
      "Tentative: \t9\n",
      "Rejected: \t79\n"
     ]
    },
    {
     "name": "stderr",
     "output_type": "stream",
     "text": [
      "/home/shomeb/h/halvorre/master-thesis/venv/lib/python3.6/site-packages/boruta/boruta_py.py:418: RuntimeWarning: invalid value encountered in greater\n",
      "  hits = np.where(cur_imp[0] > imp_sha_max)[0]\n"
     ]
    },
    {
     "name": "stdout",
     "output_type": "stream",
     "text": [
      "Iteration: \t71 / 100\n",
      "Confirmed: \t26\n",
      "Tentative: \t9\n",
      "Rejected: \t79\n"
     ]
    },
    {
     "name": "stderr",
     "output_type": "stream",
     "text": [
      "/home/shomeb/h/halvorre/master-thesis/venv/lib/python3.6/site-packages/boruta/boruta_py.py:418: RuntimeWarning: invalid value encountered in greater\n",
      "  hits = np.where(cur_imp[0] > imp_sha_max)[0]\n"
     ]
    },
    {
     "name": "stdout",
     "output_type": "stream",
     "text": [
      "Iteration: \t72 / 100\n",
      "Confirmed: \t26\n",
      "Tentative: \t9\n",
      "Rejected: \t79\n"
     ]
    },
    {
     "name": "stderr",
     "output_type": "stream",
     "text": [
      "/home/shomeb/h/halvorre/master-thesis/venv/lib/python3.6/site-packages/boruta/boruta_py.py:418: RuntimeWarning: invalid value encountered in greater\n",
      "  hits = np.where(cur_imp[0] > imp_sha_max)[0]\n"
     ]
    },
    {
     "name": "stdout",
     "output_type": "stream",
     "text": [
      "Iteration: \t73 / 100\n",
      "Confirmed: \t26\n",
      "Tentative: \t9\n",
      "Rejected: \t79\n"
     ]
    },
    {
     "name": "stderr",
     "output_type": "stream",
     "text": [
      "/home/shomeb/h/halvorre/master-thesis/venv/lib/python3.6/site-packages/boruta/boruta_py.py:418: RuntimeWarning: invalid value encountered in greater\n",
      "  hits = np.where(cur_imp[0] > imp_sha_max)[0]\n"
     ]
    },
    {
     "name": "stdout",
     "output_type": "stream",
     "text": [
      "Iteration: \t75 / 100\n",
      "Confirmed: \t26\n",
      "Tentative: \t9\n",
      "Rejected: \t79\n"
     ]
    },
    {
     "name": "stderr",
     "output_type": "stream",
     "text": [
      "/home/shomeb/h/halvorre/master-thesis/venv/lib/python3.6/site-packages/boruta/boruta_py.py:418: RuntimeWarning: invalid value encountered in greater\n",
      "  hits = np.where(cur_imp[0] > imp_sha_max)[0]\n"
     ]
    },
    {
     "name": "stdout",
     "output_type": "stream",
     "text": [
      "Iteration: \t76 / 100\n",
      "Confirmed: \t26\n",
      "Tentative: \t9\n",
      "Rejected: \t79\n"
     ]
    },
    {
     "name": "stderr",
     "output_type": "stream",
     "text": [
      "/home/shomeb/h/halvorre/master-thesis/venv/lib/python3.6/site-packages/boruta/boruta_py.py:418: RuntimeWarning: invalid value encountered in greater\n",
      "  hits = np.where(cur_imp[0] > imp_sha_max)[0]\n"
     ]
    },
    {
     "name": "stdout",
     "output_type": "stream",
     "text": [
      "Iteration: \t77 / 100\n",
      "Confirmed: \t26\n",
      "Tentative: \t9\n",
      "Rejected: \t79\n"
     ]
    },
    {
     "name": "stderr",
     "output_type": "stream",
     "text": [
      "/home/shomeb/h/halvorre/master-thesis/venv/lib/python3.6/site-packages/boruta/boruta_py.py:418: RuntimeWarning: invalid value encountered in greater\n",
      "  hits = np.where(cur_imp[0] > imp_sha_max)[0]\n"
     ]
    },
    {
     "name": "stdout",
     "output_type": "stream",
     "text": [
      "Iteration: \t78 / 100\n",
      "Confirmed: \t26\n",
      "Tentative: \t9\n",
      "Rejected: \t79\n"
     ]
    },
    {
     "name": "stderr",
     "output_type": "stream",
     "text": [
      "/home/shomeb/h/halvorre/master-thesis/venv/lib/python3.6/site-packages/boruta/boruta_py.py:418: RuntimeWarning: invalid value encountered in greater\n",
      "  hits = np.where(cur_imp[0] > imp_sha_max)[0]\n"
     ]
    },
    {
     "name": "stdout",
     "output_type": "stream",
     "text": [
      "Iteration: \t79 / 100\n",
      "Confirmed: \t26\n",
      "Tentative: \t9\n",
      "Rejected: \t79\n"
     ]
    },
    {
     "name": "stderr",
     "output_type": "stream",
     "text": [
      "/home/shomeb/h/halvorre/master-thesis/venv/lib/python3.6/site-packages/boruta/boruta_py.py:418: RuntimeWarning: invalid value encountered in greater\n",
      "  hits = np.where(cur_imp[0] > imp_sha_max)[0]\n"
     ]
    },
    {
     "name": "stdout",
     "output_type": "stream",
     "text": [
      "Iteration: \t80 / 100\n",
      "Confirmed: \t26\n",
      "Tentative: \t9\n",
      "Rejected: \t79\n"
     ]
    },
    {
     "name": "stderr",
     "output_type": "stream",
     "text": [
      "/home/shomeb/h/halvorre/master-thesis/venv/lib/python3.6/site-packages/boruta/boruta_py.py:418: RuntimeWarning: invalid value encountered in greater\n",
      "  hits = np.where(cur_imp[0] > imp_sha_max)[0]\n"
     ]
    },
    {
     "name": "stdout",
     "output_type": "stream",
     "text": [
      "Iteration: \t81 / 100\n",
      "Confirmed: \t26\n",
      "Tentative: \t9\n",
      "Rejected: \t79\n"
     ]
    },
    {
     "name": "stderr",
     "output_type": "stream",
     "text": [
      "/home/shomeb/h/halvorre/master-thesis/venv/lib/python3.6/site-packages/boruta/boruta_py.py:418: RuntimeWarning: invalid value encountered in greater\n",
      "  hits = np.where(cur_imp[0] > imp_sha_max)[0]\n"
     ]
    },
    {
     "name": "stdout",
     "output_type": "stream",
     "text": [
      "Iteration: \t82 / 100\n",
      "Confirmed: \t26\n",
      "Tentative: \t9\n",
      "Rejected: \t79\n"
     ]
    },
    {
     "name": "stderr",
     "output_type": "stream",
     "text": [
      "/home/shomeb/h/halvorre/master-thesis/venv/lib/python3.6/site-packages/boruta/boruta_py.py:418: RuntimeWarning: invalid value encountered in greater\n",
      "  hits = np.where(cur_imp[0] > imp_sha_max)[0]\n"
     ]
    },
    {
     "name": "stdout",
     "output_type": "stream",
     "text": [
      "Iteration: \t83 / 100\n",
      "Confirmed: \t26\n",
      "Tentative: \t9\n",
      "Rejected: \t79\n"
     ]
    },
    {
     "name": "stderr",
     "output_type": "stream",
     "text": [
      "/home/shomeb/h/halvorre/master-thesis/venv/lib/python3.6/site-packages/boruta/boruta_py.py:418: RuntimeWarning: invalid value encountered in greater\n",
      "  hits = np.where(cur_imp[0] > imp_sha_max)[0]\n"
     ]
    },
    {
     "name": "stdout",
     "output_type": "stream",
     "text": [
      "Iteration: \t84 / 100\n",
      "Confirmed: \t26\n",
      "Tentative: \t9\n",
      "Rejected: \t79\n"
     ]
    },
    {
     "name": "stderr",
     "output_type": "stream",
     "text": [
      "/home/shomeb/h/halvorre/master-thesis/venv/lib/python3.6/site-packages/boruta/boruta_py.py:418: RuntimeWarning: invalid value encountered in greater\n",
      "  hits = np.where(cur_imp[0] > imp_sha_max)[0]\n"
     ]
    },
    {
     "name": "stdout",
     "output_type": "stream",
     "text": [
      "Iteration: \t85 / 100\n",
      "Confirmed: \t26\n",
      "Tentative: \t9\n",
      "Rejected: \t79\n"
     ]
    },
    {
     "name": "stderr",
     "output_type": "stream",
     "text": [
      "/home/shomeb/h/halvorre/master-thesis/venv/lib/python3.6/site-packages/boruta/boruta_py.py:418: RuntimeWarning: invalid value encountered in greater\n",
      "  hits = np.where(cur_imp[0] > imp_sha_max)[0]\n"
     ]
    },
    {
     "name": "stdout",
     "output_type": "stream",
     "text": [
      "Iteration: \t86 / 100\n",
      "Confirmed: \t26\n",
      "Tentative: \t9\n",
      "Rejected: \t79\n"
     ]
    },
    {
     "name": "stderr",
     "output_type": "stream",
     "text": [
      "/home/shomeb/h/halvorre/master-thesis/venv/lib/python3.6/site-packages/boruta/boruta_py.py:418: RuntimeWarning: invalid value encountered in greater\n",
      "  hits = np.where(cur_imp[0] > imp_sha_max)[0]\n"
     ]
    },
    {
     "name": "stdout",
     "output_type": "stream",
     "text": [
      "Iteration: \t87 / 100\n",
      "Confirmed: \t26\n",
      "Tentative: \t9\n",
      "Rejected: \t79\n"
     ]
    },
    {
     "name": "stderr",
     "output_type": "stream",
     "text": [
      "/home/shomeb/h/halvorre/master-thesis/venv/lib/python3.6/site-packages/boruta/boruta_py.py:418: RuntimeWarning: invalid value encountered in greater\n",
      "  hits = np.where(cur_imp[0] > imp_sha_max)[0]\n"
     ]
    },
    {
     "name": "stdout",
     "output_type": "stream",
     "text": [
      "Iteration: \t88 / 100\n",
      "Confirmed: \t26\n",
      "Tentative: \t9\n",
      "Rejected: \t79\n"
     ]
    },
    {
     "name": "stderr",
     "output_type": "stream",
     "text": [
      "/home/shomeb/h/halvorre/master-thesis/venv/lib/python3.6/site-packages/boruta/boruta_py.py:418: RuntimeWarning: invalid value encountered in greater\n",
      "  hits = np.where(cur_imp[0] > imp_sha_max)[0]\n"
     ]
    },
    {
     "name": "stdout",
     "output_type": "stream",
     "text": [
      "Iteration: \t89 / 100\n",
      "Confirmed: \t26\n",
      "Tentative: \t9\n",
      "Rejected: \t79\n"
     ]
    },
    {
     "name": "stderr",
     "output_type": "stream",
     "text": [
      "/home/shomeb/h/halvorre/master-thesis/venv/lib/python3.6/site-packages/boruta/boruta_py.py:418: RuntimeWarning: invalid value encountered in greater\n",
      "  hits = np.where(cur_imp[0] > imp_sha_max)[0]\n"
     ]
    },
    {
     "name": "stdout",
     "output_type": "stream",
     "text": [
      "Iteration: \t90 / 100\n",
      "Confirmed: \t26\n",
      "Tentative: \t9\n",
      "Rejected: \t79\n"
     ]
    },
    {
     "name": "stderr",
     "output_type": "stream",
     "text": [
      "/home/shomeb/h/halvorre/master-thesis/venv/lib/python3.6/site-packages/boruta/boruta_py.py:418: RuntimeWarning: invalid value encountered in greater\n",
      "  hits = np.where(cur_imp[0] > imp_sha_max)[0]\n"
     ]
    },
    {
     "name": "stdout",
     "output_type": "stream",
     "text": [
      "Iteration: \t91 / 100\n",
      "Confirmed: \t26\n",
      "Tentative: \t9\n",
      "Rejected: \t79\n"
     ]
    },
    {
     "name": "stderr",
     "output_type": "stream",
     "text": [
      "/home/shomeb/h/halvorre/master-thesis/venv/lib/python3.6/site-packages/boruta/boruta_py.py:418: RuntimeWarning: invalid value encountered in greater\n",
      "  hits = np.where(cur_imp[0] > imp_sha_max)[0]\n"
     ]
    },
    {
     "name": "stdout",
     "output_type": "stream",
     "text": [
      "Iteration: \t92 / 100\n",
      "Confirmed: \t26\n",
      "Tentative: \t9\n",
      "Rejected: \t79\n"
     ]
    },
    {
     "name": "stderr",
     "output_type": "stream",
     "text": [
      "/home/shomeb/h/halvorre/master-thesis/venv/lib/python3.6/site-packages/boruta/boruta_py.py:418: RuntimeWarning: invalid value encountered in greater\n",
      "  hits = np.where(cur_imp[0] > imp_sha_max)[0]\n"
     ]
    },
    {
     "name": "stdout",
     "output_type": "stream",
     "text": [
      "Iteration: \t93 / 100\n",
      "Confirmed: \t26\n",
      "Tentative: \t9\n",
      "Rejected: \t79\n"
     ]
    },
    {
     "name": "stderr",
     "output_type": "stream",
     "text": [
      "/home/shomeb/h/halvorre/master-thesis/venv/lib/python3.6/site-packages/boruta/boruta_py.py:418: RuntimeWarning: invalid value encountered in greater\n",
      "  hits = np.where(cur_imp[0] > imp_sha_max)[0]\n"
     ]
    },
    {
     "name": "stdout",
     "output_type": "stream",
     "text": [
      "Iteration: \t94 / 100\n",
      "Confirmed: \t26\n",
      "Tentative: \t9\n",
      "Rejected: \t79\n"
     ]
    },
    {
     "name": "stderr",
     "output_type": "stream",
     "text": [
      "/home/shomeb/h/halvorre/master-thesis/venv/lib/python3.6/site-packages/boruta/boruta_py.py:418: RuntimeWarning: invalid value encountered in greater\n",
      "  hits = np.where(cur_imp[0] > imp_sha_max)[0]\n"
     ]
    },
    {
     "name": "stdout",
     "output_type": "stream",
     "text": [
      "Iteration: \t95 / 100\n",
      "Confirmed: \t26\n",
      "Tentative: \t9\n",
      "Rejected: \t79\n"
     ]
    },
    {
     "name": "stderr",
     "output_type": "stream",
     "text": [
      "/home/shomeb/h/halvorre/master-thesis/venv/lib/python3.6/site-packages/boruta/boruta_py.py:418: RuntimeWarning: invalid value encountered in greater\n",
      "  hits = np.where(cur_imp[0] > imp_sha_max)[0]\n"
     ]
    },
    {
     "name": "stdout",
     "output_type": "stream",
     "text": [
      "Iteration: \t96 / 100\n",
      "Confirmed: \t26\n",
      "Tentative: \t9\n",
      "Rejected: \t79\n"
     ]
    },
    {
     "name": "stderr",
     "output_type": "stream",
     "text": [
      "/home/shomeb/h/halvorre/master-thesis/venv/lib/python3.6/site-packages/boruta/boruta_py.py:418: RuntimeWarning: invalid value encountered in greater\n",
      "  hits = np.where(cur_imp[0] > imp_sha_max)[0]\n"
     ]
    },
    {
     "name": "stdout",
     "output_type": "stream",
     "text": [
      "Iteration: \t97 / 100\n",
      "Confirmed: \t26\n",
      "Tentative: \t9\n",
      "Rejected: \t79\n"
     ]
    },
    {
     "name": "stderr",
     "output_type": "stream",
     "text": [
      "/home/shomeb/h/halvorre/master-thesis/venv/lib/python3.6/site-packages/boruta/boruta_py.py:418: RuntimeWarning: invalid value encountered in greater\n",
      "  hits = np.where(cur_imp[0] > imp_sha_max)[0]\n"
     ]
    },
    {
     "name": "stdout",
     "output_type": "stream",
     "text": [
      "Iteration: \t98 / 100\n",
      "Confirmed: \t26\n",
      "Tentative: \t9\n",
      "Rejected: \t79\n",
      "Iteration: \t99 / 100\n",
      "Confirmed: \t26\n",
      "Tentative: \t9\n",
      "Rejected: \t79\n",
      "\n",
      "\n",
      "BorutaPy finished running.\n",
      "\n",
      "Iteration: \t100 / 100\n",
      "Confirmed: \t26\n",
      "Tentative: \t6\n",
      "Rejected: \t79\n"
     ]
    },
    {
     "name": "stderr",
     "output_type": "stream",
     "text": [
      "/home/shomeb/h/halvorre/master-thesis/venv/lib/python3.6/site-packages/boruta/boruta_py.py:418: RuntimeWarning: invalid value encountered in greater\n",
      "  hits = np.where(cur_imp[0] > imp_sha_max)[0]\n"
     ]
    }
   ],
   "source": [
    "flow_forest, flow_boruta = run_boruta(x_train, y_train[:,0])"
   ]
  },
  {
   "cell_type": "code",
   "execution_count": 91,
   "metadata": {
    "collapsed": true
   },
   "outputs": [
    {
     "name": "stdout",
     "output_type": "stream",
     "text": [
      "Iteration: \t1 / 100\n",
      "Confirmed: \t0\n",
      "Tentative: \t114\n",
      "Rejected: \t0\n",
      "Iteration: \t2 / 100\n",
      "Confirmed: \t0\n",
      "Tentative: \t114\n",
      "Rejected: \t0\n",
      "Iteration: \t3 / 100\n",
      "Confirmed: \t0\n",
      "Tentative: \t114\n",
      "Rejected: \t0\n",
      "Iteration: \t4 / 100\n",
      "Confirmed: \t0\n",
      "Tentative: \t114\n",
      "Rejected: \t0\n",
      "Iteration: \t5 / 100\n",
      "Confirmed: \t0\n",
      "Tentative: \t114\n",
      "Rejected: \t0\n",
      "Iteration: \t6 / 100\n",
      "Confirmed: \t0\n",
      "Tentative: \t114\n",
      "Rejected: \t0\n",
      "Iteration: \t7 / 100\n",
      "Confirmed: \t0\n",
      "Tentative: \t114\n",
      "Rejected: \t0\n",
      "Iteration: \t8 / 100\n",
      "Confirmed: \t0\n",
      "Tentative: \t3\n",
      "Rejected: \t111\n",
      "Iteration: \t9 / 100\n",
      "Confirmed: \t3\n",
      "Tentative: \t0\n",
      "Rejected: \t111\n",
      "\n",
      "\n",
      "BorutaPy finished running.\n",
      "\n",
      "Iteration: \t10 / 100\n",
      "Confirmed: \t3\n",
      "Tentative: \t0\n",
      "Rejected: \t111\n"
     ]
    },
    {
     "name": "stderr",
     "output_type": "stream",
     "text": [
      "/home/shomeb/h/halvorre/master-thesis/venv/lib/python3.6/site-packages/boruta/boruta_py.py:418: RuntimeWarning: invalid value encountered in greater\n",
      "  hits = np.where(cur_imp[0] > imp_sha_max)[0]\n"
     ]
    }
   ],
   "source": [
    "temp_forest, temp_boruta = run_boruta(x_train, y_train[:,1])"
   ]
  },
  {
   "cell_type": "code",
   "execution_count": 16,
   "metadata": {
    "collapsed": true
   },
   "outputs": [
    {
     "name": "stdout",
     "output_type": "stream",
     "text": [
      "Iteration: \t1 / 100\n",
      "Confirmed: \t0\n",
      "Tentative: \t114\n",
      "Rejected: \t0\n",
      "Iteration: \t2 / 100\n",
      "Confirmed: \t0\n",
      "Tentative: \t114\n",
      "Rejected: \t0\n",
      "Iteration: \t3 / 100\n",
      "Confirmed: \t0\n",
      "Tentative: \t114\n",
      "Rejected: \t0\n",
      "Iteration: \t4 / 100\n",
      "Confirmed: \t0\n",
      "Tentative: \t114\n",
      "Rejected: \t0\n",
      "Iteration: \t5 / 100\n",
      "Confirmed: \t0\n",
      "Tentative: \t114\n",
      "Rejected: \t0\n",
      "Iteration: \t6 / 100\n",
      "Confirmed: \t0\n",
      "Tentative: \t114\n",
      "Rejected: \t0\n",
      "Iteration: \t7 / 100\n",
      "Confirmed: \t0\n",
      "Tentative: \t114\n",
      "Rejected: \t0\n",
      "Iteration: \t8 / 100\n",
      "Confirmed: \t0\n",
      "Tentative: \t8\n",
      "Rejected: \t106\n"
     ]
    },
    {
     "name": "stderr",
     "output_type": "stream",
     "text": [
      "/home/shomeb/h/halvorre/master-thesis/venv/lib/python3.6/site-packages/boruta/boruta_py.py:418: RuntimeWarning: invalid value encountered in greater\n",
      "  hits = np.where(cur_imp[0] > imp_sha_max)[0]\n"
     ]
    },
    {
     "name": "stdout",
     "output_type": "stream",
     "text": [
      "Iteration: \t9 / 100\n",
      "Confirmed: \t4\n",
      "Tentative: \t4\n",
      "Rejected: \t106\n"
     ]
    },
    {
     "name": "stderr",
     "output_type": "stream",
     "text": [
      "/home/shomeb/h/halvorre/master-thesis/venv/lib/python3.6/site-packages/boruta/boruta_py.py:418: RuntimeWarning: invalid value encountered in greater\n",
      "  hits = np.where(cur_imp[0] > imp_sha_max)[0]\n"
     ]
    },
    {
     "name": "stdout",
     "output_type": "stream",
     "text": [
      "Iteration: \t10 / 100\n",
      "Confirmed: \t4\n",
      "Tentative: \t4\n",
      "Rejected: \t106\n"
     ]
    },
    {
     "name": "stderr",
     "output_type": "stream",
     "text": [
      "/home/shomeb/h/halvorre/master-thesis/venv/lib/python3.6/site-packages/boruta/boruta_py.py:418: RuntimeWarning: invalid value encountered in greater\n",
      "  hits = np.where(cur_imp[0] > imp_sha_max)[0]\n"
     ]
    },
    {
     "name": "stdout",
     "output_type": "stream",
     "text": [
      "Iteration: \t11 / 100\n",
      "Confirmed: \t4\n",
      "Tentative: \t4\n",
      "Rejected: \t106\n"
     ]
    },
    {
     "name": "stderr",
     "output_type": "stream",
     "text": [
      "/home/shomeb/h/halvorre/master-thesis/venv/lib/python3.6/site-packages/boruta/boruta_py.py:418: RuntimeWarning: invalid value encountered in greater\n",
      "  hits = np.where(cur_imp[0] > imp_sha_max)[0]\n"
     ]
    },
    {
     "name": "stdout",
     "output_type": "stream",
     "text": [
      "Iteration: \t12 / 100\n",
      "Confirmed: \t4\n",
      "Tentative: \t2\n",
      "Rejected: \t108\n"
     ]
    },
    {
     "name": "stderr",
     "output_type": "stream",
     "text": [
      "/home/shomeb/h/halvorre/master-thesis/venv/lib/python3.6/site-packages/boruta/boruta_py.py:418: RuntimeWarning: invalid value encountered in greater\n",
      "  hits = np.where(cur_imp[0] > imp_sha_max)[0]\n"
     ]
    },
    {
     "name": "stdout",
     "output_type": "stream",
     "text": [
      "Iteration: \t13 / 100\n",
      "Confirmed: \t4\n",
      "Tentative: \t2\n",
      "Rejected: \t108\n"
     ]
    },
    {
     "name": "stderr",
     "output_type": "stream",
     "text": [
      "/home/shomeb/h/halvorre/master-thesis/venv/lib/python3.6/site-packages/boruta/boruta_py.py:418: RuntimeWarning: invalid value encountered in greater\n",
      "  hits = np.where(cur_imp[0] > imp_sha_max)[0]\n"
     ]
    },
    {
     "name": "stdout",
     "output_type": "stream",
     "text": [
      "Iteration: \t14 / 100\n",
      "Confirmed: \t4\n",
      "Tentative: \t2\n",
      "Rejected: \t108\n"
     ]
    },
    {
     "name": "stderr",
     "output_type": "stream",
     "text": [
      "/home/shomeb/h/halvorre/master-thesis/venv/lib/python3.6/site-packages/boruta/boruta_py.py:418: RuntimeWarning: invalid value encountered in greater\n",
      "  hits = np.where(cur_imp[0] > imp_sha_max)[0]\n"
     ]
    },
    {
     "name": "stdout",
     "output_type": "stream",
     "text": [
      "Iteration: \t15 / 100\n",
      "Confirmed: \t4\n",
      "Tentative: \t2\n",
      "Rejected: \t108\n"
     ]
    },
    {
     "name": "stderr",
     "output_type": "stream",
     "text": [
      "/home/shomeb/h/halvorre/master-thesis/venv/lib/python3.6/site-packages/boruta/boruta_py.py:418: RuntimeWarning: invalid value encountered in greater\n",
      "  hits = np.where(cur_imp[0] > imp_sha_max)[0]\n"
     ]
    },
    {
     "name": "stdout",
     "output_type": "stream",
     "text": [
      "Iteration: \t16 / 100\n",
      "Confirmed: \t4\n",
      "Tentative: \t1\n",
      "Rejected: \t109\n"
     ]
    },
    {
     "name": "stderr",
     "output_type": "stream",
     "text": [
      "/home/shomeb/h/halvorre/master-thesis/venv/lib/python3.6/site-packages/boruta/boruta_py.py:418: RuntimeWarning: invalid value encountered in greater\n",
      "  hits = np.where(cur_imp[0] > imp_sha_max)[0]\n"
     ]
    },
    {
     "name": "stdout",
     "output_type": "stream",
     "text": [
      "Iteration: \t17 / 100\n",
      "Confirmed: \t4\n",
      "Tentative: \t1\n",
      "Rejected: \t109\n"
     ]
    },
    {
     "name": "stderr",
     "output_type": "stream",
     "text": [
      "/home/shomeb/h/halvorre/master-thesis/venv/lib/python3.6/site-packages/boruta/boruta_py.py:418: RuntimeWarning: invalid value encountered in greater\n",
      "  hits = np.where(cur_imp[0] > imp_sha_max)[0]\n"
     ]
    },
    {
     "name": "stdout",
     "output_type": "stream",
     "text": [
      "Iteration: \t18 / 100\n",
      "Confirmed: \t4\n",
      "Tentative: \t1\n",
      "Rejected: \t109\n"
     ]
    },
    {
     "name": "stderr",
     "output_type": "stream",
     "text": [
      "/home/shomeb/h/halvorre/master-thesis/venv/lib/python3.6/site-packages/boruta/boruta_py.py:418: RuntimeWarning: invalid value encountered in greater\n",
      "  hits = np.where(cur_imp[0] > imp_sha_max)[0]\n"
     ]
    },
    {
     "name": "stdout",
     "output_type": "stream",
     "text": [
      "Iteration: \t19 / 100\n",
      "Confirmed: \t4\n",
      "Tentative: \t1\n",
      "Rejected: \t109\n"
     ]
    },
    {
     "name": "stderr",
     "output_type": "stream",
     "text": [
      "/home/shomeb/h/halvorre/master-thesis/venv/lib/python3.6/site-packages/boruta/boruta_py.py:418: RuntimeWarning: invalid value encountered in greater\n",
      "  hits = np.where(cur_imp[0] > imp_sha_max)[0]\n"
     ]
    },
    {
     "name": "stdout",
     "output_type": "stream",
     "text": [
      "Iteration: \t20 / 100\n",
      "Confirmed: \t4\n",
      "Tentative: \t1\n",
      "Rejected: \t109\n"
     ]
    },
    {
     "name": "stderr",
     "output_type": "stream",
     "text": [
      "/home/shomeb/h/halvorre/master-thesis/venv/lib/python3.6/site-packages/boruta/boruta_py.py:418: RuntimeWarning: invalid value encountered in greater\n",
      "  hits = np.where(cur_imp[0] > imp_sha_max)[0]\n"
     ]
    },
    {
     "name": "stdout",
     "output_type": "stream",
     "text": [
      "Iteration: \t21 / 100\n",
      "Confirmed: \t4\n",
      "Tentative: \t1\n",
      "Rejected: \t109\n"
     ]
    },
    {
     "name": "stderr",
     "output_type": "stream",
     "text": [
      "/home/shomeb/h/halvorre/master-thesis/venv/lib/python3.6/site-packages/boruta/boruta_py.py:418: RuntimeWarning: invalid value encountered in greater\n",
      "  hits = np.where(cur_imp[0] > imp_sha_max)[0]\n"
     ]
    },
    {
     "name": "stdout",
     "output_type": "stream",
     "text": [
      "Iteration: \t22 / 100\n",
      "Confirmed: \t4\n",
      "Tentative: \t1\n",
      "Rejected: \t109\n"
     ]
    },
    {
     "name": "stderr",
     "output_type": "stream",
     "text": [
      "/home/shomeb/h/halvorre/master-thesis/venv/lib/python3.6/site-packages/boruta/boruta_py.py:418: RuntimeWarning: invalid value encountered in greater\n",
      "  hits = np.where(cur_imp[0] > imp_sha_max)[0]\n"
     ]
    },
    {
     "name": "stdout",
     "output_type": "stream",
     "text": [
      "Iteration: \t23 / 100\n",
      "Confirmed: \t4\n",
      "Tentative: \t1\n",
      "Rejected: \t109\n"
     ]
    },
    {
     "name": "stderr",
     "output_type": "stream",
     "text": [
      "/home/shomeb/h/halvorre/master-thesis/venv/lib/python3.6/site-packages/boruta/boruta_py.py:418: RuntimeWarning: invalid value encountered in greater\n",
      "  hits = np.where(cur_imp[0] > imp_sha_max)[0]\n"
     ]
    },
    {
     "name": "stdout",
     "output_type": "stream",
     "text": [
      "Iteration: \t24 / 100\n",
      "Confirmed: \t4\n",
      "Tentative: \t1\n",
      "Rejected: \t109\n"
     ]
    },
    {
     "name": "stderr",
     "output_type": "stream",
     "text": [
      "/home/shomeb/h/halvorre/master-thesis/venv/lib/python3.6/site-packages/boruta/boruta_py.py:418: RuntimeWarning: invalid value encountered in greater\n",
      "  hits = np.where(cur_imp[0] > imp_sha_max)[0]\n"
     ]
    },
    {
     "name": "stdout",
     "output_type": "stream",
     "text": [
      "Iteration: \t25 / 100\n",
      "Confirmed: \t4\n",
      "Tentative: \t1\n",
      "Rejected: \t109\n"
     ]
    },
    {
     "name": "stderr",
     "output_type": "stream",
     "text": [
      "/home/shomeb/h/halvorre/master-thesis/venv/lib/python3.6/site-packages/boruta/boruta_py.py:418: RuntimeWarning: invalid value encountered in greater\n",
      "  hits = np.where(cur_imp[0] > imp_sha_max)[0]\n"
     ]
    },
    {
     "name": "stdout",
     "output_type": "stream",
     "text": [
      "Iteration: \t26 / 100\n",
      "Confirmed: \t4\n",
      "Tentative: \t1\n",
      "Rejected: \t109\n"
     ]
    },
    {
     "name": "stderr",
     "output_type": "stream",
     "text": [
      "/home/shomeb/h/halvorre/master-thesis/venv/lib/python3.6/site-packages/boruta/boruta_py.py:418: RuntimeWarning: invalid value encountered in greater\n",
      "  hits = np.where(cur_imp[0] > imp_sha_max)[0]\n"
     ]
    },
    {
     "name": "stdout",
     "output_type": "stream",
     "text": [
      "Iteration: \t27 / 100\n",
      "Confirmed: \t4\n",
      "Tentative: \t1\n",
      "Rejected: \t109\n"
     ]
    },
    {
     "name": "stderr",
     "output_type": "stream",
     "text": [
      "/home/shomeb/h/halvorre/master-thesis/venv/lib/python3.6/site-packages/boruta/boruta_py.py:418: RuntimeWarning: invalid value encountered in greater\n",
      "  hits = np.where(cur_imp[0] > imp_sha_max)[0]\n"
     ]
    },
    {
     "name": "stdout",
     "output_type": "stream",
     "text": [
      "Iteration: \t28 / 100\n",
      "Confirmed: \t4\n",
      "Tentative: \t1\n",
      "Rejected: \t109\n"
     ]
    },
    {
     "name": "stderr",
     "output_type": "stream",
     "text": [
      "/home/shomeb/h/halvorre/master-thesis/venv/lib/python3.6/site-packages/boruta/boruta_py.py:418: RuntimeWarning: invalid value encountered in greater\n",
      "  hits = np.where(cur_imp[0] > imp_sha_max)[0]\n"
     ]
    },
    {
     "name": "stdout",
     "output_type": "stream",
     "text": [
      "Iteration: \t29 / 100\n",
      "Confirmed: \t4\n",
      "Tentative: \t1\n",
      "Rejected: \t109\n"
     ]
    },
    {
     "name": "stderr",
     "output_type": "stream",
     "text": [
      "/home/shomeb/h/halvorre/master-thesis/venv/lib/python3.6/site-packages/boruta/boruta_py.py:418: RuntimeWarning: invalid value encountered in greater\n",
      "  hits = np.where(cur_imp[0] > imp_sha_max)[0]\n"
     ]
    },
    {
     "name": "stdout",
     "output_type": "stream",
     "text": [
      "Iteration: \t30 / 100\n",
      "Confirmed: \t4\n",
      "Tentative: \t1\n",
      "Rejected: \t109\n"
     ]
    },
    {
     "name": "stderr",
     "output_type": "stream",
     "text": [
      "/home/shomeb/h/halvorre/master-thesis/venv/lib/python3.6/site-packages/boruta/boruta_py.py:418: RuntimeWarning: invalid value encountered in greater\n",
      "  hits = np.where(cur_imp[0] > imp_sha_max)[0]\n"
     ]
    },
    {
     "name": "stdout",
     "output_type": "stream",
     "text": [
      "Iteration: \t31 / 100\n",
      "Confirmed: \t4\n",
      "Tentative: \t1\n",
      "Rejected: \t109\n"
     ]
    },
    {
     "name": "stderr",
     "output_type": "stream",
     "text": [
      "/home/shomeb/h/halvorre/master-thesis/venv/lib/python3.6/site-packages/boruta/boruta_py.py:418: RuntimeWarning: invalid value encountered in greater\n",
      "  hits = np.where(cur_imp[0] > imp_sha_max)[0]\n"
     ]
    },
    {
     "name": "stdout",
     "output_type": "stream",
     "text": [
      "Iteration: \t32 / 100\n",
      "Confirmed: \t4\n",
      "Tentative: \t1\n",
      "Rejected: \t109\n"
     ]
    },
    {
     "name": "stderr",
     "output_type": "stream",
     "text": [
      "/home/shomeb/h/halvorre/master-thesis/venv/lib/python3.6/site-packages/boruta/boruta_py.py:418: RuntimeWarning: invalid value encountered in greater\n",
      "  hits = np.where(cur_imp[0] > imp_sha_max)[0]\n"
     ]
    },
    {
     "name": "stdout",
     "output_type": "stream",
     "text": [
      "Iteration: \t33 / 100\n",
      "Confirmed: \t4\n",
      "Tentative: \t1\n",
      "Rejected: \t109\n"
     ]
    },
    {
     "name": "stderr",
     "output_type": "stream",
     "text": [
      "/home/shomeb/h/halvorre/master-thesis/venv/lib/python3.6/site-packages/boruta/boruta_py.py:418: RuntimeWarning: invalid value encountered in greater\n",
      "  hits = np.where(cur_imp[0] > imp_sha_max)[0]\n"
     ]
    },
    {
     "name": "stdout",
     "output_type": "stream",
     "text": [
      "Iteration: \t34 / 100\n",
      "Confirmed: \t4\n",
      "Tentative: \t1\n",
      "Rejected: \t109\n"
     ]
    },
    {
     "name": "stderr",
     "output_type": "stream",
     "text": [
      "/home/shomeb/h/halvorre/master-thesis/venv/lib/python3.6/site-packages/boruta/boruta_py.py:418: RuntimeWarning: invalid value encountered in greater\n",
      "  hits = np.where(cur_imp[0] > imp_sha_max)[0]\n"
     ]
    },
    {
     "name": "stdout",
     "output_type": "stream",
     "text": [
      "Iteration: \t35 / 100\n",
      "Confirmed: \t4\n",
      "Tentative: \t1\n",
      "Rejected: \t109\n"
     ]
    },
    {
     "name": "stderr",
     "output_type": "stream",
     "text": [
      "/home/shomeb/h/halvorre/master-thesis/venv/lib/python3.6/site-packages/boruta/boruta_py.py:418: RuntimeWarning: invalid value encountered in greater\n",
      "  hits = np.where(cur_imp[0] > imp_sha_max)[0]\n"
     ]
    },
    {
     "name": "stdout",
     "output_type": "stream",
     "text": [
      "Iteration: \t36 / 100\n",
      "Confirmed: \t4\n",
      "Tentative: \t1\n",
      "Rejected: \t109\n"
     ]
    },
    {
     "name": "stderr",
     "output_type": "stream",
     "text": [
      "/home/shomeb/h/halvorre/master-thesis/venv/lib/python3.6/site-packages/boruta/boruta_py.py:418: RuntimeWarning: invalid value encountered in greater\n",
      "  hits = np.where(cur_imp[0] > imp_sha_max)[0]\n"
     ]
    },
    {
     "name": "stdout",
     "output_type": "stream",
     "text": [
      "Iteration: \t37 / 100\n",
      "Confirmed: \t4\n",
      "Tentative: \t1\n",
      "Rejected: \t109\n"
     ]
    },
    {
     "name": "stderr",
     "output_type": "stream",
     "text": [
      "/home/shomeb/h/halvorre/master-thesis/venv/lib/python3.6/site-packages/boruta/boruta_py.py:418: RuntimeWarning: invalid value encountered in greater\n",
      "  hits = np.where(cur_imp[0] > imp_sha_max)[0]\n"
     ]
    },
    {
     "name": "stdout",
     "output_type": "stream",
     "text": [
      "Iteration: \t38 / 100\n",
      "Confirmed: \t4\n",
      "Tentative: \t1\n",
      "Rejected: \t109\n"
     ]
    },
    {
     "name": "stderr",
     "output_type": "stream",
     "text": [
      "/home/shomeb/h/halvorre/master-thesis/venv/lib/python3.6/site-packages/boruta/boruta_py.py:418: RuntimeWarning: invalid value encountered in greater\n",
      "  hits = np.where(cur_imp[0] > imp_sha_max)[0]\n"
     ]
    },
    {
     "name": "stdout",
     "output_type": "stream",
     "text": [
      "Iteration: \t39 / 100\n",
      "Confirmed: \t4\n",
      "Tentative: \t1\n",
      "Rejected: \t109\n"
     ]
    },
    {
     "name": "stderr",
     "output_type": "stream",
     "text": [
      "/home/shomeb/h/halvorre/master-thesis/venv/lib/python3.6/site-packages/boruta/boruta_py.py:418: RuntimeWarning: invalid value encountered in greater\n",
      "  hits = np.where(cur_imp[0] > imp_sha_max)[0]\n"
     ]
    },
    {
     "name": "stdout",
     "output_type": "stream",
     "text": [
      "Iteration: \t40 / 100\n",
      "Confirmed: \t4\n",
      "Tentative: \t1\n",
      "Rejected: \t109\n"
     ]
    },
    {
     "name": "stderr",
     "output_type": "stream",
     "text": [
      "/home/shomeb/h/halvorre/master-thesis/venv/lib/python3.6/site-packages/boruta/boruta_py.py:418: RuntimeWarning: invalid value encountered in greater\n",
      "  hits = np.where(cur_imp[0] > imp_sha_max)[0]\n"
     ]
    },
    {
     "name": "stdout",
     "output_type": "stream",
     "text": [
      "Iteration: \t41 / 100\n",
      "Confirmed: \t4\n",
      "Tentative: \t1\n",
      "Rejected: \t109\n"
     ]
    },
    {
     "name": "stderr",
     "output_type": "stream",
     "text": [
      "/home/shomeb/h/halvorre/master-thesis/venv/lib/python3.6/site-packages/boruta/boruta_py.py:418: RuntimeWarning: invalid value encountered in greater\n",
      "  hits = np.where(cur_imp[0] > imp_sha_max)[0]\n"
     ]
    },
    {
     "name": "stdout",
     "output_type": "stream",
     "text": [
      "Iteration: \t42 / 100\n",
      "Confirmed: \t4\n",
      "Tentative: \t1\n",
      "Rejected: \t109\n"
     ]
    },
    {
     "name": "stderr",
     "output_type": "stream",
     "text": [
      "/home/shomeb/h/halvorre/master-thesis/venv/lib/python3.6/site-packages/boruta/boruta_py.py:418: RuntimeWarning: invalid value encountered in greater\n",
      "  hits = np.where(cur_imp[0] > imp_sha_max)[0]\n"
     ]
    },
    {
     "name": "stdout",
     "output_type": "stream",
     "text": [
      "Iteration: \t43 / 100\n",
      "Confirmed: \t4\n",
      "Tentative: \t1\n",
      "Rejected: \t109\n"
     ]
    },
    {
     "name": "stderr",
     "output_type": "stream",
     "text": [
      "/home/shomeb/h/halvorre/master-thesis/venv/lib/python3.6/site-packages/boruta/boruta_py.py:418: RuntimeWarning: invalid value encountered in greater\n",
      "  hits = np.where(cur_imp[0] > imp_sha_max)[0]\n"
     ]
    },
    {
     "name": "stdout",
     "output_type": "stream",
     "text": [
      "Iteration: \t44 / 100\n",
      "Confirmed: \t4\n",
      "Tentative: \t1\n",
      "Rejected: \t109\n"
     ]
    },
    {
     "name": "stderr",
     "output_type": "stream",
     "text": [
      "/home/shomeb/h/halvorre/master-thesis/venv/lib/python3.6/site-packages/boruta/boruta_py.py:418: RuntimeWarning: invalid value encountered in greater\n",
      "  hits = np.where(cur_imp[0] > imp_sha_max)[0]\n"
     ]
    },
    {
     "name": "stdout",
     "output_type": "stream",
     "text": [
      "Iteration: \t45 / 100\n",
      "Confirmed: \t4\n",
      "Tentative: \t1\n",
      "Rejected: \t109\n"
     ]
    },
    {
     "name": "stderr",
     "output_type": "stream",
     "text": [
      "/home/shomeb/h/halvorre/master-thesis/venv/lib/python3.6/site-packages/boruta/boruta_py.py:418: RuntimeWarning: invalid value encountered in greater\n",
      "  hits = np.where(cur_imp[0] > imp_sha_max)[0]\n"
     ]
    },
    {
     "name": "stdout",
     "output_type": "stream",
     "text": [
      "Iteration: \t46 / 100\n",
      "Confirmed: \t4\n",
      "Tentative: \t1\n",
      "Rejected: \t109\n"
     ]
    },
    {
     "name": "stderr",
     "output_type": "stream",
     "text": [
      "/home/shomeb/h/halvorre/master-thesis/venv/lib/python3.6/site-packages/boruta/boruta_py.py:418: RuntimeWarning: invalid value encountered in greater\n",
      "  hits = np.where(cur_imp[0] > imp_sha_max)[0]\n"
     ]
    },
    {
     "name": "stdout",
     "output_type": "stream",
     "text": [
      "Iteration: \t47 / 100\n",
      "Confirmed: \t4\n",
      "Tentative: \t1\n",
      "Rejected: \t109\n"
     ]
    },
    {
     "name": "stderr",
     "output_type": "stream",
     "text": [
      "/home/shomeb/h/halvorre/master-thesis/venv/lib/python3.6/site-packages/boruta/boruta_py.py:418: RuntimeWarning: invalid value encountered in greater\n",
      "  hits = np.where(cur_imp[0] > imp_sha_max)[0]\n"
     ]
    },
    {
     "name": "stdout",
     "output_type": "stream",
     "text": [
      "Iteration: \t48 / 100\n",
      "Confirmed: \t4\n",
      "Tentative: \t1\n",
      "Rejected: \t109\n"
     ]
    },
    {
     "name": "stderr",
     "output_type": "stream",
     "text": [
      "/home/shomeb/h/halvorre/master-thesis/venv/lib/python3.6/site-packages/boruta/boruta_py.py:418: RuntimeWarning: invalid value encountered in greater\n",
      "  hits = np.where(cur_imp[0] > imp_sha_max)[0]\n"
     ]
    },
    {
     "name": "stdout",
     "output_type": "stream",
     "text": [
      "Iteration: \t49 / 100\n",
      "Confirmed: \t4\n",
      "Tentative: \t1\n",
      "Rejected: \t109\n"
     ]
    },
    {
     "name": "stderr",
     "output_type": "stream",
     "text": [
      "/home/shomeb/h/halvorre/master-thesis/venv/lib/python3.6/site-packages/boruta/boruta_py.py:418: RuntimeWarning: invalid value encountered in greater\n",
      "  hits = np.where(cur_imp[0] > imp_sha_max)[0]\n"
     ]
    },
    {
     "name": "stdout",
     "output_type": "stream",
     "text": [
      "Iteration: \t50 / 100\n",
      "Confirmed: \t4\n",
      "Tentative: \t1\n",
      "Rejected: \t109\n"
     ]
    },
    {
     "name": "stderr",
     "output_type": "stream",
     "text": [
      "/home/shomeb/h/halvorre/master-thesis/venv/lib/python3.6/site-packages/boruta/boruta_py.py:418: RuntimeWarning: invalid value encountered in greater\n",
      "  hits = np.where(cur_imp[0] > imp_sha_max)[0]\n"
     ]
    },
    {
     "name": "stdout",
     "output_type": "stream",
     "text": [
      "Iteration: \t51 / 100\n",
      "Confirmed: \t4\n",
      "Tentative: \t1\n",
      "Rejected: \t109\n"
     ]
    },
    {
     "name": "stderr",
     "output_type": "stream",
     "text": [
      "/home/shomeb/h/halvorre/master-thesis/venv/lib/python3.6/site-packages/boruta/boruta_py.py:418: RuntimeWarning: invalid value encountered in greater\n",
      "  hits = np.where(cur_imp[0] > imp_sha_max)[0]\n"
     ]
    },
    {
     "name": "stdout",
     "output_type": "stream",
     "text": [
      "Iteration: \t52 / 100\n",
      "Confirmed: \t4\n",
      "Tentative: \t1\n",
      "Rejected: \t109\n"
     ]
    },
    {
     "name": "stderr",
     "output_type": "stream",
     "text": [
      "/home/shomeb/h/halvorre/master-thesis/venv/lib/python3.6/site-packages/boruta/boruta_py.py:418: RuntimeWarning: invalid value encountered in greater\n",
      "  hits = np.where(cur_imp[0] > imp_sha_max)[0]\n"
     ]
    },
    {
     "name": "stdout",
     "output_type": "stream",
     "text": [
      "Iteration: \t53 / 100\n",
      "Confirmed: \t4\n",
      "Tentative: \t1\n",
      "Rejected: \t109\n"
     ]
    },
    {
     "name": "stderr",
     "output_type": "stream",
     "text": [
      "/home/shomeb/h/halvorre/master-thesis/venv/lib/python3.6/site-packages/boruta/boruta_py.py:418: RuntimeWarning: invalid value encountered in greater\n",
      "  hits = np.where(cur_imp[0] > imp_sha_max)[0]\n"
     ]
    },
    {
     "name": "stdout",
     "output_type": "stream",
     "text": [
      "Iteration: \t54 / 100\n",
      "Confirmed: \t4\n",
      "Tentative: \t1\n",
      "Rejected: \t109\n"
     ]
    },
    {
     "name": "stderr",
     "output_type": "stream",
     "text": [
      "/home/shomeb/h/halvorre/master-thesis/venv/lib/python3.6/site-packages/boruta/boruta_py.py:418: RuntimeWarning: invalid value encountered in greater\n",
      "  hits = np.where(cur_imp[0] > imp_sha_max)[0]\n"
     ]
    },
    {
     "name": "stdout",
     "output_type": "stream",
     "text": [
      "Iteration: \t55 / 100\n",
      "Confirmed: \t4\n",
      "Tentative: \t1\n",
      "Rejected: \t109\n"
     ]
    },
    {
     "name": "stderr",
     "output_type": "stream",
     "text": [
      "/home/shomeb/h/halvorre/master-thesis/venv/lib/python3.6/site-packages/boruta/boruta_py.py:418: RuntimeWarning: invalid value encountered in greater\n",
      "  hits = np.where(cur_imp[0] > imp_sha_max)[0]\n"
     ]
    },
    {
     "name": "stdout",
     "output_type": "stream",
     "text": [
      "Iteration: \t56 / 100\n",
      "Confirmed: \t4\n",
      "Tentative: \t1\n",
      "Rejected: \t109\n"
     ]
    },
    {
     "name": "stderr",
     "output_type": "stream",
     "text": [
      "/home/shomeb/h/halvorre/master-thesis/venv/lib/python3.6/site-packages/boruta/boruta_py.py:418: RuntimeWarning: invalid value encountered in greater\n",
      "  hits = np.where(cur_imp[0] > imp_sha_max)[0]\n"
     ]
    },
    {
     "name": "stdout",
     "output_type": "stream",
     "text": [
      "Iteration: \t57 / 100\n",
      "Confirmed: \t4\n",
      "Tentative: \t1\n",
      "Rejected: \t109\n"
     ]
    },
    {
     "name": "stderr",
     "output_type": "stream",
     "text": [
      "/home/shomeb/h/halvorre/master-thesis/venv/lib/python3.6/site-packages/boruta/boruta_py.py:418: RuntimeWarning: invalid value encountered in greater\n",
      "  hits = np.where(cur_imp[0] > imp_sha_max)[0]\n"
     ]
    },
    {
     "name": "stdout",
     "output_type": "stream",
     "text": [
      "Iteration: \t58 / 100\n",
      "Confirmed: \t4\n",
      "Tentative: \t1\n",
      "Rejected: \t109\n"
     ]
    },
    {
     "name": "stderr",
     "output_type": "stream",
     "text": [
      "/home/shomeb/h/halvorre/master-thesis/venv/lib/python3.6/site-packages/boruta/boruta_py.py:418: RuntimeWarning: invalid value encountered in greater\n",
      "  hits = np.where(cur_imp[0] > imp_sha_max)[0]\n"
     ]
    },
    {
     "name": "stdout",
     "output_type": "stream",
     "text": [
      "Iteration: \t59 / 100\n",
      "Confirmed: \t4\n",
      "Tentative: \t1\n",
      "Rejected: \t109\n"
     ]
    },
    {
     "name": "stderr",
     "output_type": "stream",
     "text": [
      "/home/shomeb/h/halvorre/master-thesis/venv/lib/python3.6/site-packages/boruta/boruta_py.py:418: RuntimeWarning: invalid value encountered in greater\n",
      "  hits = np.where(cur_imp[0] > imp_sha_max)[0]\n"
     ]
    },
    {
     "name": "stdout",
     "output_type": "stream",
     "text": [
      "Iteration: \t60 / 100\n",
      "Confirmed: \t4\n",
      "Tentative: \t1\n",
      "Rejected: \t109\n"
     ]
    },
    {
     "name": "stderr",
     "output_type": "stream",
     "text": [
      "/home/shomeb/h/halvorre/master-thesis/venv/lib/python3.6/site-packages/boruta/boruta_py.py:418: RuntimeWarning: invalid value encountered in greater\n",
      "  hits = np.where(cur_imp[0] > imp_sha_max)[0]\n"
     ]
    },
    {
     "name": "stdout",
     "output_type": "stream",
     "text": [
      "Iteration: \t61 / 100\n",
      "Confirmed: \t4\n",
      "Tentative: \t1\n",
      "Rejected: \t109\n"
     ]
    },
    {
     "name": "stderr",
     "output_type": "stream",
     "text": [
      "/home/shomeb/h/halvorre/master-thesis/venv/lib/python3.6/site-packages/boruta/boruta_py.py:418: RuntimeWarning: invalid value encountered in greater\n",
      "  hits = np.where(cur_imp[0] > imp_sha_max)[0]\n"
     ]
    },
    {
     "name": "stdout",
     "output_type": "stream",
     "text": [
      "Iteration: \t62 / 100\n",
      "Confirmed: \t4\n",
      "Tentative: \t1\n",
      "Rejected: \t109\n"
     ]
    },
    {
     "name": "stderr",
     "output_type": "stream",
     "text": [
      "/home/shomeb/h/halvorre/master-thesis/venv/lib/python3.6/site-packages/boruta/boruta_py.py:418: RuntimeWarning: invalid value encountered in greater\n",
      "  hits = np.where(cur_imp[0] > imp_sha_max)[0]\n"
     ]
    },
    {
     "name": "stdout",
     "output_type": "stream",
     "text": [
      "Iteration: \t63 / 100\n",
      "Confirmed: \t4\n",
      "Tentative: \t1\n",
      "Rejected: \t109\n"
     ]
    },
    {
     "name": "stderr",
     "output_type": "stream",
     "text": [
      "/home/shomeb/h/halvorre/master-thesis/venv/lib/python3.6/site-packages/boruta/boruta_py.py:418: RuntimeWarning: invalid value encountered in greater\n",
      "  hits = np.where(cur_imp[0] > imp_sha_max)[0]\n"
     ]
    },
    {
     "name": "stdout",
     "output_type": "stream",
     "text": [
      "Iteration: \t64 / 100\n",
      "Confirmed: \t4\n",
      "Tentative: \t1\n",
      "Rejected: \t109\n"
     ]
    },
    {
     "name": "stderr",
     "output_type": "stream",
     "text": [
      "/home/shomeb/h/halvorre/master-thesis/venv/lib/python3.6/site-packages/boruta/boruta_py.py:418: RuntimeWarning: invalid value encountered in greater\n",
      "  hits = np.where(cur_imp[0] > imp_sha_max)[0]\n"
     ]
    },
    {
     "name": "stdout",
     "output_type": "stream",
     "text": [
      "Iteration: \t65 / 100\n",
      "Confirmed: \t4\n",
      "Tentative: \t1\n",
      "Rejected: \t109\n"
     ]
    },
    {
     "name": "stderr",
     "output_type": "stream",
     "text": [
      "/home/shomeb/h/halvorre/master-thesis/venv/lib/python3.6/site-packages/boruta/boruta_py.py:418: RuntimeWarning: invalid value encountered in greater\n",
      "  hits = np.where(cur_imp[0] > imp_sha_max)[0]\n"
     ]
    },
    {
     "name": "stdout",
     "output_type": "stream",
     "text": [
      "Iteration: \t66 / 100\n",
      "Confirmed: \t4\n",
      "Tentative: \t1\n",
      "Rejected: \t109\n"
     ]
    },
    {
     "name": "stderr",
     "output_type": "stream",
     "text": [
      "/home/shomeb/h/halvorre/master-thesis/venv/lib/python3.6/site-packages/boruta/boruta_py.py:418: RuntimeWarning: invalid value encountered in greater\n",
      "  hits = np.where(cur_imp[0] > imp_sha_max)[0]\n"
     ]
    },
    {
     "name": "stdout",
     "output_type": "stream",
     "text": [
      "Iteration: \t67 / 100\n",
      "Confirmed: \t4\n",
      "Tentative: \t1\n",
      "Rejected: \t109\n"
     ]
    },
    {
     "name": "stderr",
     "output_type": "stream",
     "text": [
      "/home/shomeb/h/halvorre/master-thesis/venv/lib/python3.6/site-packages/boruta/boruta_py.py:418: RuntimeWarning: invalid value encountered in greater\n",
      "  hits = np.where(cur_imp[0] > imp_sha_max)[0]\n"
     ]
    },
    {
     "name": "stdout",
     "output_type": "stream",
     "text": [
      "Iteration: \t68 / 100\n",
      "Confirmed: \t4\n",
      "Tentative: \t1\n",
      "Rejected: \t109\n"
     ]
    },
    {
     "name": "stderr",
     "output_type": "stream",
     "text": [
      "/home/shomeb/h/halvorre/master-thesis/venv/lib/python3.6/site-packages/boruta/boruta_py.py:418: RuntimeWarning: invalid value encountered in greater\n",
      "  hits = np.where(cur_imp[0] > imp_sha_max)[0]\n"
     ]
    },
    {
     "name": "stdout",
     "output_type": "stream",
     "text": [
      "Iteration: \t69 / 100\n",
      "Confirmed: \t4\n",
      "Tentative: \t1\n",
      "Rejected: \t109\n"
     ]
    },
    {
     "name": "stderr",
     "output_type": "stream",
     "text": [
      "/home/shomeb/h/halvorre/master-thesis/venv/lib/python3.6/site-packages/boruta/boruta_py.py:418: RuntimeWarning: invalid value encountered in greater\n",
      "  hits = np.where(cur_imp[0] > imp_sha_max)[0]\n"
     ]
    },
    {
     "name": "stdout",
     "output_type": "stream",
     "text": [
      "Iteration: \t70 / 100\n",
      "Confirmed: \t4\n",
      "Tentative: \t1\n",
      "Rejected: \t109\n"
     ]
    },
    {
     "name": "stderr",
     "output_type": "stream",
     "text": [
      "/home/shomeb/h/halvorre/master-thesis/venv/lib/python3.6/site-packages/boruta/boruta_py.py:418: RuntimeWarning: invalid value encountered in greater\n",
      "  hits = np.where(cur_imp[0] > imp_sha_max)[0]\n"
     ]
    },
    {
     "name": "stdout",
     "output_type": "stream",
     "text": [
      "Iteration: \t71 / 100\n",
      "Confirmed: \t4\n",
      "Tentative: \t1\n",
      "Rejected: \t109\n"
     ]
    },
    {
     "name": "stderr",
     "output_type": "stream",
     "text": [
      "/home/shomeb/h/halvorre/master-thesis/venv/lib/python3.6/site-packages/boruta/boruta_py.py:418: RuntimeWarning: invalid value encountered in greater\n",
      "  hits = np.where(cur_imp[0] > imp_sha_max)[0]\n"
     ]
    },
    {
     "name": "stdout",
     "output_type": "stream",
     "text": [
      "Iteration: \t72 / 100\n",
      "Confirmed: \t4\n",
      "Tentative: \t1\n",
      "Rejected: \t109\n"
     ]
    },
    {
     "name": "stderr",
     "output_type": "stream",
     "text": [
      "/home/shomeb/h/halvorre/master-thesis/venv/lib/python3.6/site-packages/boruta/boruta_py.py:418: RuntimeWarning: invalid value encountered in greater\n",
      "  hits = np.where(cur_imp[0] > imp_sha_max)[0]\n"
     ]
    },
    {
     "name": "stdout",
     "output_type": "stream",
     "text": [
      "Iteration: \t73 / 100\n",
      "Confirmed: \t4\n",
      "Tentative: \t1\n",
      "Rejected: \t109\n"
     ]
    },
    {
     "name": "stderr",
     "output_type": "stream",
     "text": [
      "/home/shomeb/h/halvorre/master-thesis/venv/lib/python3.6/site-packages/boruta/boruta_py.py:418: RuntimeWarning: invalid value encountered in greater\n",
      "  hits = np.where(cur_imp[0] > imp_sha_max)[0]\n"
     ]
    },
    {
     "name": "stdout",
     "output_type": "stream",
     "text": [
      "Iteration: \t74 / 100\n",
      "Confirmed: \t4\n",
      "Tentative: \t1\n",
      "Rejected: \t109\n"
     ]
    },
    {
     "name": "stderr",
     "output_type": "stream",
     "text": [
      "/home/shomeb/h/halvorre/master-thesis/venv/lib/python3.6/site-packages/boruta/boruta_py.py:418: RuntimeWarning: invalid value encountered in greater\n",
      "  hits = np.where(cur_imp[0] > imp_sha_max)[0]\n"
     ]
    },
    {
     "name": "stdout",
     "output_type": "stream",
     "text": [
      "Iteration: \t75 / 100\n",
      "Confirmed: \t4\n",
      "Tentative: \t1\n",
      "Rejected: \t109\n"
     ]
    },
    {
     "name": "stderr",
     "output_type": "stream",
     "text": [
      "/home/shomeb/h/halvorre/master-thesis/venv/lib/python3.6/site-packages/boruta/boruta_py.py:418: RuntimeWarning: invalid value encountered in greater\n",
      "  hits = np.where(cur_imp[0] > imp_sha_max)[0]\n"
     ]
    },
    {
     "name": "stdout",
     "output_type": "stream",
     "text": [
      "Iteration: \t76 / 100\n",
      "Confirmed: \t4\n",
      "Tentative: \t1\n",
      "Rejected: \t109\n"
     ]
    },
    {
     "name": "stderr",
     "output_type": "stream",
     "text": [
      "/home/shomeb/h/halvorre/master-thesis/venv/lib/python3.6/site-packages/boruta/boruta_py.py:418: RuntimeWarning: invalid value encountered in greater\n",
      "  hits = np.where(cur_imp[0] > imp_sha_max)[0]\n"
     ]
    },
    {
     "name": "stdout",
     "output_type": "stream",
     "text": [
      "Iteration: \t77 / 100\n",
      "Confirmed: \t4\n",
      "Tentative: \t1\n",
      "Rejected: \t109\n"
     ]
    },
    {
     "name": "stderr",
     "output_type": "stream",
     "text": [
      "/home/shomeb/h/halvorre/master-thesis/venv/lib/python3.6/site-packages/boruta/boruta_py.py:418: RuntimeWarning: invalid value encountered in greater\n",
      "  hits = np.where(cur_imp[0] > imp_sha_max)[0]\n"
     ]
    },
    {
     "name": "stdout",
     "output_type": "stream",
     "text": [
      "Iteration: \t78 / 100\n",
      "Confirmed: \t4\n",
      "Tentative: \t1\n",
      "Rejected: \t109\n"
     ]
    },
    {
     "name": "stderr",
     "output_type": "stream",
     "text": [
      "/home/shomeb/h/halvorre/master-thesis/venv/lib/python3.6/site-packages/boruta/boruta_py.py:418: RuntimeWarning: invalid value encountered in greater\n",
      "  hits = np.where(cur_imp[0] > imp_sha_max)[0]\n"
     ]
    },
    {
     "name": "stdout",
     "output_type": "stream",
     "text": [
      "Iteration: \t79 / 100\n",
      "Confirmed: \t4\n",
      "Tentative: \t1\n",
      "Rejected: \t109\n"
     ]
    },
    {
     "name": "stderr",
     "output_type": "stream",
     "text": [
      "/home/shomeb/h/halvorre/master-thesis/venv/lib/python3.6/site-packages/boruta/boruta_py.py:418: RuntimeWarning: invalid value encountered in greater\n",
      "  hits = np.where(cur_imp[0] > imp_sha_max)[0]\n"
     ]
    },
    {
     "name": "stdout",
     "output_type": "stream",
     "text": [
      "Iteration: \t80 / 100\n",
      "Confirmed: \t4\n",
      "Tentative: \t1\n",
      "Rejected: \t109\n"
     ]
    },
    {
     "name": "stderr",
     "output_type": "stream",
     "text": [
      "/home/shomeb/h/halvorre/master-thesis/venv/lib/python3.6/site-packages/boruta/boruta_py.py:418: RuntimeWarning: invalid value encountered in greater\n",
      "  hits = np.where(cur_imp[0] > imp_sha_max)[0]\n"
     ]
    },
    {
     "name": "stdout",
     "output_type": "stream",
     "text": [
      "Iteration: \t81 / 100\n",
      "Confirmed: \t4\n",
      "Tentative: \t1\n",
      "Rejected: \t109\n"
     ]
    },
    {
     "name": "stderr",
     "output_type": "stream",
     "text": [
      "/home/shomeb/h/halvorre/master-thesis/venv/lib/python3.6/site-packages/boruta/boruta_py.py:418: RuntimeWarning: invalid value encountered in greater\n",
      "  hits = np.where(cur_imp[0] > imp_sha_max)[0]\n"
     ]
    },
    {
     "name": "stdout",
     "output_type": "stream",
     "text": [
      "Iteration: \t82 / 100\n",
      "Confirmed: \t4\n",
      "Tentative: \t1\n",
      "Rejected: \t109\n"
     ]
    },
    {
     "name": "stderr",
     "output_type": "stream",
     "text": [
      "/home/shomeb/h/halvorre/master-thesis/venv/lib/python3.6/site-packages/boruta/boruta_py.py:418: RuntimeWarning: invalid value encountered in greater\n",
      "  hits = np.where(cur_imp[0] > imp_sha_max)[0]\n"
     ]
    },
    {
     "name": "stdout",
     "output_type": "stream",
     "text": [
      "Iteration: \t83 / 100\n",
      "Confirmed: \t4\n",
      "Tentative: \t1\n",
      "Rejected: \t109\n"
     ]
    },
    {
     "name": "stderr",
     "output_type": "stream",
     "text": [
      "/home/shomeb/h/halvorre/master-thesis/venv/lib/python3.6/site-packages/boruta/boruta_py.py:418: RuntimeWarning: invalid value encountered in greater\n",
      "  hits = np.where(cur_imp[0] > imp_sha_max)[0]\n"
     ]
    },
    {
     "name": "stdout",
     "output_type": "stream",
     "text": [
      "Iteration: \t84 / 100\n",
      "Confirmed: \t4\n",
      "Tentative: \t1\n",
      "Rejected: \t109\n"
     ]
    },
    {
     "name": "stderr",
     "output_type": "stream",
     "text": [
      "/home/shomeb/h/halvorre/master-thesis/venv/lib/python3.6/site-packages/boruta/boruta_py.py:418: RuntimeWarning: invalid value encountered in greater\n",
      "  hits = np.where(cur_imp[0] > imp_sha_max)[0]\n"
     ]
    },
    {
     "name": "stdout",
     "output_type": "stream",
     "text": [
      "Iteration: \t85 / 100\n",
      "Confirmed: \t4\n",
      "Tentative: \t1\n",
      "Rejected: \t109\n"
     ]
    },
    {
     "name": "stderr",
     "output_type": "stream",
     "text": [
      "/home/shomeb/h/halvorre/master-thesis/venv/lib/python3.6/site-packages/boruta/boruta_py.py:418: RuntimeWarning: invalid value encountered in greater\n",
      "  hits = np.where(cur_imp[0] > imp_sha_max)[0]\n"
     ]
    },
    {
     "name": "stdout",
     "output_type": "stream",
     "text": [
      "Iteration: \t86 / 100\n",
      "Confirmed: \t4\n",
      "Tentative: \t1\n",
      "Rejected: \t109\n"
     ]
    },
    {
     "name": "stderr",
     "output_type": "stream",
     "text": [
      "/home/shomeb/h/halvorre/master-thesis/venv/lib/python3.6/site-packages/boruta/boruta_py.py:418: RuntimeWarning: invalid value encountered in greater\n",
      "  hits = np.where(cur_imp[0] > imp_sha_max)[0]\n"
     ]
    },
    {
     "name": "stdout",
     "output_type": "stream",
     "text": [
      "Iteration: \t87 / 100\n",
      "Confirmed: \t4\n",
      "Tentative: \t1\n",
      "Rejected: \t109\n"
     ]
    },
    {
     "name": "stderr",
     "output_type": "stream",
     "text": [
      "/home/shomeb/h/halvorre/master-thesis/venv/lib/python3.6/site-packages/boruta/boruta_py.py:418: RuntimeWarning: invalid value encountered in greater\n",
      "  hits = np.where(cur_imp[0] > imp_sha_max)[0]\n"
     ]
    },
    {
     "name": "stdout",
     "output_type": "stream",
     "text": [
      "Iteration: \t88 / 100\n",
      "Confirmed: \t4\n",
      "Tentative: \t1\n",
      "Rejected: \t109\n"
     ]
    },
    {
     "name": "stderr",
     "output_type": "stream",
     "text": [
      "/home/shomeb/h/halvorre/master-thesis/venv/lib/python3.6/site-packages/boruta/boruta_py.py:418: RuntimeWarning: invalid value encountered in greater\n",
      "  hits = np.where(cur_imp[0] > imp_sha_max)[0]\n"
     ]
    },
    {
     "name": "stdout",
     "output_type": "stream",
     "text": [
      "Iteration: \t89 / 100\n",
      "Confirmed: \t4\n",
      "Tentative: \t1\n",
      "Rejected: \t109\n"
     ]
    },
    {
     "name": "stderr",
     "output_type": "stream",
     "text": [
      "/home/shomeb/h/halvorre/master-thesis/venv/lib/python3.6/site-packages/boruta/boruta_py.py:418: RuntimeWarning: invalid value encountered in greater\n",
      "  hits = np.where(cur_imp[0] > imp_sha_max)[0]\n"
     ]
    },
    {
     "name": "stdout",
     "output_type": "stream",
     "text": [
      "Iteration: \t90 / 100\n",
      "Confirmed: \t4\n",
      "Tentative: \t1\n",
      "Rejected: \t109\n"
     ]
    },
    {
     "name": "stderr",
     "output_type": "stream",
     "text": [
      "/home/shomeb/h/halvorre/master-thesis/venv/lib/python3.6/site-packages/boruta/boruta_py.py:418: RuntimeWarning: invalid value encountered in greater\n",
      "  hits = np.where(cur_imp[0] > imp_sha_max)[0]\n"
     ]
    },
    {
     "name": "stdout",
     "output_type": "stream",
     "text": [
      "Iteration: \t91 / 100\n",
      "Confirmed: \t4\n",
      "Tentative: \t1\n",
      "Rejected: \t109\n"
     ]
    },
    {
     "name": "stderr",
     "output_type": "stream",
     "text": [
      "/home/shomeb/h/halvorre/master-thesis/venv/lib/python3.6/site-packages/boruta/boruta_py.py:418: RuntimeWarning: invalid value encountered in greater\n",
      "  hits = np.where(cur_imp[0] > imp_sha_max)[0]\n"
     ]
    },
    {
     "name": "stdout",
     "output_type": "stream",
     "text": [
      "Iteration: \t92 / 100\n",
      "Confirmed: \t4\n",
      "Tentative: \t1\n",
      "Rejected: \t109\n"
     ]
    },
    {
     "name": "stderr",
     "output_type": "stream",
     "text": [
      "/home/shomeb/h/halvorre/master-thesis/venv/lib/python3.6/site-packages/boruta/boruta_py.py:418: RuntimeWarning: invalid value encountered in greater\n",
      "  hits = np.where(cur_imp[0] > imp_sha_max)[0]\n"
     ]
    },
    {
     "name": "stdout",
     "output_type": "stream",
     "text": [
      "Iteration: \t93 / 100\n",
      "Confirmed: \t4\n",
      "Tentative: \t1\n",
      "Rejected: \t109\n"
     ]
    },
    {
     "name": "stderr",
     "output_type": "stream",
     "text": [
      "/home/shomeb/h/halvorre/master-thesis/venv/lib/python3.6/site-packages/boruta/boruta_py.py:418: RuntimeWarning: invalid value encountered in greater\n",
      "  hits = np.where(cur_imp[0] > imp_sha_max)[0]\n"
     ]
    },
    {
     "name": "stdout",
     "output_type": "stream",
     "text": [
      "Iteration: \t94 / 100\n",
      "Confirmed: \t4\n",
      "Tentative: \t1\n",
      "Rejected: \t109\n"
     ]
    },
    {
     "name": "stderr",
     "output_type": "stream",
     "text": [
      "/home/shomeb/h/halvorre/master-thesis/venv/lib/python3.6/site-packages/boruta/boruta_py.py:418: RuntimeWarning: invalid value encountered in greater\n",
      "  hits = np.where(cur_imp[0] > imp_sha_max)[0]\n"
     ]
    },
    {
     "name": "stdout",
     "output_type": "stream",
     "text": [
      "Iteration: \t95 / 100\n",
      "Confirmed: \t4\n",
      "Tentative: \t1\n",
      "Rejected: \t109\n"
     ]
    },
    {
     "name": "stderr",
     "output_type": "stream",
     "text": [
      "/home/shomeb/h/halvorre/master-thesis/venv/lib/python3.6/site-packages/boruta/boruta_py.py:418: RuntimeWarning: invalid value encountered in greater\n",
      "  hits = np.where(cur_imp[0] > imp_sha_max)[0]\n"
     ]
    },
    {
     "name": "stdout",
     "output_type": "stream",
     "text": [
      "Iteration: \t96 / 100\n",
      "Confirmed: \t4\n",
      "Tentative: \t1\n",
      "Rejected: \t109\n"
     ]
    },
    {
     "name": "stderr",
     "output_type": "stream",
     "text": [
      "/home/shomeb/h/halvorre/master-thesis/venv/lib/python3.6/site-packages/boruta/boruta_py.py:418: RuntimeWarning: invalid value encountered in greater\n",
      "  hits = np.where(cur_imp[0] > imp_sha_max)[0]\n"
     ]
    },
    {
     "name": "stdout",
     "output_type": "stream",
     "text": [
      "Iteration: \t97 / 100\n",
      "Confirmed: \t4\n",
      "Tentative: \t1\n",
      "Rejected: \t109\n"
     ]
    },
    {
     "name": "stderr",
     "output_type": "stream",
     "text": [
      "/home/shomeb/h/halvorre/master-thesis/venv/lib/python3.6/site-packages/boruta/boruta_py.py:418: RuntimeWarning: invalid value encountered in greater\n",
      "  hits = np.where(cur_imp[0] > imp_sha_max)[0]\n"
     ]
    },
    {
     "name": "stdout",
     "output_type": "stream",
     "text": [
      "Iteration: \t98 / 100\n",
      "Confirmed: \t4\n",
      "Tentative: \t1\n",
      "Rejected: \t109\n",
      "Iteration: \t99 / 100\n",
      "Confirmed: \t4\n",
      "Tentative: \t1\n",
      "Rejected: \t109\n",
      "\n",
      "\n",
      "BorutaPy finished running.\n",
      "\n",
      "Iteration: \t100 / 100\n",
      "Confirmed: \t4\n",
      "Tentative: \t0\n",
      "Rejected: \t109\n"
     ]
    },
    {
     "name": "stderr",
     "output_type": "stream",
     "text": [
      "/home/shomeb/h/halvorre/master-thesis/venv/lib/python3.6/site-packages/boruta/boruta_py.py:418: RuntimeWarning: invalid value encountered in greater\n",
      "  hits = np.where(cur_imp[0] > imp_sha_max)[0]\n"
     ]
    }
   ],
   "source": [
    "pres_forest, pres_boruta = run_boruta(x_train, y_train[:,2])"
   ]
  },
  {
   "cell_type": "code",
   "execution_count": 259,
   "metadata": {},
   "outputs": [
    {
     "name": "stdout",
     "output_type": "stream",
     "text": [
      "Confirmed for FT: 26\n",
      "Confirmed for TT: 3\n",
      "Confirmed for PT: 4\n",
      "\n",
      "----- Confirmed tags for FT -----\n",
      "0. VAL_23-KA-9101-M01-62B:X.Value\n",
      "1. VAL_23-KA-9101_APE:VALUE\n",
      "2. VAL_23-KA-9101_APH:VALUE\n",
      "3. VAL_23-KA-9101_APR:VALUE\n",
      "4. VAL_23-KA-9101_ASP:VALUE\n",
      "5. VAL_23-KA-9101_ESP:VALUE\n",
      "6. VAL_23-PDI-96149:X.Value\n",
      "7. VAL_23-PDI-96150:X.Value\n",
      "8. VAL_23-PDT-96167:X.Value\n",
      "9. VAL_23-PT-92504:X.Value\n",
      "10. VAL_23-PT-92512:X.Value\n",
      "11. VAL_23-PT-92521:X.Value\n",
      "12. VAL_23-PT-92523:X.Value\n",
      "13. VAL_23-PT-92532:X.Value\n",
      "14. VAL_23-PT-92535:X.Value\n",
      "15. VAL_23-PT-92540:X.Value\n",
      "16. VAL_23_FIC_92543_01:Z.X.Value\n",
      "17. VAL_23_FIC_92543_06:Z.X.Value\n",
      "18. VAL_23_FT_92537_02:Z.X.Value\n",
      "19. VAL_23_FT_92537_03:Z.X.Value\n",
      "20. VAL_23_KA_9101_M01_62C:Z.X.Value\n",
      "21. VAL_23_PIC_92538_04:Z.X.Value\n",
      "22. VAL_23_PIC_92538_06:Z.X.Value\n",
      "23. VAL_23_PIC_92538_12:Z.X.Value\n",
      "24. VAL_23_PT_92531:Z.X.Value\n",
      "25. VAL_23_ZT_92543:Z.X.Value\n",
      "\n",
      "Equal tags to TT: []\n",
      "Equal tags to PT: []\n",
      "\n",
      "----- Confirmed tags for TT -----\n",
      "0. VAL_23-TT-92537:X.Value\n",
      "1. VAL_23-TT-92602:X.Value\n",
      "2. VAL_23_TT_92536:Z.X.Value\n",
      "\n",
      "Equal tags to FT: []\n",
      "Equal tags to PT: []\n",
      "\n",
      "----- Confirmed tags for PT -----\n",
      "0. VAL_23-PT-92536:X.Value\n",
      "1. VAL_23_FIC_92543_08:Z.X.Value\n",
      "2. VAL_23_PIC_92538_08:Z.X.Value\n",
      "3. VAL_23_PT_92537:Z.X.Value\n",
      "\n",
      "Equal tags to FT: []\n",
      "Equal tags to TT: []\n",
      "\n"
     ]
    }
   ],
   "source": [
    "print(\"Confirmed for FT:\",sum(flow_boruta.support_))\n",
    "print(\"Confirmed for TT:\",sum(temp_boruta.support_))\n",
    "print(\"Confirmed for PT:\",sum(pres_boruta.support_))\n",
    "\n",
    "confirmed_ft = headers[3:][flow_boruta.support_]\n",
    "confirmed_tt = headers[3:][temp_boruta.support_]\n",
    "confirmed_pt = headers[3:][pres_boruta.support_]\n",
    "\n",
    "def get_equal_elems(list1, list2):\n",
    "    equal_elems = []\n",
    "    for e1 in list1: \n",
    "        if e1 in list2: equal_elems.append(e1)\n",
    "            \n",
    "    return equal_elems\n",
    "\n",
    "print(\"\\n----- Confirmed tags for FT -----\")\n",
    "[print(\"{0}. {1}\".format(i,tag)) for i,tag in enumerate(confirmed_ft)]\n",
    "print(\"\\nEqual tags to TT:\", get_equal_elems(confirmed_ft, confirmed_tt))\n",
    "print(\"Equal tags to PT:\", get_equal_elems(confirmed_ft, confirmed_pt))\n",
    "print()\n",
    "\n",
    "print(\"----- Confirmed tags for TT -----\")\n",
    "[print(\"{0}. {1}\".format(i,tag)) for i,tag in enumerate(confirmed_tt)]\n",
    "print(\"\\nEqual tags to FT:\", get_equal_elems(confirmed_tt, confirmed_ft))\n",
    "print(\"Equal tags to PT:\", get_equal_elems(confirmed_tt, confirmed_pt))\n",
    "print()\n",
    "\n",
    "print(\"----- Confirmed tags for PT -----\")\n",
    "[print(\"{0}. {1}\".format(i,tag)) for i,tag in enumerate(confirmed_pt)]\n",
    "print(\"\\nEqual tags to FT:\", get_equal_elems(confirmed_pt, confirmed_ft))\n",
    "print(\"Equal tags to TT:\", get_equal_elems(confirmed_pt, confirmed_tt))\n",
    "print()"
   ]
  },
  {
   "cell_type": "markdown",
   "metadata": {},
   "source": [
    "#### Export data with the selected features"
   ]
  },
  {
   "cell_type": "code",
   "execution_count": 321,
   "metadata": {},
   "outputs": [
    {
     "name": "stdout",
     "output_type": "stream",
     "text": [
      "Saving to file ...\n",
      "... success!\n"
     ]
    }
   ],
   "source": [
    "confirmed_inputs = sorted(np.unique(np.concatenate((confirmed_ft, confirmed_tt, confirmed_pt))))\n",
    "confirmed_inputs_idxs = [np.where(headers == tag)[0][0] for tag in confirmed_inputs]\n",
    "\n",
    "tags_df = pd.DataFrame(np.hstack((np.expand_dims(confirmed_inputs, axis=1), \n",
    "                                  np.expand_dims(confirmed_inputs_idxs, axis=1))), \n",
    "                       columns=[\"Tag\", \"Index\"])\n",
    "\n",
    "# Save the tag names in metadata\n",
    "path = ROOT_PATH + \"data/metadata/feature_selection/\"\n",
    "tags_df.to_csv(path + \"features_bor.csv\", index=False)\n",
    "\n",
    "# Export the datasets\n",
    "all_selected_idxs = np.concatenate((range(3), confirmed_inputs_idxs))\n",
    "selected_train = data_train[:, all_selected_idxs]\n",
    "selected_valid = data_valid[:, all_selected_idxs]\n",
    "selected_test = data_test[:, all_selected_idxs]\n",
    "selected_complete = np.vstack((selected_train, selected_valid, selected_test))\n",
    "\n",
    "path = ROOT_PATH + \"data/feature_selection/boruta/\"\n",
    "print(\"Saving to file ...\")\n",
    "np.save(path + \"train_bor.npy\", selected_train)\n",
    "np.save(path + \"valid_bor.npy\", selected_valid)\n",
    "np.save(path + \"test_bor.npy\", selected_test)\n",
    "np.save(path + \"complete_bor.npy\", selected_complete)\n",
    "print(\"... success!\")"
   ]
  },
  {
   "cell_type": "markdown",
   "metadata": {},
   "source": [
    "### Boruta features with PCA analysis\n",
    "\n",
    "Many of the features are highly correlated to each other, as shown by the below plot. It can therefore be useful to transform the data to decorrelated components by applying PCA. "
   ]
  },
  {
   "cell_type": "code",
   "execution_count": 313,
   "metadata": {
    "scrolled": false
   },
   "outputs": [
    {
     "data": {
      "image/png": "[encoded data removed]",
      "text/plain": [
       "<Figure size 1080x648 with 2 Axes>"
      ]
     },
     "metadata": {},
     "output_type": "display_data"
    }
   ],
   "source": [
    "data_inputs = data_train[:,confirmed_inputs_idxs]\n",
    "\n",
    "colnames = [name.split(\"VAL_23\")[1][1:].split(\":\")[0] for name in confirmed_inputs]\n",
    "df = pd.DataFrame(data_inputs, columns=colnames)\n",
    "corr = df.corr()\n",
    "\n",
    "mask = np.zeros_like(corr, dtype=np.bool)\n",
    "mask[np.triu_indices_from(mask)] = True\n",
    "\n",
    "# Set up the matplotlib figure\n",
    "f, ax = plt.subplots(figsize=(15, 9))\n",
    "\n",
    "# Generate a custom diverging colormap\n",
    "cmap = sns.diverging_palette(220, 10, as_cmap=True)\n",
    "\n",
    "# Draw the heatmap with the mask and correct aspect ratio\n",
    "sns.heatmap(corr, mask=mask, cmap=cmap,\n",
    "            square=True, linewidths=1, cbar_kws={\"shrink\": .6})\n",
    "\n",
    "ax.set_title(\"Correlation plot of the features selected by Boruta\")\n",
    "f.show()"
   ]
  },
  {
   "cell_type": "markdown",
   "metadata": {},
   "source": [
    "From the plot, we draw the following conclusions: \n",
    "- \"PT\"-tags have a high positive correlation with all other \"PT\"-tags\n",
    "- \"KA-9101_ASP\" is highly correlated with \\*_APR\n",
    "- Most \"PIC\"-tags are highly correlated with the \"PT\"- and \"FIC\"-tags.\n",
    "- \"FIC\"-tags are highly correlated to \"PT\"-tags.\n",
    "- High negative correlation between \"KA-9101_ESP\" and \"\\*_APR\" and \"\\*_ASP\"\n",
    "- Otherwise, it seems like the correlation is moderate .\n",
    "\n",
    "Because of the generally high correlation, linear transformations that decorrelates the variables can be beneficial. Therefore, a PCA analysis is done on the data: "
   ]
  },
  {
   "cell_type": "code",
   "execution_count": 314,
   "metadata": {},
   "outputs": [
    {
     "data": {
      "image/png": "[encoded data removed]",
      "text/plain": [
       "<Figure size 864x432 with 1 Axes>"
      ]
     },
     "metadata": {},
     "output_type": "display_data"
    },
    {
     "name": "stdout",
     "output_type": "stream",
     "text": [
      "Number of components (99% var expl.): 8\n"
     ]
    }
   ],
   "source": [
    "pca = PCA().fit(data_inputs)\n",
    "\n",
    "plt.figure()\n",
    "plt.plot(np.cumsum(pca.explained_variance_ratio_), marker=\"o\", c=\"darkblue\", ms=4, lw=2)\n",
    "plt.title(\"PCA: Cumulative explained variance per component\")\n",
    "plt.xlabel(\"Principal Components\")\n",
    "plt.ylabel(\"Cumulative explained variance\")\n",
    "plt.show()\n",
    "\n",
    "print(\"Number of components (99% var expl.):\", PCA(.99).fit(data_train[:,all_confirmed_idxs[3:]]).n_components_)"
   ]
  },
  {
   "cell_type": "markdown",
   "metadata": {},
   "source": [
    "Looks like 99% of the variation in the data can be described by only 8 principal components! \n",
    "\n",
    "**Exporting the PCA-datasets for training, validation and testing.**"
   ]
  },
  {
   "cell_type": "code",
   "execution_count": 315,
   "metadata": {},
   "outputs": [
    {
     "name": "stdout",
     "output_type": "stream",
     "text": [
      "8\n",
      "(53211, 11)\n",
      "(17737, 11)\n",
      "(17737, 11)\n",
      "Saving to file ...\n",
      "... success! \n"
     ]
    }
   ],
   "source": [
    "def transform_pca(fit_pca, data, idxs_to_transform):\n",
    "    transformed = fit_pca.transform(data[:,idxs_to_transform])\n",
    "    data_pca = np.hstack((data[:,:3], transformed))  \n",
    "    return data_pca\n",
    "\n",
    "idxs = confirmed_inputs_idxs\n",
    "pca = PCA(.99).fit(data_inputs)\n",
    "print(pca.n_components_)\n",
    "\n",
    "data_train_pca = transform_pca(pca, data_train, idxs)\n",
    "data_valid_pca = transform_pca(pca, data_valid, idxs)\n",
    "data_test_pca = transform_pca(pca, data_test, idxs)\n",
    "\n",
    "print(data_train_pca.shape)\n",
    "print(data_valid_pca.shape)\n",
    "print(data_test_pca.shape)\n",
    "\n",
    "print(\"Saving to file ...\")\n",
    "path = ROOT_PATH + \"data/feature_selection/boruta/\"\n",
    "np.save(path + \"train_bor_pca.npy\", data_train_pca)\n",
    "np.save(path + \"valid_bor_pca.npy\", data_valid_pca)\n",
    "np.save(path + \"test_bor_pca.npy\", data_test_pca)\n",
    "print(\"... success! \")"
   ]
  },
  {
   "cell_type": "markdown",
   "metadata": {},
   "source": [
    "---\n",
    "## (2) Feature Selection by Random Forest\n",
    "\n",
    "A second way to perform feature selection is to train a Random Forest which gives us \"feature importances\" for each of the features. The feature importance is decided from how often the variable has been used as a split criterion. Feature selection is done by choosing the X most important features based on the Random Forest. \n",
    "\n",
    "---"
   ]
  },
  {
   "cell_type": "code",
   "execution_count": 168,
   "metadata": {},
   "outputs": [],
   "source": [
    "params_rf = {'n_estimators': 2000, \n",
    "             'max_depth': 5, \n",
    "             'min_samples_split': 2, \n",
    "             'max_features': 'auto', \n",
    "             'criterion': 'mse', \n",
    "             'random_state': 0, \n",
    "             'n_jobs': -1, \n",
    "             'oob_score': True,\n",
    "             'verbose': 1\n",
    "            }\n",
    "\n",
    "rf = RandomForestRegressor(**params_rf)"
   ]
  },
  {
   "cell_type": "code",
   "execution_count": 169,
   "metadata": {},
   "outputs": [
    {
     "name": "stderr",
     "output_type": "stream",
     "text": [
      "[Parallel(n_jobs=-1)]: Using backend ThreadingBackend with 6 concurrent workers.\n",
      "[Parallel(n_jobs=-1)]: Done  38 tasks      | elapsed:   10.7s\n",
      "[Parallel(n_jobs=-1)]: Done 188 tasks      | elapsed:   50.6s\n",
      "[Parallel(n_jobs=-1)]: Done 438 tasks      | elapsed:  2.0min\n",
      "[Parallel(n_jobs=-1)]: Done 788 tasks      | elapsed:  3.6min\n",
      "[Parallel(n_jobs=-1)]: Done 1238 tasks      | elapsed:  5.7min\n",
      "[Parallel(n_jobs=-1)]: Done 1788 tasks      | elapsed:  8.2min\n",
      "[Parallel(n_jobs=-1)]: Done 2000 out of 2000 | elapsed:  9.1min finished\n"
     ]
    },
    {
     "data": {
      "text/plain": [
       "RandomForestRegressor(bootstrap=True, criterion='mse', max_depth=5,\n",
       "           max_features='auto', max_leaf_nodes=None,\n",
       "           min_impurity_decrease=0.0, min_impurity_split=None,\n",
       "           min_samples_leaf=1, min_samples_split=2,\n",
       "           min_weight_fraction_leaf=0.0, n_estimators=2000, n_jobs=-1,\n",
       "           oob_score=True, random_state=0, verbose=1, warm_start=False)"
      ]
     },
     "execution_count": 169,
     "metadata": {},
     "output_type": "execute_result"
    }
   ],
   "source": [
    "rf.fit(x_train, y_train)"
   ]
  },
  {
   "cell_type": "code",
   "execution_count": 273,
   "metadata": {},
   "outputs": [
    {
     "name": "stdout",
     "output_type": "stream",
     "text": [
      "Average Imp.:             0.008771929824561412\n",
      "Average Imp. > 0:         0.03703703703703707\n",
      "# of Feature Imp. > 0:    27\n",
      "# of Feature Imp. > avg:  4\n"
     ]
    }
   ],
   "source": [
    "avg_imp = np.average(rf.feature_importances_)\n",
    "avg_imp_gt0 = np.average(rf.feature_importances_[rf.feature_importances_ > 0])\n",
    "print(\"Average Imp.:            \", avg_imp)\n",
    "print(\"Average Imp. > 0:        \", avg_imp_gt0)\n",
    "print(\"# of Feature Imp. > 0:   \",len(rf.feature_importances_[rf.feature_importances_ > 0]))\n",
    "print(\"# of Feature Imp. > avg: \",len(rf.feature_importances_[rf.feature_importances_ > avg_imp]))"
   ]
  },
  {
   "cell_type": "code",
   "execution_count": 265,
   "metadata": {
    "scrolled": false
   },
   "outputs": [
    {
     "data": {
      "image/png": "[encoded data removed]",
      "text/plain": [
       "<Figure size 864x432 with 1 Axes>"
      ]
     },
     "metadata": {},
     "output_type": "display_data"
    },
    {
     "name": "stdout",
     "output_type": "stream",
     "text": [
      "Most important features by Random Forest:\n"
     ]
    },
    {
     "data": {
      "text/html": [
       "<div>\n",
       "<style scoped>\n",
       "    .dataframe tbody tr th:only-of-type {\n",
       "        vertical-align: middle;\n",
       "    }\n",
       "\n",
       "    .dataframe tbody tr th {\n",
       "        vertical-align: top;\n",
       "    }\n",
       "\n",
       "    .dataframe thead th {\n",
       "        text-align: right;\n",
       "    }\n",
       "</style>\n",
       "<table border=\"1\" class=\"dataframe\">\n",
       "  <thead>\n",
       "    <tr style=\"text-align: right;\">\n",
       "      <th></th>\n",
       "      <th>Tag</th>\n",
       "      <th>Value</th>\n",
       "    </tr>\n",
       "  </thead>\n",
       "  <tbody>\n",
       "    <tr>\n",
       "      <th>0</th>\n",
       "      <td>VAL_23-PT-92536:X.Value</td>\n",
       "      <td>0.358</td>\n",
       "    </tr>\n",
       "    <tr>\n",
       "      <th>1</th>\n",
       "      <td>VAL_23-TT-92537:X.Value</td>\n",
       "      <td>0.335</td>\n",
       "    </tr>\n",
       "    <tr>\n",
       "      <th>2</th>\n",
       "      <td>VAL_23_FT_92537_03:Z.X.Value</td>\n",
       "      <td>0.273</td>\n",
       "    </tr>\n",
       "    <tr>\n",
       "      <th>3</th>\n",
       "      <td>VAL_23_FT_92537_02:Z.X.Value</td>\n",
       "      <td>0.021</td>\n",
       "    </tr>\n",
       "    <tr>\n",
       "      <th>4</th>\n",
       "      <td>VAL_23_FIC_92543_04:Z.X.Value</td>\n",
       "      <td>0.004</td>\n",
       "    </tr>\n",
       "    <tr>\n",
       "      <th>5</th>\n",
       "      <td>VAL_23_TT_92536:Z.X.Value</td>\n",
       "      <td>0.002</td>\n",
       "    </tr>\n",
       "    <tr>\n",
       "      <th>6</th>\n",
       "      <td>VAL_23_PIC_92538_08:Z.X.Value</td>\n",
       "      <td>0.002</td>\n",
       "    </tr>\n",
       "    <tr>\n",
       "      <th>7</th>\n",
       "      <td>VAL_23_KA_9101_M01_62C:Z.X.Value</td>\n",
       "      <td>0.002</td>\n",
       "    </tr>\n",
       "    <tr>\n",
       "      <th>8</th>\n",
       "      <td>VAL_23_PIC_92538_06:Z.X.Value</td>\n",
       "      <td>0.001</td>\n",
       "    </tr>\n",
       "    <tr>\n",
       "      <th>9</th>\n",
       "      <td>VAL_23_FIC_92543_08:Z.X.Value</td>\n",
       "      <td>0.001</td>\n",
       "    </tr>\n",
       "    <tr>\n",
       "      <th>10</th>\n",
       "      <td>VAL_23-KA-9101-M01-62B:X.Value</td>\n",
       "      <td>0.001</td>\n",
       "    </tr>\n",
       "    <tr>\n",
       "      <th>11</th>\n",
       "      <td>VAL_23_PT_92537:Z.X.Value</td>\n",
       "      <td>0.000</td>\n",
       "    </tr>\n",
       "    <tr>\n",
       "      <th>12</th>\n",
       "      <td>VAL_23-KA-9101_ASP:VALUE</td>\n",
       "      <td>0.000</td>\n",
       "    </tr>\n",
       "  </tbody>\n",
       "</table>\n",
       "</div>"
      ],
      "text/plain": [
       "                                 Tag  Value\n",
       "0            VAL_23-PT-92536:X.Value  0.358\n",
       "1            VAL_23-TT-92537:X.Value  0.335\n",
       "2       VAL_23_FT_92537_03:Z.X.Value  0.273\n",
       "3       VAL_23_FT_92537_02:Z.X.Value  0.021\n",
       "4      VAL_23_FIC_92543_04:Z.X.Value  0.004\n",
       "5          VAL_23_TT_92536:Z.X.Value  0.002\n",
       "6      VAL_23_PIC_92538_08:Z.X.Value  0.002\n",
       "7   VAL_23_KA_9101_M01_62C:Z.X.Value  0.002\n",
       "8      VAL_23_PIC_92538_06:Z.X.Value  0.001\n",
       "9      VAL_23_FIC_92543_08:Z.X.Value  0.001\n",
       "10    VAL_23-KA-9101-M01-62B:X.Value  0.001\n",
       "11         VAL_23_PT_92537:Z.X.Value  0.000\n",
       "12          VAL_23-KA-9101_ASP:VALUE  0.000"
      ]
     },
     "execution_count": 265,
     "metadata": {},
     "output_type": "execute_result"
    }
   ],
   "source": [
    "headers_imp = list(zip(headers[3:],rf.feature_importances_))\n",
    "headers_imp_sorted = sorted(headers_imp, key=lambda tag: tag[1], reverse=True)\n",
    "headers_imp_filtered = list(filter(lambda elem: elem[1] > 1e-4, headers_imp_sorted))\n",
    "\n",
    "plt.figure()\n",
    "for i in range(len(headers_imp_filtered)):\n",
    "    tag, val = headers_imp_filtered[i]\n",
    "    #plt.bar(x=i,height=val,label=tag)\n",
    "    plt.scatter(x=i, y=val, label=tag, s=100)\n",
    "    plt.hlines(y=val,xmin=0,xmax=len(headers_imp_filtered), linestyle=\"dotted\", lw=1.0)\n",
    "\n",
    "xticks = [tup[0] for tup in headers_imp_filtered]\n",
    "plt.xticks(range(len(xticks)), xticks, rotation=90)\n",
    "plt.show()\n",
    "\n",
    "print(\"Most important features by Random Forest:\")\n",
    "rf_df = pd.DataFrame({\"Tag\":   [tup[0] for tup in headers_imp_filtered], \n",
    "              \"Value\": [round(tup[1],3) for tup in headers_imp_filtered]})\n",
    "rf_df"
   ]
  },
  {
   "cell_type": "code",
   "execution_count": null,
   "metadata": {},
   "outputs": [],
   "source": [
    "confirmed_inputs_rf = sorted(rf_df[\"\"])"
   ]
  },
  {
   "cell_type": "code",
   "execution_count": 316,
   "metadata": {},
   "outputs": [
    {
     "ename": "AttributeError",
     "evalue": "'list' object has no attribute 'values'",
     "output_type": "error",
     "traceback": [
      "\u001b[0;31m---------------------------------------------------------------------------\u001b[0m",
      "\u001b[0;31mAttributeError\u001b[0m                            Traceback (most recent call last)",
      "\u001b[0;32m<ipython-input-316-e69b50d2f37d>\u001b[0m in \u001b[0;36m<module>\u001b[0;34m\u001b[0m\n\u001b[0;32m----> 1\u001b[0;31m \u001b[0mrf_confirmed_tags\u001b[0m \u001b[0;34m=\u001b[0m \u001b[0msorted\u001b[0m\u001b[0;34m(\u001b[0m\u001b[0mrf_df\u001b[0m\u001b[0;34m[\u001b[0m\u001b[0;34m\"Tag\"\u001b[0m\u001b[0;34m]\u001b[0m\u001b[0;34m)\u001b[0m\u001b[0;34m.\u001b[0m\u001b[0mvalues\u001b[0m\u001b[0;34m\u001b[0m\u001b[0;34m\u001b[0m\u001b[0m\n\u001b[0m\u001b[1;32m      2\u001b[0m \u001b[0mrf_confirmed_idxs\u001b[0m \u001b[0;34m=\u001b[0m \u001b[0;34m[\u001b[0m\u001b[0mnp\u001b[0m\u001b[0;34m.\u001b[0m\u001b[0mwhere\u001b[0m\u001b[0;34m(\u001b[0m\u001b[0mheaders\u001b[0m\u001b[0;34m==\u001b[0m\u001b[0mtag\u001b[0m\u001b[0;34m)\u001b[0m\u001b[0;34m[\u001b[0m\u001b[0;36m0\u001b[0m\u001b[0;34m]\u001b[0m\u001b[0;34m[\u001b[0m\u001b[0;36m0\u001b[0m\u001b[0;34m]\u001b[0m \u001b[0;32mfor\u001b[0m \u001b[0mtag\u001b[0m \u001b[0;32min\u001b[0m \u001b[0mrf_confirmed_tags\u001b[0m\u001b[0;34m]\u001b[0m\u001b[0;34m\u001b[0m\u001b[0;34m\u001b[0m\u001b[0m\n\u001b[1;32m      3\u001b[0m \u001b[0mrf_confirmed_idxs_all\u001b[0m \u001b[0;34m=\u001b[0m \u001b[0mnp\u001b[0m\u001b[0;34m.\u001b[0m\u001b[0mconcatenate\u001b[0m\u001b[0;34m(\u001b[0m\u001b[0;34m(\u001b[0m\u001b[0mrange\u001b[0m\u001b[0;34m(\u001b[0m\u001b[0mlen\u001b[0m\u001b[0;34m(\u001b[0m\u001b[0mtarget_tags\u001b[0m\u001b[0;34m)\u001b[0m\u001b[0;34m)\u001b[0m\u001b[0;34m,\u001b[0m \u001b[0mrf_confirmed_idxs\u001b[0m\u001b[0;34m)\u001b[0m\u001b[0;34m)\u001b[0m\u001b[0;34m\u001b[0m\u001b[0;34m\u001b[0m\u001b[0m\n\u001b[1;32m      4\u001b[0m \u001b[0;34m\u001b[0m\u001b[0m\n\u001b[1;32m      5\u001b[0m \u001b[0mdata\u001b[0m \u001b[0;34m=\u001b[0m \u001b[0mdata_train\u001b[0m\u001b[0;34m[\u001b[0m\u001b[0;34m:\u001b[0m\u001b[0;34m,\u001b[0m\u001b[0mrf_confirmed_idxs\u001b[0m\u001b[0;34m]\u001b[0m\u001b[0;34m\u001b[0m\u001b[0;34m\u001b[0m\u001b[0m\n",
      "\u001b[0;31mAttributeError\u001b[0m: 'list' object has no attribute 'values'"
     ]
    }
   ],
   "source": [
    "rf_confirmed_tags = sorted(rf_df[\"Tag\"]).values\n",
    "rf_confirmed_idxs = [np.where(headers==tag)[0][0] for tag in rf_confirmed_tags]\n",
    "rf_confirmed_idxs_all = np.concatenate((range(len(target_tags)), rf_confirmed_idxs))\n",
    "\n",
    "data = data_train[:,rf_confirmed_idxs]\n",
    "\n",
    "colnames = [name.split(\"VAL_23\")[1][1:].split(\":\")[0] for name in rf_confirmed_tags]\n",
    "df = pd.DataFrame(data, columns=colnames)\n",
    "corr = df.corr()\n",
    "\n",
    "mask = np.zeros_like(corr, dtype=np.bool)\n",
    "mask[np.triu_indices_from(mask)] = True\n",
    "\n",
    "# Set up the matplotlib figure\n",
    "f, ax = plt.subplots(figsize=(15, 9))\n",
    "\n",
    "# Generate a custom diverging colormap\n",
    "cmap = sns.diverging_palette(220, 10, as_cmap=True)\n",
    "\n",
    "# Draw the heatmap with the mask and correct aspect ratio\n",
    "sns.heatmap(corr, mask=mask, cmap=cmap,\n",
    "            square=True, linewidths=1, cbar_kws={\"shrink\": .6})\n",
    "\n",
    "ax.set_title(\"Correlation plot of the features selected by Random Forest\")\n",
    "f.show()"
   ]
  },
  {
   "cell_type": "markdown",
   "metadata": {},
   "source": [
    "#### Export results"
   ]
  },
  {
   "cell_type": "code",
   "execution_count": 267,
   "metadata": {},
   "outputs": [
    {
     "name": "stdout",
     "output_type": "stream",
     "text": [
      "(53211, 16)\n",
      "(17737, 16)\n",
      "(17737, 16)\n",
      "Saving to file ...\n",
      "... success!\n"
     ]
    }
   ],
   "source": [
    "rf_confirmed_tags = rf_df[\"Tag\"].values\n",
    "rf_confirmed_idxs = sorted([np.where(headers==tag)[0][0] for tag in rf_confirmed_tags])\n",
    "rf_confirmed_idxs_all = np.concatenate(([0,1,2], rf_confirmed_idxs))\n",
    "\n",
    "train_rf = data_train[:,rf_confirmed_idxs_all]\n",
    "valid_rf = data_valid[:,rf_confirmed_idxs_all]\n",
    "test_rf = data_test[:, rf_confirmed_idxs_all]\n",
    "\n",
    "print(train_rf.shape)\n",
    "print(valid_rf.shape)\n",
    "print(test_rf.shape)\n",
    "\n",
    "path = ROOT_PATH + \"data/metadata/feature_selection/\"\n",
    "pd.Series(sorted(rf_confirmed_tags)).to_csv(path + \"features_rf.csv\", index=False)\n",
    "\n",
    "path = ROOT_PATH + \"data/feature_selection/\"\n",
    "print(\"Saving to file ...\")\n",
    "np.save(path + \"train_rf.npy\", train_rf)\n",
    "np.save(path + \"valid_rf.npy\", valid_rf)\n",
    "np.save(path + \"test_rf.npy\", test_rf)\n",
    "print(\"... success!\")"
   ]
  },
  {
   "cell_type": "code",
   "execution_count": 268,
   "metadata": {},
   "outputs": [
    {
     "data": {
      "image/png": "[encoded data removed]",
      "text/plain": [
       "<Figure size 864x432 with 1 Axes>"
      ]
     },
     "metadata": {},
     "output_type": "display_data"
    },
    {
     "name": "stdout",
     "output_type": "stream",
     "text": [
      "Number of components (99% var expl.): 4\n"
     ]
    }
   ],
   "source": [
    "pca = PCA().fit(data_train[:,rf_confirmed_idxs])\n",
    "\n",
    "plt.figure()\n",
    "plt.plot(np.cumsum(pca.explained_variance_ratio_), marker=\"o\", c=\"darkblue\", ms=4, lw=2)\n",
    "plt.title(\"PCA: Cumulative explained variance per component\")\n",
    "plt.xlabel(\"Principal Components\")\n",
    "plt.ylabel(\"Cumulative explained variance\")\n",
    "plt.show()\n",
    "\n",
    "print(\"Number of components (99% var expl.):\", PCA(.99).fit(data_train[:,rf_confirmed_idxs]).n_components_)"
   ]
  },
  {
   "cell_type": "code",
   "execution_count": 270,
   "metadata": {},
   "outputs": [
    {
     "name": "stdout",
     "output_type": "stream",
     "text": [
      "(53211, 7)\n",
      "(17737, 7)\n",
      "(17737, 7)\n",
      "Saving to file ...\n",
      "... success! \n"
     ]
    }
   ],
   "source": [
    "idxs = rf_confirmed_idxs\n",
    "pca = PCA(.99).fit(data_train[:,idxs])\n",
    "\n",
    "rf_train_pca = transform_pca(pca, data_train, idxs)\n",
    "rf_valid_pca = transform_pca(pca, data_valid, idxs)\n",
    "rf_test_pca = transform_pca(pca, data_test, idxs)\n",
    "\n",
    "print(rf_train_pca.shape)\n",
    "print(rf_valid_pca.shape)\n",
    "print(rf_test_pca.shape)\n",
    "\n",
    "print(\"Saving to file ...\")\n",
    "path = ROOT_PATH + \"data/feature_selection/rf/\"\n",
    "np.save(path + \"train_rf_pca.npy\", rf_train_pca)\n",
    "np.save(path + \"valid_rf_pca.npy\", rf_valid_pca)\n",
    "np.save(path + \"test_rf_pca.npy\", rf_test_pca)\n",
    "print(\"... success! \")"
   ]
  },
  {
   "cell_type": "code",
   "execution_count": null,
   "metadata": {},
   "outputs": [],
   "source": []
  }
 ],
 "metadata": {
  "kernelspec": {
   "display_name": "Python 3",
   "language": "python",
   "name": "python3"
  },
  "language_info": {
   "codemirror_mode": {
    "name": "ipython",
    "version": 3
   },
   "file_extension": ".py",
   "mimetype": "text/x-python",
   "name": "python",
   "nbconvert_exporter": "python",
   "pygments_lexer": "ipython3",
   "version": "3.6.7"
  }
 },
 "nbformat": 4,
 "nbformat_minor": 2
}
