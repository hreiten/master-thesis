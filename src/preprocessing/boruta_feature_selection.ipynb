{
 "cells": [
  {
   "cell_type": "code",
   "execution_count": 25,
   "metadata": {},
   "outputs": [],
   "source": [
    "library(Boruta);\n",
    "library(stringr);\n",
    "library(RcppCNPy);"
   ]
  },
  {
   "cell_type": "code",
   "execution_count": 26,
   "metadata": {},
   "outputs": [],
   "source": [
    "columns_trn <- as.vector(unlist(read.csv('../../data/metadata/headers.csv', header = F)))\n",
    "data <- as.data.frame(npyLoad('../../data/scaled/data_scaled_train.npy'))\n",
    "colnames(data) <- columns_trn"
   ]
  },
  {
   "cell_type": "code",
   "execution_count": 27,
   "metadata": {},
   "outputs": [
    {
     "name": "stdout",
     "output_type": "stream",
     "text": [
      "Percentage NAs: 0% \n",
      "Number of rows in data: 53211 \n",
      "Number of cols in data: 44 \n"
     ]
    }
   ],
   "source": [
    "percentage_na <- round(sum(is.na(data)) / nrow(data),2)\n",
    "cat(str_glue('Percentage NAs: {percentage_na}%'), '\\n')\n",
    "cat(str_glue('Number of rows in data: {nrow(data)}'),'\\n')\n",
    "cat(str_glue('Number of cols in data: {ncol(data)}'),'\\n')"
   ]
  },
  {
   "cell_type": "code",
   "execution_count": 28,
   "metadata": {},
   "outputs": [
    {
     "data": {
      "text/html": [
       "<table>\n",
       "<thead><tr><th scope=col>VAL_23-FT-92537-01:X.Value</th><th scope=col>VAL_23-TT-92539:X.Value</th><th scope=col>VAL_23-PT-92539:X.Value</th><th scope=col>VAL_23-FT-92512:X.Value</th><th scope=col>VAL_23-FT-92521:X.Value</th><th scope=col>VAL_23-KA-9101-M01-62B:X.Value</th><th scope=col>VAL_23-KA-9101_APE:VALUE</th><th scope=col>VAL_23-KA-9101_APH:VALUE</th><th scope=col>VAL_23-KA-9101_APR:VALUE</th><th scope=col>VAL_23-KA-9101_ASP:VALUE</th><th scope=col>⋯</th><th scope=col>VAL_23-TT-92533:X.Value</th><th scope=col>VAL_23-VA-9110-M01-EL:XS.MeasuredValues.CurrentL2.Value.Value</th><th scope=col>VAL_23_FIC_92543_01:Z.X.Value</th><th scope=col>VAL_23_FIC_92543_04:Z.X.Value</th><th scope=col>VAL_23_FIC_92543_06:Z.X.Value</th><th scope=col>VAL_23_FIC_92543_08:Z.X.Value</th><th scope=col>VAL_23_KA_9101_M01_62C:Z.X.Value</th><th scope=col>VAL_23_PT_92531:Z.X.Value</th><th scope=col>VAL_23_TT_92532:Z.X.Value</th><th scope=col>VAL_23_ZT_92543:Z.X.Value</th></tr></thead>\n",
       "<tbody>\n",
       "\t<tr><td> 1.10868390</td><td>-0.9018792 </td><td> 0.59226089</td><td>-0.7313163 </td><td>0.6043833  </td><td> 0.84892017</td><td>-0.19985744</td><td>-0.23806987</td><td>-0.2038999 </td><td> 0.38286932</td><td>⋯          </td><td>-0.8067318 </td><td>-0.9643156 </td><td> 0.9088547 </td><td> 0.4870087 </td><td> 1.0100222 </td><td> 0.58421979</td><td> 0.83487319</td><td> 1.02065136</td><td>-0.8445537 </td><td>1.05874355 </td></tr>\n",
       "\t<tr><td> 1.67168208</td><td>-0.9847118 </td><td> 1.30837675</td><td> 0.5894199 </td><td>0.5082908  </td><td> 1.60264856</td><td>-0.08005929</td><td>-0.17553442</td><td>-0.1084026 </td><td> 0.83193749</td><td>⋯          </td><td>-0.7623305 </td><td>-0.9261422 </td><td>-0.1505350 </td><td> 0.5118983 </td><td> 1.4372998 </td><td> 1.33601192</td><td> 1.62887881</td><td> 1.40063652</td><td>-0.8418645 </td><td>0.08937945 </td></tr>\n",
       "\t<tr><td>-0.38449615</td><td>-0.7414679 </td><td> 0.29999521</td><td>-0.4312286 </td><td>0.2842888  </td><td>-0.06638600</td><td> 0.48270036</td><td> 0.42291562</td><td> 0.6208847 </td><td>-0.43880656</td><td>⋯          </td><td>-0.5011904 </td><td>-0.8398856 </td><td> 0.5109953 </td><td>-0.6635110 </td><td>-0.3897850 </td><td> 0.31556992</td><td>-0.09098419</td><td>-0.39447438</td><td>-0.6729756 </td><td>0.43395928 </td></tr>\n",
       "\t<tr><td> 0.01213974</td><td>-0.4747149 </td><td>-0.32209578</td><td>-0.8871321 </td><td>0.2090211  </td><td>-0.09620271</td><td> 0.03228139</td><td> 0.07564759</td><td> 0.1335119 </td><td> 0.31291724</td><td>⋯          </td><td>-0.4894486 </td><td>-0.8401218 </td><td> 0.9821219 </td><td> 0.1543355 </td><td>-0.3515647 </td><td>-0.29899573</td><td>-0.06741133</td><td>-0.34935793</td><td>-0.5469568 </td><td>0.95258730 </td></tr>\n",
       "\t<tr><td>-0.85412062</td><td>-0.5616767 </td><td>-0.07544574</td><td>-0.8738834 </td><td>0.2928675  </td><td>-0.84694816</td><td> 0.03661857</td><td> 0.06609866</td><td> 0.1261247 </td><td> 0.05593795</td><td>⋯          </td><td>-0.5935931 </td><td>-0.8665451 </td><td> 0.7480929 </td><td>-1.0764860 </td><td>-0.4025461 </td><td>-0.05316308</td><td>-0.71533866</td><td>-0.44030797</td><td>-0.5714308 </td><td>0.63383304 </td></tr>\n",
       "\t<tr><td> 0.93289982</td><td>-0.5863150 </td><td>-0.31996593</td><td>-0.5089724 </td><td>0.4264570  </td><td> 0.59072566</td><td>-0.24896968</td><td>-0.19374227</td><td>-0.1988521 </td><td> 0.37422745</td><td>⋯          </td><td>-0.7276495 </td><td>-0.8726021 </td><td> 0.7171137 </td><td> 0.9581776 </td><td>-0.1106010 </td><td>-0.31959078</td><td> 0.53482285</td><td>-0.07107266</td><td>-0.6574264 </td><td>1.00097645 </td></tr>\n",
       "</tbody>\n",
       "</table>\n"
      ],
      "text/latex": [
       "\\begin{tabular}{r|llllllllllllllllllllllllllllllllllllllllllll}\n",
       " VAL\\_23-FT-92537-01:X.Value & VAL\\_23-TT-92539:X.Value & VAL\\_23-PT-92539:X.Value & VAL\\_23-FT-92512:X.Value & VAL\\_23-FT-92521:X.Value & VAL\\_23-KA-9101-M01-62B:X.Value & VAL\\_23-KA-9101\\_APE:VALUE & VAL\\_23-KA-9101\\_APH:VALUE & VAL\\_23-KA-9101\\_APR:VALUE & VAL\\_23-KA-9101\\_ASP:VALUE & ⋯ & VAL\\_23-TT-92533:X.Value & VAL\\_23-VA-9110-M01-EL:XS.MeasuredValues.CurrentL2.Value.Value & VAL\\_23\\_FIC\\_92543\\_01:Z.X.Value & VAL\\_23\\_FIC\\_92543\\_04:Z.X.Value & VAL\\_23\\_FIC\\_92543\\_06:Z.X.Value & VAL\\_23\\_FIC\\_92543\\_08:Z.X.Value & VAL\\_23\\_KA\\_9101\\_M01\\_62C:Z.X.Value & VAL\\_23\\_PT\\_92531:Z.X.Value & VAL\\_23\\_TT\\_92532:Z.X.Value & VAL\\_23\\_ZT\\_92543:Z.X.Value\\\\\n",
       "\\hline\n",
       "\t  1.10868390 & -0.9018792  &  0.59226089 & -0.7313163  & 0.6043833   &  0.84892017 & -0.19985744 & -0.23806987 & -0.2038999  &  0.38286932 & ⋯           & -0.8067318  & -0.9643156  &  0.9088547  &  0.4870087  &  1.0100222  &  0.58421979 &  0.83487319 &  1.02065136 & -0.8445537  & 1.05874355 \\\\\n",
       "\t  1.67168208 & -0.9847118  &  1.30837675 &  0.5894199  & 0.5082908   &  1.60264856 & -0.08005929 & -0.17553442 & -0.1084026  &  0.83193749 & ⋯           & -0.7623305  & -0.9261422  & -0.1505350  &  0.5118983  &  1.4372998  &  1.33601192 &  1.62887881 &  1.40063652 & -0.8418645  & 0.08937945 \\\\\n",
       "\t -0.38449615 & -0.7414679  &  0.29999521 & -0.4312286  & 0.2842888   & -0.06638600 &  0.48270036 &  0.42291562 &  0.6208847  & -0.43880656 & ⋯           & -0.5011904  & -0.8398856  &  0.5109953  & -0.6635110  & -0.3897850  &  0.31556992 & -0.09098419 & -0.39447438 & -0.6729756  & 0.43395928 \\\\\n",
       "\t  0.01213974 & -0.4747149  & -0.32209578 & -0.8871321  & 0.2090211   & -0.09620271 &  0.03228139 &  0.07564759 &  0.1335119  &  0.31291724 & ⋯           & -0.4894486  & -0.8401218  &  0.9821219  &  0.1543355  & -0.3515647  & -0.29899573 & -0.06741133 & -0.34935793 & -0.5469568  & 0.95258730 \\\\\n",
       "\t -0.85412062 & -0.5616767  & -0.07544574 & -0.8738834  & 0.2928675   & -0.84694816 &  0.03661857 &  0.06609866 &  0.1261247  &  0.05593795 & ⋯           & -0.5935931  & -0.8665451  &  0.7480929  & -1.0764860  & -0.4025461  & -0.05316308 & -0.71533866 & -0.44030797 & -0.5714308  & 0.63383304 \\\\\n",
       "\t  0.93289982 & -0.5863150  & -0.31996593 & -0.5089724  & 0.4264570   &  0.59072566 & -0.24896968 & -0.19374227 & -0.1988521  &  0.37422745 & ⋯           & -0.7276495  & -0.8726021  &  0.7171137  &  0.9581776  & -0.1106010  & -0.31959078 &  0.53482285 & -0.07107266 & -0.6574264  & 1.00097645 \\\\\n",
       "\\end{tabular}\n"
      ],
      "text/markdown": [
       "\n",
       "| VAL_23-FT-92537-01:X.Value | VAL_23-TT-92539:X.Value | VAL_23-PT-92539:X.Value | VAL_23-FT-92512:X.Value | VAL_23-FT-92521:X.Value | VAL_23-KA-9101-M01-62B:X.Value | VAL_23-KA-9101_APE:VALUE | VAL_23-KA-9101_APH:VALUE | VAL_23-KA-9101_APR:VALUE | VAL_23-KA-9101_ASP:VALUE | ⋯ | VAL_23-TT-92533:X.Value | VAL_23-VA-9110-M01-EL:XS.MeasuredValues.CurrentL2.Value.Value | VAL_23_FIC_92543_01:Z.X.Value | VAL_23_FIC_92543_04:Z.X.Value | VAL_23_FIC_92543_06:Z.X.Value | VAL_23_FIC_92543_08:Z.X.Value | VAL_23_KA_9101_M01_62C:Z.X.Value | VAL_23_PT_92531:Z.X.Value | VAL_23_TT_92532:Z.X.Value | VAL_23_ZT_92543:Z.X.Value |\n",
       "|---|---|---|---|---|---|---|---|---|---|---|---|---|---|---|---|---|---|---|---|---|\n",
       "|  1.10868390 | -0.9018792  |  0.59226089 | -0.7313163  | 0.6043833   |  0.84892017 | -0.19985744 | -0.23806987 | -0.2038999  |  0.38286932 | ⋯           | -0.8067318  | -0.9643156  |  0.9088547  |  0.4870087  |  1.0100222  |  0.58421979 |  0.83487319 |  1.02065136 | -0.8445537  | 1.05874355  |\n",
       "|  1.67168208 | -0.9847118  |  1.30837675 |  0.5894199  | 0.5082908   |  1.60264856 | -0.08005929 | -0.17553442 | -0.1084026  |  0.83193749 | ⋯           | -0.7623305  | -0.9261422  | -0.1505350  |  0.5118983  |  1.4372998  |  1.33601192 |  1.62887881 |  1.40063652 | -0.8418645  | 0.08937945  |\n",
       "| -0.38449615 | -0.7414679  |  0.29999521 | -0.4312286  | 0.2842888   | -0.06638600 |  0.48270036 |  0.42291562 |  0.6208847  | -0.43880656 | ⋯           | -0.5011904  | -0.8398856  |  0.5109953  | -0.6635110  | -0.3897850  |  0.31556992 | -0.09098419 | -0.39447438 | -0.6729756  | 0.43395928  |\n",
       "|  0.01213974 | -0.4747149  | -0.32209578 | -0.8871321  | 0.2090211   | -0.09620271 |  0.03228139 |  0.07564759 |  0.1335119  |  0.31291724 | ⋯           | -0.4894486  | -0.8401218  |  0.9821219  |  0.1543355  | -0.3515647  | -0.29899573 | -0.06741133 | -0.34935793 | -0.5469568  | 0.95258730  |\n",
       "| -0.85412062 | -0.5616767  | -0.07544574 | -0.8738834  | 0.2928675   | -0.84694816 |  0.03661857 |  0.06609866 |  0.1261247  |  0.05593795 | ⋯           | -0.5935931  | -0.8665451  |  0.7480929  | -1.0764860  | -0.4025461  | -0.05316308 | -0.71533866 | -0.44030797 | -0.5714308  | 0.63383304  |\n",
       "|  0.93289982 | -0.5863150  | -0.31996593 | -0.5089724  | 0.4264570   |  0.59072566 | -0.24896968 | -0.19374227 | -0.1988521  |  0.37422745 | ⋯           | -0.7276495  | -0.8726021  |  0.7171137  |  0.9581776  | -0.1106010  | -0.31959078 |  0.53482285 | -0.07107266 | -0.6574264  | 1.00097645  |\n",
       "\n"
      ],
      "text/plain": [
       "  VAL_23-FT-92537-01:X.Value VAL_23-TT-92539:X.Value VAL_23-PT-92539:X.Value\n",
       "1  1.10868390                -0.9018792               0.59226089            \n",
       "2  1.67168208                -0.9847118               1.30837675            \n",
       "3 -0.38449615                -0.7414679               0.29999521            \n",
       "4  0.01213974                -0.4747149              -0.32209578            \n",
       "5 -0.85412062                -0.5616767              -0.07544574            \n",
       "6  0.93289982                -0.5863150              -0.31996593            \n",
       "  VAL_23-FT-92512:X.Value VAL_23-FT-92521:X.Value\n",
       "1 -0.7313163              0.6043833              \n",
       "2  0.5894199              0.5082908              \n",
       "3 -0.4312286              0.2842888              \n",
       "4 -0.8871321              0.2090211              \n",
       "5 -0.8738834              0.2928675              \n",
       "6 -0.5089724              0.4264570              \n",
       "  VAL_23-KA-9101-M01-62B:X.Value VAL_23-KA-9101_APE:VALUE\n",
       "1  0.84892017                    -0.19985744             \n",
       "2  1.60264856                    -0.08005929             \n",
       "3 -0.06638600                     0.48270036             \n",
       "4 -0.09620271                     0.03228139             \n",
       "5 -0.84694816                     0.03661857             \n",
       "6  0.59072566                    -0.24896968             \n",
       "  VAL_23-KA-9101_APH:VALUE VAL_23-KA-9101_APR:VALUE VAL_23-KA-9101_ASP:VALUE ⋯\n",
       "1 -0.23806987              -0.2038999                0.38286932              ⋯\n",
       "2 -0.17553442              -0.1084026                0.83193749              ⋯\n",
       "3  0.42291562               0.6208847               -0.43880656              ⋯\n",
       "4  0.07564759               0.1335119                0.31291724              ⋯\n",
       "5  0.06609866               0.1261247                0.05593795              ⋯\n",
       "6 -0.19374227              -0.1988521                0.37422745              ⋯\n",
       "  VAL_23-TT-92533:X.Value\n",
       "1 -0.8067318             \n",
       "2 -0.7623305             \n",
       "3 -0.5011904             \n",
       "4 -0.4894486             \n",
       "5 -0.5935931             \n",
       "6 -0.7276495             \n",
       "  VAL_23-VA-9110-M01-EL:XS.MeasuredValues.CurrentL2.Value.Value\n",
       "1 -0.9643156                                                   \n",
       "2 -0.9261422                                                   \n",
       "3 -0.8398856                                                   \n",
       "4 -0.8401218                                                   \n",
       "5 -0.8665451                                                   \n",
       "6 -0.8726021                                                   \n",
       "  VAL_23_FIC_92543_01:Z.X.Value VAL_23_FIC_92543_04:Z.X.Value\n",
       "1  0.9088547                     0.4870087                   \n",
       "2 -0.1505350                     0.5118983                   \n",
       "3  0.5109953                    -0.6635110                   \n",
       "4  0.9821219                     0.1543355                   \n",
       "5  0.7480929                    -1.0764860                   \n",
       "6  0.7171137                     0.9581776                   \n",
       "  VAL_23_FIC_92543_06:Z.X.Value VAL_23_FIC_92543_08:Z.X.Value\n",
       "1  1.0100222                     0.58421979                  \n",
       "2  1.4372998                     1.33601192                  \n",
       "3 -0.3897850                     0.31556992                  \n",
       "4 -0.3515647                    -0.29899573                  \n",
       "5 -0.4025461                    -0.05316308                  \n",
       "6 -0.1106010                    -0.31959078                  \n",
       "  VAL_23_KA_9101_M01_62C:Z.X.Value VAL_23_PT_92531:Z.X.Value\n",
       "1  0.83487319                       1.02065136              \n",
       "2  1.62887881                       1.40063652              \n",
       "3 -0.09098419                      -0.39447438              \n",
       "4 -0.06741133                      -0.34935793              \n",
       "5 -0.71533866                      -0.44030797              \n",
       "6  0.53482285                      -0.07107266              \n",
       "  VAL_23_TT_92532:Z.X.Value VAL_23_ZT_92543:Z.X.Value\n",
       "1 -0.8445537                1.05874355               \n",
       "2 -0.8418645                0.08937945               \n",
       "3 -0.6729756                0.43395928               \n",
       "4 -0.5469568                0.95258730               \n",
       "5 -0.5714308                0.63383304               \n",
       "6 -0.6574264                1.00097645               "
      ]
     },
     "metadata": {},
     "output_type": "display_data"
    }
   ],
   "source": [
    "head(data)"
   ]
  },
  {
   "cell_type": "code",
   "execution_count": 29,
   "metadata": {},
   "outputs": [],
   "source": [
    "response <- 'VAL_23-TT-92539:X.Value'\n",
    "names(data)[names(data) == response] <- 'response'"
   ]
  },
  {
   "cell_type": "code",
   "execution_count": 30,
   "metadata": {},
   "outputs": [
    {
     "data": {
      "text/html": [
       "<ol class=list-inline>\n",
       "\t<li>-0.901879247005466</li>\n",
       "\t<li>-0.984711798590605</li>\n",
       "\t<li>-0.741467889492782</li>\n",
       "\t<li>-0.474714919757369</li>\n",
       "\t<li>-0.561676664049082</li>\n",
       "\t<li>-0.586314975827773</li>\n",
       "</ol>\n"
      ],
      "text/latex": [
       "\\begin{enumerate*}\n",
       "\\item -0.901879247005466\n",
       "\\item -0.984711798590605\n",
       "\\item -0.741467889492782\n",
       "\\item -0.474714919757369\n",
       "\\item -0.561676664049082\n",
       "\\item -0.586314975827773\n",
       "\\end{enumerate*}\n"
      ],
      "text/markdown": [
       "1. -0.901879247005466\n",
       "2. -0.984711798590605\n",
       "3. -0.741467889492782\n",
       "4. -0.474714919757369\n",
       "5. -0.561676664049082\n",
       "6. -0.586314975827773\n",
       "\n",
       "\n"
      ],
      "text/plain": [
       "[1] -0.9018792 -0.9847118 -0.7414679 -0.4747149 -0.5616767 -0.5863150"
      ]
     },
     "metadata": {},
     "output_type": "display_data"
    }
   ],
   "source": [
    "head(data$response)"
   ]
  },
  {
   "cell_type": "code",
   "execution_count": 31,
   "metadata": {},
   "outputs": [
    {
     "name": "stderr",
     "output_type": "stream",
     "text": [
      " 1. run of importance source...\n",
      " 2. run of importance source...\n",
      " 3. run of importance source...\n",
      " 4. run of importance source...\n",
      " 5. run of importance source...\n",
      " 6. run of importance source...\n",
      " 7. run of importance source...\n",
      " 8. run of importance source...\n",
      " 9. run of importance source...\n",
      " 10. run of importance source...\n",
      " 11. run of importance source...\n",
      " 12. run of importance source...\n",
      " 13. run of importance source...\n",
      "After 13 iterations, +54 secs: \n",
      " confirmed 39 attributes: `VAL_23_FIC_92543_01:Z.X.Value`, `VAL_23_FIC_92543_04:Z.X.Value`, `VAL_23_FIC_92543_06:Z.X.Value`, `VAL_23_FIC_92543_08:Z.X.Value`, `VAL_23_KA_9101_M01_62C:Z.X.Value` and 34 more;\n",
      " still have 4 attributes left.\n",
      "\n",
      " 14. run of importance source...\n",
      " 15. run of importance source...\n",
      " 16. run of importance source...\n",
      " 17. run of importance source...\n",
      "After 17 iterations, +1.2 mins: \n",
      " confirmed 3 attributes: `VAL_23_PT_92531:Z.X.Value`, `VAL_23-KA-9101_PHD:VALUE`, `VAL_23-PT-92532:X.Value`;\n",
      " still have 1 attribute left.\n",
      "\n",
      " 18. run of importance source...\n",
      " 19. run of importance source...\n",
      " 20. run of importance source...\n",
      "After 20 iterations, +1.4 mins: \n",
      " confirmed 1 attribute: `VAL_23-PT-92535:X.Value`;\n",
      " no more attributes left.\n",
      "\n"
     ]
    }
   ],
   "source": [
    "boruta_output <- Boruta(response ~., data = head(data, 5000), doTrace = 2, ntree = 500)"
   ]
  },
  {
   "cell_type": "code",
   "execution_count": 32,
   "metadata": {},
   "outputs": [
    {
     "name": "stderr",
     "output_type": "stream",
     "text": [
      "Warning message in TentativeRoughFix(boruta_output):\n",
      "“There are no Tentative attributes! Returning original object.”"
     ]
    },
    {
     "data": {
      "text/plain": [
       "Boruta performed 20 iterations in 1.379086 mins.\n",
       " 43 attributes confirmed important: `VAL_23_FIC_92543_01:Z.X.Value`,\n",
       "`VAL_23_FIC_92543_04:Z.X.Value`, `VAL_23_FIC_92543_06:Z.X.Value`,\n",
       "`VAL_23_FIC_92543_08:Z.X.Value`, `VAL_23_KA_9101_M01_62C:Z.X.Value` and\n",
       "38 more;\n",
       " No attributes deemed unimportant."
      ]
     },
     "metadata": {},
     "output_type": "display_data"
    }
   ],
   "source": [
    "boruta_bank <- TentativeRoughFix(boruta_output)\n",
    "boruta_bank"
   ]
  },
  {
   "cell_type": "code",
   "execution_count": 33,
   "metadata": {},
   "outputs": [
    {
     "data": {
      "text/html": [
       "<table>\n",
       "<thead><tr><th></th><th scope=col>meanImp</th><th scope=col>medianImp</th><th scope=col>minImp</th><th scope=col>maxImp</th><th scope=col>normHits</th><th scope=col>decision</th></tr></thead>\n",
       "<tbody>\n",
       "\t<tr><th scope=row>`VAL_23-TT-92533:X.Value`</th><td>33.73168 </td><td>33.54707 </td><td>32.077665</td><td>35.82499 </td><td>1        </td><td>Confirmed</td></tr>\n",
       "\t<tr><th scope=row>`VAL_23_TT_92532:Z.X.Value`</th><td>33.69448 </td><td>34.01108 </td><td>31.514721</td><td>35.39252 </td><td>1        </td><td>Confirmed</td></tr>\n",
       "\t<tr><th scope=row>`VAL_23-KA-9101_APE:VALUE`</th><td>30.92033 </td><td>31.46179 </td><td>23.805947</td><td>33.95240 </td><td>1        </td><td>Confirmed</td></tr>\n",
       "\t<tr><th scope=row>`VAL_23-KA-9101_SPD:VALUE`</th><td>21.50111 </td><td>22.34082 </td><td> 7.768724</td><td>27.50127 </td><td>1        </td><td>Confirmed</td></tr>\n",
       "\t<tr><th scope=row>`VAL_23-VA-9110-M01-EL:XS.MeasuredValues.CurrentL2.Value.Value`</th><td>18.05759 </td><td>18.13243 </td><td>13.758592</td><td>19.64273 </td><td>1        </td><td>Confirmed</td></tr>\n",
       "\t<tr><th scope=row>`VAL_23-TIC-92504:Z.X.Value`</th><td>16.01886 </td><td>17.21653 </td><td> 7.919354</td><td>19.22512 </td><td>1        </td><td>Confirmed</td></tr>\n",
       "\t<tr><th scope=row>`VAL_23-FT-92521:X.Value`</th><td>15.29845 </td><td>15.23001 </td><td>13.621572</td><td>16.32814 </td><td>1        </td><td>Confirmed</td></tr>\n",
       "\t<tr><th scope=row>`VAL_23_FIC_92543_01:Z.X.Value`</th><td>15.03820 </td><td>15.05145 </td><td>13.241605</td><td>16.43365 </td><td>1        </td><td>Confirmed</td></tr>\n",
       "\t<tr><th scope=row>`VAL_23-LIC-92521:Z.Y.Value`</th><td>14.80153 </td><td>14.88801 </td><td>12.942453</td><td>16.23766 </td><td>1        </td><td>Confirmed</td></tr>\n",
       "\t<tr><th scope=row>`VAL_23_FIC_92543_04:Z.X.Value`</th><td>14.65637 </td><td>14.71526 </td><td>11.453160</td><td>16.79576 </td><td>1        </td><td>Confirmed</td></tr>\n",
       "</tbody>\n",
       "</table>\n"
      ],
      "text/latex": [
       "\\begin{tabular}{r|llllll}\n",
       "  & meanImp & medianImp & minImp & maxImp & normHits & decision\\\\\n",
       "\\hline\n",
       "\t`VAL\\_23-TT-92533:X.Value` & 33.73168  & 33.54707  & 32.077665 & 35.82499  & 1         & Confirmed\\\\\n",
       "\t`VAL\\_23\\_TT\\_92532:Z.X.Value` & 33.69448  & 34.01108  & 31.514721 & 35.39252  & 1         & Confirmed\\\\\n",
       "\t`VAL\\_23-KA-9101\\_APE:VALUE` & 30.92033  & 31.46179  & 23.805947 & 33.95240  & 1         & Confirmed\\\\\n",
       "\t`VAL\\_23-KA-9101\\_SPD:VALUE` & 21.50111  & 22.34082  &  7.768724 & 27.50127  & 1         & Confirmed\\\\\n",
       "\t`VAL\\_23-VA-9110-M01-EL:XS.MeasuredValues.CurrentL2.Value.Value` & 18.05759  & 18.13243  & 13.758592 & 19.64273  & 1         & Confirmed\\\\\n",
       "\t`VAL\\_23-TIC-92504:Z.X.Value` & 16.01886  & 17.21653  &  7.919354 & 19.22512  & 1         & Confirmed\\\\\n",
       "\t`VAL\\_23-FT-92521:X.Value` & 15.29845  & 15.23001  & 13.621572 & 16.32814  & 1         & Confirmed\\\\\n",
       "\t`VAL\\_23\\_FIC\\_92543\\_01:Z.X.Value` & 15.03820  & 15.05145  & 13.241605 & 16.43365  & 1         & Confirmed\\\\\n",
       "\t`VAL\\_23-LIC-92521:Z.Y.Value` & 14.80153  & 14.88801  & 12.942453 & 16.23766  & 1         & Confirmed\\\\\n",
       "\t`VAL\\_23\\_FIC\\_92543\\_04:Z.X.Value` & 14.65637  & 14.71526  & 11.453160 & 16.79576  & 1         & Confirmed\\\\\n",
       "\\end{tabular}\n"
      ],
      "text/markdown": [
       "\n",
       "| <!--/--> | meanImp | medianImp | minImp | maxImp | normHits | decision |\n",
       "|---|---|---|---|---|---|---|\n",
       "| `VAL_23-TT-92533:X.Value` | 33.73168  | 33.54707  | 32.077665 | 35.82499  | 1         | Confirmed |\n",
       "| `VAL_23_TT_92532:Z.X.Value` | 33.69448  | 34.01108  | 31.514721 | 35.39252  | 1         | Confirmed |\n",
       "| `VAL_23-KA-9101_APE:VALUE` | 30.92033  | 31.46179  | 23.805947 | 33.95240  | 1         | Confirmed |\n",
       "| `VAL_23-KA-9101_SPD:VALUE` | 21.50111  | 22.34082  |  7.768724 | 27.50127  | 1         | Confirmed |\n",
       "| `VAL_23-VA-9110-M01-EL:XS.MeasuredValues.CurrentL2.Value.Value` | 18.05759  | 18.13243  | 13.758592 | 19.64273  | 1         | Confirmed |\n",
       "| `VAL_23-TIC-92504:Z.X.Value` | 16.01886  | 17.21653  |  7.919354 | 19.22512  | 1         | Confirmed |\n",
       "| `VAL_23-FT-92521:X.Value` | 15.29845  | 15.23001  | 13.621572 | 16.32814  | 1         | Confirmed |\n",
       "| `VAL_23_FIC_92543_01:Z.X.Value` | 15.03820  | 15.05145  | 13.241605 | 16.43365  | 1         | Confirmed |\n",
       "| `VAL_23-LIC-92521:Z.Y.Value` | 14.80153  | 14.88801  | 12.942453 | 16.23766  | 1         | Confirmed |\n",
       "| `VAL_23_FIC_92543_04:Z.X.Value` | 14.65637  | 14.71526  | 11.453160 | 16.79576  | 1         | Confirmed |\n",
       "\n"
      ],
      "text/plain": [
       "                                                                meanImp \n",
       "`VAL_23-TT-92533:X.Value`                                       33.73168\n",
       "`VAL_23_TT_92532:Z.X.Value`                                     33.69448\n",
       "`VAL_23-KA-9101_APE:VALUE`                                      30.92033\n",
       "`VAL_23-KA-9101_SPD:VALUE`                                      21.50111\n",
       "`VAL_23-VA-9110-M01-EL:XS.MeasuredValues.CurrentL2.Value.Value` 18.05759\n",
       "`VAL_23-TIC-92504:Z.X.Value`                                    16.01886\n",
       "`VAL_23-FT-92521:X.Value`                                       15.29845\n",
       "`VAL_23_FIC_92543_01:Z.X.Value`                                 15.03820\n",
       "`VAL_23-LIC-92521:Z.Y.Value`                                    14.80153\n",
       "`VAL_23_FIC_92543_04:Z.X.Value`                                 14.65637\n",
       "                                                                medianImp\n",
       "`VAL_23-TT-92533:X.Value`                                       33.54707 \n",
       "`VAL_23_TT_92532:Z.X.Value`                                     34.01108 \n",
       "`VAL_23-KA-9101_APE:VALUE`                                      31.46179 \n",
       "`VAL_23-KA-9101_SPD:VALUE`                                      22.34082 \n",
       "`VAL_23-VA-9110-M01-EL:XS.MeasuredValues.CurrentL2.Value.Value` 18.13243 \n",
       "`VAL_23-TIC-92504:Z.X.Value`                                    17.21653 \n",
       "`VAL_23-FT-92521:X.Value`                                       15.23001 \n",
       "`VAL_23_FIC_92543_01:Z.X.Value`                                 15.05145 \n",
       "`VAL_23-LIC-92521:Z.Y.Value`                                    14.88801 \n",
       "`VAL_23_FIC_92543_04:Z.X.Value`                                 14.71526 \n",
       "                                                                minImp   \n",
       "`VAL_23-TT-92533:X.Value`                                       32.077665\n",
       "`VAL_23_TT_92532:Z.X.Value`                                     31.514721\n",
       "`VAL_23-KA-9101_APE:VALUE`                                      23.805947\n",
       "`VAL_23-KA-9101_SPD:VALUE`                                       7.768724\n",
       "`VAL_23-VA-9110-M01-EL:XS.MeasuredValues.CurrentL2.Value.Value` 13.758592\n",
       "`VAL_23-TIC-92504:Z.X.Value`                                     7.919354\n",
       "`VAL_23-FT-92521:X.Value`                                       13.621572\n",
       "`VAL_23_FIC_92543_01:Z.X.Value`                                 13.241605\n",
       "`VAL_23-LIC-92521:Z.Y.Value`                                    12.942453\n",
       "`VAL_23_FIC_92543_04:Z.X.Value`                                 11.453160\n",
       "                                                                maxImp  \n",
       "`VAL_23-TT-92533:X.Value`                                       35.82499\n",
       "`VAL_23_TT_92532:Z.X.Value`                                     35.39252\n",
       "`VAL_23-KA-9101_APE:VALUE`                                      33.95240\n",
       "`VAL_23-KA-9101_SPD:VALUE`                                      27.50127\n",
       "`VAL_23-VA-9110-M01-EL:XS.MeasuredValues.CurrentL2.Value.Value` 19.64273\n",
       "`VAL_23-TIC-92504:Z.X.Value`                                    19.22512\n",
       "`VAL_23-FT-92521:X.Value`                                       16.32814\n",
       "`VAL_23_FIC_92543_01:Z.X.Value`                                 16.43365\n",
       "`VAL_23-LIC-92521:Z.Y.Value`                                    16.23766\n",
       "`VAL_23_FIC_92543_04:Z.X.Value`                                 16.79576\n",
       "                                                                normHits\n",
       "`VAL_23-TT-92533:X.Value`                                       1       \n",
       "`VAL_23_TT_92532:Z.X.Value`                                     1       \n",
       "`VAL_23-KA-9101_APE:VALUE`                                      1       \n",
       "`VAL_23-KA-9101_SPD:VALUE`                                      1       \n",
       "`VAL_23-VA-9110-M01-EL:XS.MeasuredValues.CurrentL2.Value.Value` 1       \n",
       "`VAL_23-TIC-92504:Z.X.Value`                                    1       \n",
       "`VAL_23-FT-92521:X.Value`                                       1       \n",
       "`VAL_23_FIC_92543_01:Z.X.Value`                                 1       \n",
       "`VAL_23-LIC-92521:Z.Y.Value`                                    1       \n",
       "`VAL_23_FIC_92543_04:Z.X.Value`                                 1       \n",
       "                                                                decision \n",
       "`VAL_23-TT-92533:X.Value`                                       Confirmed\n",
       "`VAL_23_TT_92532:Z.X.Value`                                     Confirmed\n",
       "`VAL_23-KA-9101_APE:VALUE`                                      Confirmed\n",
       "`VAL_23-KA-9101_SPD:VALUE`                                      Confirmed\n",
       "`VAL_23-VA-9110-M01-EL:XS.MeasuredValues.CurrentL2.Value.Value` Confirmed\n",
       "`VAL_23-TIC-92504:Z.X.Value`                                    Confirmed\n",
       "`VAL_23-FT-92521:X.Value`                                       Confirmed\n",
       "`VAL_23_FIC_92543_01:Z.X.Value`                                 Confirmed\n",
       "`VAL_23-LIC-92521:Z.Y.Value`                                    Confirmed\n",
       "`VAL_23_FIC_92543_04:Z.X.Value`                                 Confirmed"
      ]
     },
     "metadata": {},
     "output_type": "display_data"
    }
   ],
   "source": [
    "selected_attributes <- attStats(boruta_bank)\n",
    "selected_attributes_sorted <- as.data.frame(\n",
    "    selected_attributes[\n",
    "        order(selected_attributes$meanImp, decreasing = T), \n",
    "    ]\n",
    ")\n",
    "head(selected_attributes_sorted, 10)"
   ]
  },
  {
   "cell_type": "code",
   "execution_count": 34,
   "metadata": {},
   "outputs": [
    {
     "data": {
      "image/png": "[encoded data removed]",
      "text/plain": [
       "plot without title"
      ]
     },
     "metadata": {},
     "output_type": "display_data"
    }
   ],
   "source": [
    "plot(boruta_output, xlab = \"\", xaxt = \"n\")\n",
    "lz <- lapply(1:ncol(boruta_bank$ImpHistory), function(i) boruta_bank$ImpHistory[is.finite(boruta_bank$ImpHistory[,i]),i])\n",
    "names(lz) <- colnames(boruta_bank$ImpHistory)\n",
    "Labels <- sort(sapply(lz,median))   "
   ]
  }
 ],
 "metadata": {
  "kernelspec": {
   "display_name": "R",
   "language": "R",
   "name": "ir"
  },
  "language_info": {
   "codemirror_mode": "r",
   "file_extension": ".r",
   "mimetype": "text/x-r-source",
   "name": "R",
   "pygments_lexer": "r",
   "version": "3.4.4"
  }
 },
 "nbformat": 4,
 "nbformat_minor": 2
}
